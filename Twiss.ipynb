{
 "cells": [
  {
   "cell_type": "markdown",
   "metadata": {},
   "source": [
    "## Twiss parameters and machine layout plots from [Elegant](https://ops.aps.anl.gov/manuals/elegant_latest/elegant.html) output (using pandas & plotly)"
   ]
  },
  {
   "cell_type": "markdown",
   "metadata": {},
   "source": [
    "[A. Petrenko](http://www.inp.nsk.su/~petrenko/) (Novosibirsk, 2021-2023)"
   ]
  },
  {
   "cell_type": "code",
   "execution_count": 1,
   "metadata": {},
   "outputs": [],
   "source": [
    "import numpy as np\n",
    "import pandas as pd\n",
    "import os\n",
    "import glob\n",
    "from io import StringIO\n",
    "\n",
    "from IPython.display import Latex\n",
    "from IPython.display import Image"
   ]
  },
  {
   "cell_type": "markdown",
   "metadata": {},
   "source": [
    "<a href=https://ops.aps.anl.gov/manuals/elegant_latest/elegant.html>Elegant</a> lattice file:"
   ]
  },
  {
   "cell_type": "code",
   "execution_count": 2,
   "metadata": {},
   "outputs": [
    {
     "name": "stdout",
     "output_type": "stream",
     "text": [
      "CAV     : RFCA,  L=0.15, VOLT=200e3,FREQ=700e6,PHASE=0.00106193\n",
      "D5      : DRIFT, L=0.21                                   \n",
      "QD1     : QUAD, L=0.18, K1=-7.05620223 \n",
      "D6      : DRIFT, L=0.12                    \n",
      "QF1     : QUAD, L=0.18, K1=13.7964021 \n",
      "QF2     : QUAD, L=0.18, K1=12.0670253 \n",
      "QF3     : QUAD, L=0.18, K1=13.7964021 \n",
      "D7      : DRIFT, L=0.22                  \n",
      "QD2     : QUAD, L=0.2, K1=-3.3450147\n",
      "D8      : DRIFT, L=1.08                \n",
      "QD3     : QUAD, L=0.2, K1=-9.16643151    \n",
      "D9      : DRIFT, L=0.1                \n",
      "QF4     : QUAD, L=0.2, K1=8.54245738\n",
      "D10     : DRIFT, L=0.5575              \n",
      "\n",
      "DB      : SBEND, L=0.88, ANGLE=0.785399, K1=-2.3515579 \n",
      "\n",
      "D1      : DRIFT, L=0.18\n",
      "D2      : DRIFT, L=0.105\n",
      "D3      : DRIFT, L=0.155\n",
      "D4      : DRIFT, L=0.07\n",
      "\n",
      "SZ1     : SEXTUPOL, L=0.08, K2=-250\n",
      "SZ2     : SEXTUPOL, L=0.08, K2=-250\n",
      "SX1     : SEXTUPOL, L=0.08, K2=160\n",
      "SX2     : SEXTUPOL, L=0.08, K2=160\n",
      "\n",
      "BEND1 : LINE=(D1,DB,D2,SZ1,D3,SX1,D4)\n",
      "BEND2 : LINE=(D4,SX2,D3,SZ2,D2,DB,D1)\n",
      "\n",
      "DAMP    : LINE=(CAV,D5,QD1,D6,QF1,BEND1,QF2,BEND2,QF3,D7, &\n",
      "                 QD2,D8,QD3,D9,QF4,D10)\n",
      "\n",
      "! machine : LINE=(DAMP,-DAMP,DAMP,-DAMP)\n",
      " machine : LINE=(-DAMP,DAMP,-DAMP,DAMP)\n"
     ]
    }
   ],
   "source": [
    "with open(\"machine.lte\", \"r\") as f:\n",
    "    print(f.read())"
   ]
  },
  {
   "cell_type": "code",
   "execution_count": 3,
   "metadata": {},
   "outputs": [
    {
     "name": "stdout",
     "output_type": "stream",
     "text": [
      "&transmute_elements name=*, type=WATCH, new_type=DRIF &end\n",
      "\n",
      "&divide_elements\n",
      "    name = *\n",
      "    maximum_length = 0.1\n",
      "&end\n",
      "\n",
      "&run_setup\n",
      "    lattice = machine.lte\n",
      "    magnets = results/beamline.mag\n",
      "!    centroid = results/beam.cen\n",
      "!    parameters = results/parameters.sdds\n",
      "    p_central_mev = 1500.0\n",
      "    use_beamline = machine\n",
      "    default_order=2\n",
      "&end\n",
      "\n",
      "&twiss_output\n",
      "    filename = results/twiss.twi\n",
      "    matched = 1\n",
      "&end\n",
      "\n",
      "&floor_coordinates\n",
      "    filename = results/xyz.sdds\n",
      "    include_vertices = 0\n",
      "    vertices_only = 0\n",
      "    magnet_centers = 0\n",
      "&end\n",
      "\n",
      "&run_control &end\n",
      "\n",
      "&bunched_beam &end\n",
      "\n",
      "&track &end\n"
     ]
    }
   ],
   "source": [
    "with open(\"twiss.ele\", \"r\") as f:\n",
    "    print(f.read())"
   ]
  },
  {
   "cell_type": "markdown",
   "metadata": {},
   "source": [
    "Empty the 'results/' folder:"
   ]
  },
  {
   "cell_type": "code",
   "execution_count": 4,
   "metadata": {},
   "outputs": [],
   "source": [
    "if not os.path.exists(\"results/\"): os.mkdir(\"results/\")\n",
    "# clear the \"results\" folder:\n",
    "for f in glob.glob('results/*'): os.remove(f)"
   ]
  },
  {
   "cell_type": "markdown",
   "metadata": {},
   "source": [
    "Run Elegant"
   ]
  },
  {
   "cell_type": "code",
   "execution_count": 5,
   "metadata": {},
   "outputs": [
    {
     "name": "stdout",
     "output_type": "stream",
     "text": [
      "&end\n",
      "Updating floor coordinates\n",
      "tracking step 1\n",
      "generating bunch 1\n",
      "tracking 1 particles\n",
      "23 Mar 25 11:40:58: This step establishes energy profile vs s (fiducial beam).\n",
      "23 Mar 25 11:40:58: Rf phases/references reset.\n",
      "Post-tracking output completed.\n",
      "Tracking step completed   ET:  00:00:0.045 CP:    0.04 BIO:0 DIO:0 PF:0 MEM:7353\n",
      "\n",
      "\n",
      "Finished tracking.\n",
      "End of input data encountered.\n",
      "statistics:    ET:  00:00:0.045 CP:    0.04 BIO:0 DIO:0 PF:0 MEM:7353\n",
      "=====================================================================================\n",
      "Thanks for using elegant.  Please cite the following reference in your publications:\n",
      "  M. Borland, \"elegant: A Flexible SDDS-Compliant Code for Accelerator Simulation,\"\n",
      "  Advanced Photon Source LS-287, September 2000.\n",
      "If you use a modified version, please indicate this in all publications.\n",
      "=====================================================================================\n"
     ]
    }
   ],
   "source": [
    "out = !elegant twiss.ele\n",
    "print(\"\\n\".join(out[-20:]))"
   ]
  },
  {
   "cell_type": "code",
   "execution_count": 6,
   "metadata": {},
   "outputs": [
    {
     "data": {
      "text/plain": [
       "['xyz.sdds', 'beamline.mag', 'twiss.twi']"
      ]
     },
     "execution_count": 6,
     "metadata": {},
     "output_type": "execute_result"
    }
   ],
   "source": [
    "os.listdir(\"results\")"
   ]
  },
  {
   "cell_type": "code",
   "execution_count": 7,
   "metadata": {},
   "outputs": [],
   "source": [
    "# read SDDS-file into pandas dataframe\n",
    "def sdds2df(sdds_file, columns=\"all\"):\n",
    "    if columns==\"all\":\n",
    "        columns = !sddsquery $sdds_file -columnlist\n",
    "    col_str = \"-col=\" + \",\".join(columns)\n",
    "    out = !sdds2stream $sdds_file $col_str -pipe=out\n",
    "    DATA = StringIO(\"\\n\".join(out))\n",
    "    df = pd.read_csv(DATA, names=columns, sep=r'\\s+')\n",
    "    return df"
   ]
  },
  {
   "cell_type": "code",
   "execution_count": 8,
   "metadata": {},
   "outputs": [],
   "source": [
    "df_mag = sdds2df('results/beamline.mag')"
   ]
  },
  {
   "cell_type": "code",
   "execution_count": 9,
   "metadata": {},
   "outputs": [
    {
     "data": {
      "text/html": [
       "<div>\n",
       "<style scoped>\n",
       "    .dataframe tbody tr th:only-of-type {\n",
       "        vertical-align: middle;\n",
       "    }\n",
       "\n",
       "    .dataframe tbody tr th {\n",
       "        vertical-align: top;\n",
       "    }\n",
       "\n",
       "    .dataframe thead th {\n",
       "        text-align: right;\n",
       "    }\n",
       "</style>\n",
       "<table border=\"1\" class=\"dataframe\">\n",
       "  <thead>\n",
       "    <tr style=\"text-align: right;\">\n",
       "      <th></th>\n",
       "      <th>ElementName</th>\n",
       "      <th>ElementType</th>\n",
       "      <th>s</th>\n",
       "      <th>Profile</th>\n",
       "    </tr>\n",
       "  </thead>\n",
       "  <tbody>\n",
       "    <tr>\n",
       "      <th>1254</th>\n",
       "      <td>D10</td>\n",
       "      <td>DRIF</td>\n",
       "      <td>27.33708</td>\n",
       "      <td>0.0</td>\n",
       "    </tr>\n",
       "    <tr>\n",
       "      <th>1255</th>\n",
       "      <td>D10</td>\n",
       "      <td>DRIF</td>\n",
       "      <td>27.33708</td>\n",
       "      <td>0.0</td>\n",
       "    </tr>\n",
       "    <tr>\n",
       "      <th>1256</th>\n",
       "      <td>D10</td>\n",
       "      <td>DRIF</td>\n",
       "      <td>27.43000</td>\n",
       "      <td>0.0</td>\n",
       "    </tr>\n",
       "  </tbody>\n",
       "</table>\n",
       "</div>"
      ],
      "text/plain": [
       "     ElementName ElementType         s  Profile\n",
       "1254         D10        DRIF  27.33708      0.0\n",
       "1255         D10        DRIF  27.33708      0.0\n",
       "1256         D10        DRIF  27.43000      0.0"
      ]
     },
     "execution_count": 9,
     "metadata": {},
     "output_type": "execute_result"
    }
   ],
   "source": [
    "df_mag.tail(3)"
   ]
  },
  {
   "cell_type": "code",
   "execution_count": 10,
   "metadata": {},
   "outputs": [],
   "source": [
    "import plotly.io as pio\n",
    "import plotly.graph_objects as go\n",
    "from plotly.subplots import make_subplots"
   ]
  },
  {
   "cell_type": "code",
   "execution_count": 11,
   "metadata": {},
   "outputs": [],
   "source": [
    "#pio.renderers"
   ]
  },
  {
   "cell_type": "code",
   "execution_count": 12,
   "metadata": {},
   "outputs": [],
   "source": [
    "#pio.renderers.default = \"plotly_mimetype+notebook\" # both notebook & html from nbconvert are interactive\n",
    "pio.renderers.default = \"svg\" # svg figures (for publications)"
   ]
  },
  {
   "cell_type": "code",
   "execution_count": 13,
   "metadata": {},
   "outputs": [],
   "source": [
    "pio.templates.default = pio.templates[\"simple_white\"]"
   ]
  },
  {
   "cell_type": "code",
   "execution_count": 14,
   "metadata": {},
   "outputs": [],
   "source": [
    "fig = go.Figure()\n",
    "\n",
    "mag = go.Scatter(\n",
    "    x=df_mag.s, y=df_mag.Profile, mode='lines', line_width=2, line_color=\"gray\",\n",
    "    hovertext=df_mag.ElementName, hoverinfo=\"text\", showlegend=False\n",
    ")\n",
    "\n",
    "#fig.add_trace(mag)\n",
    "#fig.update_layout(yaxis={'visible': False, 'domain': [0,0.2]})\n",
    "\n",
    "#fig.show()"
   ]
  },
  {
   "cell_type": "markdown",
   "metadata": {},
   "source": [
    "Reading Twiss output table:"
   ]
  },
  {
   "cell_type": "code",
   "execution_count": 15,
   "metadata": {},
   "outputs": [],
   "source": [
    "twi = 'results/twiss.twi'\n",
    "df = sdds2df(twi)"
   ]
  },
  {
   "cell_type": "code",
   "execution_count": 16,
   "metadata": {},
   "outputs": [
    {
     "data": {
      "text/html": [
       "<div>\n",
       "<style scoped>\n",
       "    .dataframe tbody tr th:only-of-type {\n",
       "        vertical-align: middle;\n",
       "    }\n",
       "\n",
       "    .dataframe tbody tr th {\n",
       "        vertical-align: top;\n",
       "    }\n",
       "\n",
       "    .dataframe thead th {\n",
       "        text-align: right;\n",
       "    }\n",
       "</style>\n",
       "<table border=\"1\" class=\"dataframe\">\n",
       "  <thead>\n",
       "    <tr style=\"text-align: right;\">\n",
       "      <th></th>\n",
       "      <th>s</th>\n",
       "      <th>betax</th>\n",
       "      <th>alphax</th>\n",
       "      <th>psix</th>\n",
       "      <th>etax</th>\n",
       "      <th>etaxp</th>\n",
       "      <th>xAperture</th>\n",
       "      <th>betay</th>\n",
       "      <th>alphay</th>\n",
       "      <th>psiy</th>\n",
       "      <th>etay</th>\n",
       "      <th>etayp</th>\n",
       "      <th>yAperture</th>\n",
       "      <th>pCentral0</th>\n",
       "      <th>ElementName</th>\n",
       "      <th>ElementOccurence</th>\n",
       "      <th>ElementType</th>\n",
       "      <th>ChamberShape</th>\n",
       "    </tr>\n",
       "  </thead>\n",
       "  <tbody>\n",
       "    <tr>\n",
       "      <th>286</th>\n",
       "      <td>27.244167</td>\n",
       "      <td>4.858976</td>\n",
       "      <td>3.830148e-02</td>\n",
       "      <td>30.023808</td>\n",
       "      <td>9.063422e-07</td>\n",
       "      <td>4.515850e-17</td>\n",
       "      <td>10.0</td>\n",
       "      <td>0.983281</td>\n",
       "      <td>1.962738e-01</td>\n",
       "      <td>17.776424</td>\n",
       "      <td>0.0</td>\n",
       "      <td>0.0</td>\n",
       "      <td>10.0</td>\n",
       "      <td>2935.426143</td>\n",
       "      <td>D10</td>\n",
       "      <td>22</td>\n",
       "      <td>DRIF</td>\n",
       "      <td>?</td>\n",
       "    </tr>\n",
       "    <tr>\n",
       "      <th>287</th>\n",
       "      <td>27.337083</td>\n",
       "      <td>4.853637</td>\n",
       "      <td>1.915074e-02</td>\n",
       "      <td>30.042942</td>\n",
       "      <td>9.063422e-07</td>\n",
       "      <td>4.515850e-17</td>\n",
       "      <td>10.0</td>\n",
       "      <td>0.955925</td>\n",
       "      <td>9.813692e-02</td>\n",
       "      <td>17.872411</td>\n",
       "      <td>0.0</td>\n",
       "      <td>0.0</td>\n",
       "      <td>10.0</td>\n",
       "      <td>2935.426143</td>\n",
       "      <td>D10</td>\n",
       "      <td>23</td>\n",
       "      <td>DRIF</td>\n",
       "      <td>?</td>\n",
       "    </tr>\n",
       "    <tr>\n",
       "      <th>288</th>\n",
       "      <td>27.430000</td>\n",
       "      <td>4.851858</td>\n",
       "      <td>5.689893e-16</td>\n",
       "      <td>30.062091</td>\n",
       "      <td>9.063422e-07</td>\n",
       "      <td>4.515850e-17</td>\n",
       "      <td>10.0</td>\n",
       "      <td>0.946806</td>\n",
       "      <td>-9.964252e-15</td>\n",
       "      <td>17.970234</td>\n",
       "      <td>0.0</td>\n",
       "      <td>0.0</td>\n",
       "      <td>10.0</td>\n",
       "      <td>2935.426143</td>\n",
       "      <td>D10</td>\n",
       "      <td>24</td>\n",
       "      <td>DRIF</td>\n",
       "      <td>?</td>\n",
       "    </tr>\n",
       "  </tbody>\n",
       "</table>\n",
       "</div>"
      ],
      "text/plain": [
       "             s     betax        alphax       psix          etax         etaxp  \\\n",
       "286  27.244167  4.858976  3.830148e-02  30.023808  9.063422e-07  4.515850e-17   \n",
       "287  27.337083  4.853637  1.915074e-02  30.042942  9.063422e-07  4.515850e-17   \n",
       "288  27.430000  4.851858  5.689893e-16  30.062091  9.063422e-07  4.515850e-17   \n",
       "\n",
       "     xAperture     betay        alphay       psiy  etay  etayp  yAperture  \\\n",
       "286       10.0  0.983281  1.962738e-01  17.776424   0.0    0.0       10.0   \n",
       "287       10.0  0.955925  9.813692e-02  17.872411   0.0    0.0       10.0   \n",
       "288       10.0  0.946806 -9.964252e-15  17.970234   0.0    0.0       10.0   \n",
       "\n",
       "       pCentral0 ElementName  ElementOccurence ElementType ChamberShape  \n",
       "286  2935.426143         D10                22        DRIF            ?  \n",
       "287  2935.426143         D10                23        DRIF            ?  \n",
       "288  2935.426143         D10                24        DRIF            ?  "
      ]
     },
     "execution_count": 16,
     "metadata": {},
     "output_type": "execute_result"
    }
   ],
   "source": [
    "df.tail(3)"
   ]
  },
  {
   "cell_type": "code",
   "execution_count": 17,
   "metadata": {},
   "outputs": [
    {
     "data": {
      "image/svg+xml": [
       "<svg class=\"main-svg\" xmlns=\"http://www.w3.org/2000/svg\" xmlns:xlink=\"http://www.w3.org/1999/xlink\" width=\"700\" height=\"600\" style=\"\" viewBox=\"0 0 700 600\"><rect x=\"0\" y=\"0\" width=\"700\" height=\"600\" style=\"fill: rgb(255, 255, 255); fill-opacity: 1;\"/><defs id=\"defs-a268e4\"><g class=\"clips\"><clipPath id=\"clipa268e4xyplot\" class=\"plotclip\"><rect width=\"516\" height=\"303.45\"/></clipPath><clipPath id=\"clipa268e4xy2plot\" class=\"plotclip\"><rect width=\"516\" height=\"53.550000000000004\"/></clipPath><clipPath class=\"axesclip\" id=\"clipa268e4x\"><rect x=\"80\" y=\"0\" width=\"516\" height=\"600\"/></clipPath><clipPath class=\"axesclip\" id=\"clipa268e4y\"><rect x=\"0\" y=\"100.00000000000004\" width=\"700\" height=\"303.45\"/></clipPath><clipPath class=\"axesclip\" id=\"clipa268e4xy\"><rect x=\"80\" y=\"100.00000000000004\" width=\"516\" height=\"303.45\"/></clipPath><clipPath class=\"axesclip\" id=\"clipa268e4y2\"><rect x=\"0\" y=\"466.45000000000005\" width=\"700\" height=\"53.550000000000004\"/></clipPath><clipPath class=\"axesclip\" id=\"clipa268e4xy2\"><rect x=\"80\" y=\"466.45000000000005\" width=\"516\" height=\"53.550000000000004\"/></clipPath></g><g class=\"gradients\"/><g class=\"patterns\"/></defs><g class=\"bglayer\"/><g class=\"layer-below\"><g class=\"imagelayer\"/><g class=\"shapelayer\"/></g><g class=\"cartesianlayer\"><g class=\"subplot xy\"><g class=\"layer-subplot\"><g class=\"shapelayer\"/><g class=\"imagelayer\"/></g><g class=\"minor-gridlayer\"><g class=\"x\"/><g class=\"y\"/></g><g class=\"gridlayer\"><g class=\"x\"><path class=\"xgrid crisp\" transform=\"translate(174.06,0)\" d=\"M0,100.00000000000004v303.45\" style=\"stroke: rgb(232, 232, 232); stroke-opacity: 1; stroke-width: 1px;\"/><path class=\"xgrid crisp\" transform=\"translate(268.12,0)\" d=\"M0,100.00000000000004v303.45\" style=\"stroke: rgb(232, 232, 232); stroke-opacity: 1; stroke-width: 1px;\"/><path class=\"xgrid crisp\" transform=\"translate(362.17,0)\" d=\"M0,100.00000000000004v303.45\" style=\"stroke: rgb(232, 232, 232); stroke-opacity: 1; stroke-width: 1px;\"/><path class=\"xgrid crisp\" transform=\"translate(456.23,0)\" d=\"M0,100.00000000000004v303.45\" style=\"stroke: rgb(232, 232, 232); stroke-opacity: 1; stroke-width: 1px;\"/><path class=\"xgrid crisp\" transform=\"translate(550.29,0)\" d=\"M0,100.00000000000004v303.45\" style=\"stroke: rgb(232, 232, 232); stroke-opacity: 1; stroke-width: 1px;\"/></g><g class=\"y\"><path class=\"ygrid crisp\" transform=\"translate(0,344.43000000000006)\" d=\"M80,0h516\" style=\"stroke: rgb(232, 232, 232); stroke-opacity: 1; stroke-width: 1px;\"/><path class=\"ygrid crisp\" transform=\"translate(0,285.89000000000004)\" d=\"M80,0h516\" style=\"stroke: rgb(232, 232, 232); stroke-opacity: 1; stroke-width: 1px;\"/><path class=\"ygrid crisp\" transform=\"translate(0,227.34000000000003)\" d=\"M80,0h516\" style=\"stroke: rgb(232, 232, 232); stroke-opacity: 1; stroke-width: 1px;\"/><path class=\"ygrid crisp\" transform=\"translate(0,168.80000000000004)\" d=\"M80,0h516\" style=\"stroke: rgb(232, 232, 232); stroke-opacity: 1; stroke-width: 1px;\"/><path class=\"ygrid crisp\" transform=\"translate(0,110.25000000000004)\" d=\"M80,0h516\" style=\"stroke: rgb(232, 232, 232); stroke-opacity: 1; stroke-width: 1px;\"/></g></g><g class=\"zerolinelayer\"/><g class=\"layer-between\"><g class=\"shapelayer\"/><g class=\"imagelayer\"/></g><path class=\"xlines-below\"/><path class=\"ylines-below\"/><g class=\"overlines-below\"/><g class=\"xaxislayer-below\"/><g class=\"yaxislayer-below\"/><g class=\"overaxes-below\"/><g class=\"overplot\"><g class=\"xy\" transform=\"translate(80,100.00000000000004)\" clip-path=\"url(#clipa268e4xyplot)\"><g class=\"scatterlayer mlayer\"><g class=\"trace scatter trace274b7a\" style=\"stroke-miterlimit: 2; opacity: 1;\"><g class=\"fills\"/><g class=\"errorbars\"/><g class=\"lines\"><path class=\"js-line\" d=\"M0,18.92L5.24,17.99L6.99,17.26L10.49,15.17L12.37,37.68L18.01,214.73L19.89,236.72L23.59,258.78L25.43,266.29L27.28,271.45L29.13,274.26L30.97,274.73L32.82,272.84L34.67,268.61L36.52,262.03L40.21,241.83L42.09,225.57L46.04,163.83L48.11,120.87L49.8,103.47L51.5,128.71L54.88,205.5L56.72,236.09L60.4,274.13L62.24,283.86L64.08,288.28L65.92,287.66L67.76,281.96L69.6,270.84L73.41,228.34L74.92,204.72L79.34,113.63L80.65,80.23L82.35,57.08L84.04,80.23L88.32,178.26L89.78,204.72L93.26,253.64L95.1,270.84L96.94,281.96L98.78,287.66L100.62,288.28L102.45,283.86L104.29,274.13L106.13,258.52L109.81,205.5L111.51,170.08L114.89,103.46L116.58,120.86L120.53,190.73L122.23,199.37L126.18,203.08L129,203.85L131.82,203.08L133.8,201.61L135.77,199.37L137.47,190.73L139.16,167.42L141.42,120.86L143.11,103.46L144.8,128.7L148.19,205.5L150.03,236.09L153.71,274.13L155.55,283.86L157.38,288.28L159.22,287.66L161.06,281.96L162.9,270.84L166.72,228.34L168.22,204.72L172.64,113.63L173.96,80.23L175.65,57.08L177.35,80.23L181.63,178.26L183.08,204.72L186.56,253.64L188.4,270.84L190.24,281.96L192.08,287.66L193.92,288.28L195.76,283.86L197.6,274.13L199.44,258.52L203.12,205.5L204.81,170.09L208.2,103.47L209.89,120.87L214.03,200.5L215.91,225.57L219.64,253.11L221.48,262.03L225.18,272.84L227.03,274.73L228.87,274.26L230.72,271.45L232.57,266.29L234.41,258.78L238.11,236.72L239.99,214.73L241.87,169.39L243.75,100.26L245.63,37.68L247.51,15.17L252.76,17.99L254.5,18.51L259.75,18.82L261.5,18.51L266.74,16.32L268.49,15.17L270.37,37.68L272.25,100.26L276.01,214.73L277.89,236.72L281.59,258.78L283.43,266.29L285.28,271.45L287.13,274.26L288.97,274.73L290.82,272.84L292.67,268.61L294.52,262.03L298.21,241.83L300.09,225.57L304.04,163.83L306.11,120.87L307.8,103.47L309.5,128.71L312.88,205.5L314.72,236.09L318.4,274.13L320.24,283.86L322.08,288.28L323.92,287.66L325.76,281.96L327.6,270.84L331.41,228.34L332.92,204.72L337.34,113.63L338.65,80.23L340.35,57.08L342.04,80.23L346.32,178.26L347.78,204.72L351.26,253.64L353.1,270.84L354.94,281.96L356.78,287.66L358.62,288.28L360.45,283.86L362.29,274.13L364.13,258.52L367.81,205.5L369.51,170.08L372.89,103.46L374.58,120.86L378.53,190.73L380.23,199.37L384.18,203.08L387,203.85L389.82,203.08L391.8,201.61L393.77,199.37L395.47,190.73L397.16,167.42L399.42,120.86L401.11,103.46L402.8,128.7L406.19,205.5L408.03,236.09L411.71,274.13L413.55,283.86L415.38,288.28L417.22,287.66L419.06,281.96L420.9,270.84L424.72,228.34L426.22,204.72L430.64,113.63L431.96,80.23L433.65,57.08L435.35,80.23L439.63,178.26L441.08,204.72L444.56,253.64L446.4,270.84L448.24,281.96L450.08,287.66L451.92,288.28L453.76,283.86L455.6,274.13L457.44,258.52L461.12,205.5L462.81,170.09L466.2,103.47L467.89,120.87L472.03,200.5L473.91,225.57L477.64,253.11L479.48,262.03L483.18,272.84L485.03,274.73L486.87,274.26L488.72,271.45L490.57,266.29L492.41,258.78L496.11,236.72L497.99,214.73L499.87,169.39L501.75,100.26L503.63,37.68L505.51,15.17L510.76,17.99L512.5,18.51L516,18.92\" style=\"vector-effect: none; fill: none; stroke: rgb(255, 0, 0); stroke-opacity: 1; stroke-width: 2px; opacity: 1;\"/></g><g class=\"points\"/><g class=\"text\"/></g><g class=\"trace scatter trace87f321\" style=\"stroke-miterlimit: 2; opacity: 1;\"><g class=\"fills\"/><g class=\"errorbars\"/><g class=\"lines\"><path class=\"js-line\" d=\"M0,247.55L1.75,247.01L3.5,245.41L6.99,239L8.74,234.2L10.49,228.33L12.37,213.84L14.25,179.86L16.13,128.13L18.01,85.95L19.89,80.63L27.28,133.09L29.13,144.26L34.67,173.05L36.52,181.08L42.09,204.04L43.97,218.4L48.11,248.57L49.8,252L51.5,242.38L53.19,223.66L60.4,137.05L62.24,126.12L64.08,122.56L65.92,126.69L67.76,138.15L69.6,155.9L76.37,232.94L77.83,245.1L80.65,263.49L82.35,267.86L84.04,263.49L85.36,255.75L89.78,219L91.28,202.7L96.94,138.17L98.78,126.72L100.62,122.59L102.45,126.15L104.29,137.08L106.13,154.4L113.2,242.39L114.89,252L116.58,248.58L118.84,233.55L120.53,224.41L122.23,223.21L126.18,228.18L129,229.23L131.82,228.18L133.8,226.21L135.77,223.21L137.47,224.41L141.42,248.58L143.11,252L144.8,242.39L146.49,223.67L153.71,137.08L155.55,126.15L157.38,122.59L159.22,126.72L161.06,138.17L162.9,155.92L169.68,232.95L171.14,245.1L173.96,263.49L175.65,267.86L177.35,263.49L178.66,255.75L181.63,232.94L183.08,218.99L190.24,138.15L192.08,126.69L193.92,122.56L195.76,126.12L197.6,137.05L199.44,154.38L206.5,242.38L208.2,252L209.89,248.57L211.96,234.93L215.91,204.04L217.79,194.8L223.33,173.05L225.18,164.23L230.72,133.09L232.57,121.15L238.11,80.63L239.99,85.95L245.63,213.84L247.51,228.33L251.01,239L252.76,242.74L256.25,247.01L258,247.55L259.75,247.01L261.5,245.41L264.99,239L266.74,234.2L268.49,228.33L270.37,213.84L272.25,179.86L274.13,128.13L276.01,85.95L277.89,80.63L285.28,133.09L287.13,144.26L292.67,173.05L294.52,181.08L300.09,204.04L301.97,218.4L306.11,248.57L307.8,252L309.5,242.38L311.19,223.66L318.4,137.05L320.24,126.12L322.08,122.56L323.92,126.69L325.76,138.15L327.6,155.9L334.37,232.94L335.83,245.1L338.65,263.49L340.35,267.86L342.04,263.49L343.36,255.75L347.78,219L349.28,202.7L354.94,138.17L356.78,126.72L358.62,122.59L360.45,126.15L362.29,137.08L364.13,154.4L371.2,242.39L372.89,252L374.58,248.58L376.84,233.55L378.53,224.41L380.23,223.21L384.18,228.18L387,229.23L389.82,228.18L391.8,226.21L393.77,223.21L395.47,224.41L399.42,248.58L401.11,252L402.8,242.39L404.49,223.67L411.71,137.08L413.55,126.15L415.38,122.59L417.22,126.72L419.06,138.17L420.9,155.92L427.68,232.95L429.14,245.1L431.96,263.49L433.65,267.86L435.35,263.49L436.66,255.75L439.63,232.94L441.08,218.99L448.24,138.15L450.08,126.69L451.92,122.56L453.76,126.12L455.6,137.05L457.44,154.38L464.5,242.38L466.2,252L467.89,248.57L469.96,234.93L473.91,204.04L475.79,194.8L481.33,173.05L483.18,164.23L488.72,133.09L490.57,121.15L496.11,80.63L497.99,85.95L503.63,213.84L505.51,228.33L509.01,239L510.76,242.74L514.25,247.01L516,247.55\" style=\"vector-effect: none; fill: none; stroke: rgb(0, 0, 255); stroke-opacity: 1; stroke-width: 2px; opacity: 1;\"/></g><g class=\"points\"/><g class=\"text\"/></g></g></g></g><path class=\"xlines-above crisp\" d=\"M79,403.95000000000005H596\" style=\"fill: none; stroke-width: 1px; stroke: rgb(36, 36, 36); stroke-opacity: 1;\"/><path class=\"ylines-above crisp\" d=\"M79.5,100.00000000000004V403.45000000000005\" style=\"fill: none; stroke-width: 1px; stroke: rgb(36, 36, 36); stroke-opacity: 1;\"/><g class=\"overlines-above\"/><g class=\"xaxislayer-above\"><path class=\"xtick ticks crisp\" d=\"M0,404.45000000000005v5\" transform=\"translate(80,0)\" style=\"stroke: rgb(68, 68, 68); stroke-opacity: 1; stroke-width: 1px;\"/><path class=\"xtick ticks crisp\" d=\"M0,404.45000000000005v5\" transform=\"translate(174.06,0)\" style=\"stroke: rgb(68, 68, 68); stroke-opacity: 1; stroke-width: 1px;\"/><path class=\"xtick ticks crisp\" d=\"M0,404.45000000000005v5\" transform=\"translate(268.12,0)\" style=\"stroke: rgb(68, 68, 68); stroke-opacity: 1; stroke-width: 1px;\"/><path class=\"xtick ticks crisp\" d=\"M0,404.45000000000005v5\" transform=\"translate(362.17,0)\" style=\"stroke: rgb(68, 68, 68); stroke-opacity: 1; stroke-width: 1px;\"/><path class=\"xtick ticks crisp\" d=\"M0,404.45000000000005v5\" transform=\"translate(456.23,0)\" style=\"stroke: rgb(68, 68, 68); stroke-opacity: 1; stroke-width: 1px;\"/><path class=\"xtick ticks crisp\" d=\"M0,404.45000000000005v5\" transform=\"translate(550.29,0)\" style=\"stroke: rgb(68, 68, 68); stroke-opacity: 1; stroke-width: 1px;\"/><g class=\"xtick\"><text text-anchor=\"middle\" x=\"0\" y=\"423.85\" transform=\"translate(80,0)\" style=\"font-family: 'Open Sans', verdana, arial, sans-serif; font-size: 12px; fill: rgb(36, 36, 36); fill-opacity: 1; white-space: pre; opacity: 1;\">0</text></g><g class=\"xtick\"><text text-anchor=\"middle\" x=\"0\" y=\"423.85\" style=\"font-family: 'Open Sans', verdana, arial, sans-serif; font-size: 12px; fill: rgb(36, 36, 36); fill-opacity: 1; white-space: pre; opacity: 1;\" transform=\"translate(174.06,0)\">5</text></g><g class=\"xtick\"><text text-anchor=\"middle\" x=\"0\" y=\"423.85\" style=\"font-family: 'Open Sans', verdana, arial, sans-serif; font-size: 12px; fill: rgb(36, 36, 36); fill-opacity: 1; white-space: pre; opacity: 1;\" transform=\"translate(268.12,0)\">10</text></g><g class=\"xtick\"><text text-anchor=\"middle\" x=\"0\" y=\"423.85\" style=\"font-family: 'Open Sans', verdana, arial, sans-serif; font-size: 12px; fill: rgb(36, 36, 36); fill-opacity: 1; white-space: pre; opacity: 1;\" transform=\"translate(362.17,0)\">15</text></g><g class=\"xtick\"><text text-anchor=\"middle\" x=\"0\" y=\"423.85\" style=\"font-family: 'Open Sans', verdana, arial, sans-serif; font-size: 12px; fill: rgb(36, 36, 36); fill-opacity: 1; white-space: pre; opacity: 1;\" transform=\"translate(456.23,0)\">20</text></g><g class=\"xtick\"><text text-anchor=\"middle\" x=\"0\" y=\"423.85\" style=\"font-family: 'Open Sans', verdana, arial, sans-serif; font-size: 12px; fill: rgb(36, 36, 36); fill-opacity: 1; white-space: pre; opacity: 1;\" transform=\"translate(550.29,0)\">25</text></g></g><g class=\"yaxislayer-above\"><path class=\"ytick ticks crisp\" d=\"M79,0h-5\" transform=\"translate(0,402.9800000000001)\" style=\"stroke: rgb(68, 68, 68); stroke-opacity: 1; stroke-width: 1px;\"/><path class=\"ytick ticks crisp\" d=\"M79,0h-5\" transform=\"translate(0,344.43000000000006)\" style=\"stroke: rgb(68, 68, 68); stroke-opacity: 1; stroke-width: 1px;\"/><path class=\"ytick ticks crisp\" d=\"M79,0h-5\" transform=\"translate(0,285.89000000000004)\" style=\"stroke: rgb(68, 68, 68); stroke-opacity: 1; stroke-width: 1px;\"/><path class=\"ytick ticks crisp\" d=\"M79,0h-5\" transform=\"translate(0,227.34000000000003)\" style=\"stroke: rgb(68, 68, 68); stroke-opacity: 1; stroke-width: 1px;\"/><path class=\"ytick ticks crisp\" d=\"M79,0h-5\" transform=\"translate(0,168.80000000000004)\" style=\"stroke: rgb(68, 68, 68); stroke-opacity: 1; stroke-width: 1px;\"/><path class=\"ytick ticks crisp\" d=\"M79,0h-5\" transform=\"translate(0,110.25000000000004)\" style=\"stroke: rgb(68, 68, 68); stroke-opacity: 1; stroke-width: 1px;\"/><g class=\"ytick\"><text text-anchor=\"end\" x=\"71.6\" y=\"4.199999999999999\" transform=\"translate(0,402.9800000000001)\" style=\"font-family: 'Open Sans', verdana, arial, sans-serif; font-size: 12px; fill: rgb(36, 36, 36); fill-opacity: 1; white-space: pre; opacity: 1;\">0</text></g><g class=\"ytick\"><text text-anchor=\"end\" x=\"71.6\" y=\"4.199999999999999\" style=\"font-family: 'Open Sans', verdana, arial, sans-serif; font-size: 12px; fill: rgb(36, 36, 36); fill-opacity: 1; white-space: pre; opacity: 1;\" transform=\"translate(0,344.43000000000006)\">1</text></g><g class=\"ytick\"><text text-anchor=\"end\" x=\"71.6\" y=\"4.199999999999999\" style=\"font-family: 'Open Sans', verdana, arial, sans-serif; font-size: 12px; fill: rgb(36, 36, 36); fill-opacity: 1; white-space: pre; opacity: 1;\" transform=\"translate(0,285.89000000000004)\">2</text></g><g class=\"ytick\"><text text-anchor=\"end\" x=\"71.6\" y=\"4.199999999999999\" style=\"font-family: 'Open Sans', verdana, arial, sans-serif; font-size: 12px; fill: rgb(36, 36, 36); fill-opacity: 1; white-space: pre; opacity: 1;\" transform=\"translate(0,227.34000000000003)\">3</text></g><g class=\"ytick\"><text text-anchor=\"end\" x=\"71.6\" y=\"4.199999999999999\" style=\"font-family: 'Open Sans', verdana, arial, sans-serif; font-size: 12px; fill: rgb(36, 36, 36); fill-opacity: 1; white-space: pre; opacity: 1;\" transform=\"translate(0,168.80000000000004)\">4</text></g><g class=\"ytick\"><text text-anchor=\"end\" x=\"71.6\" y=\"4.199999999999999\" style=\"font-family: 'Open Sans', verdana, arial, sans-serif; font-size: 12px; fill: rgb(36, 36, 36); fill-opacity: 1; white-space: pre; opacity: 1;\" transform=\"translate(0,110.25000000000004)\">5</text></g></g><g class=\"overaxes-above\"/></g><g class=\"subplot xy2\"><g class=\"layer-subplot\"><g class=\"shapelayer\"/><g class=\"imagelayer\"/></g><g class=\"minor-gridlayer\"><g class=\"x\"/><g class=\"y2\"/></g><g class=\"gridlayer\"><g class=\"x\"><path class=\"xgrid crisp\" transform=\"translate(174.06,0)\" d=\"M0,466.45000000000005v53.550000000000004\" style=\"stroke: rgb(232, 232, 232); stroke-opacity: 1; stroke-width: 1px;\"/><path class=\"xgrid crisp\" transform=\"translate(268.12,0)\" d=\"M0,466.45000000000005v53.550000000000004\" style=\"stroke: rgb(232, 232, 232); stroke-opacity: 1; stroke-width: 1px;\"/><path class=\"xgrid crisp\" transform=\"translate(362.17,0)\" d=\"M0,466.45000000000005v53.550000000000004\" style=\"stroke: rgb(232, 232, 232); stroke-opacity: 1; stroke-width: 1px;\"/><path class=\"xgrid crisp\" transform=\"translate(456.23,0)\" d=\"M0,466.45000000000005v53.550000000000004\" style=\"stroke: rgb(232, 232, 232); stroke-opacity: 1; stroke-width: 1px;\"/><path class=\"xgrid crisp\" transform=\"translate(550.29,0)\" d=\"M0,466.45000000000005v53.550000000000004\" style=\"stroke: rgb(232, 232, 232); stroke-opacity: 1; stroke-width: 1px;\"/></g><g class=\"y2\"/></g><g class=\"zerolinelayer\"/><g class=\"layer-between\"><g class=\"shapelayer\"/><g class=\"imagelayer\"/></g><path class=\"xlines-below\"/><path class=\"ylines-below\"/><g class=\"overlines-below\"/><g class=\"xaxislayer-below\"/><g class=\"yaxislayer-below\"/><g class=\"overaxes-below\"/><g class=\"overplot\"><g class=\"xy2\" transform=\"translate(80,466.45000000000005)\" clip-path=\"url(#clipa268e4xy2plot)\"><g class=\"scatterlayer mlayer\"><g class=\"trace scatter trace76efd1\" style=\"stroke-miterlimit: 2; opacity: 1;\"><g class=\"fills\"/><g class=\"errorbars\"/><g class=\"lines\"><path class=\"js-line\" d=\"M0,26.78L10.49,26.78L10.49,26.78L10.49,2.68L12.37,2.68L12.37,26.78L10.49,26.78L12.37,26.78L12.37,2.68L14.25,2.68L14.25,26.78L12.37,26.78L16.13,26.78L16.13,26.78L16.13,50.87L18.01,50.87L18.01,26.78L16.13,26.78L18.01,26.78L18.01,50.87L19.89,50.87L19.89,26.78L18.01,26.78L40.21,26.78L40.21,26.78L40.21,50.87L42.09,50.87L42.09,26.78L40.21,26.78L42.09,26.78L42.09,50.87L43.97,50.87L43.97,26.78L42.09,26.78L48.11,26.78L48.11,26.78L48.11,2.68L49.8,2.68L49.8,26.78L48.11,26.78L49.8,26.78L49.8,2.68L51.5,2.68L51.5,26.78L49.8,26.78L54.88,26.78L54.88,26.78L54.88,18.74L56.72,18.74L56.72,26.78L54.88,26.78L56.72,26.78L56.72,18.74L58.56,18.74L58.56,26.78L56.72,26.78L58.56,26.78L58.56,18.74L60.4,18.74L60.4,26.78L58.56,26.78L60.4,26.78L60.4,18.74L62.24,18.74L62.24,26.78L60.4,26.78L62.24,26.78L62.24,18.74L64.08,18.74L64.08,26.78L62.24,26.78L64.08,26.78L64.08,18.74L65.92,18.74L65.92,26.78L64.08,26.78L65.92,26.78L65.92,18.74L67.76,18.74L67.76,26.78L65.92,26.78L67.76,26.78L67.76,18.74L69.6,18.74L69.6,26.78L67.76,26.78L69.6,26.78L69.6,18.74L71.44,18.74L71.44,26.78L69.6,26.78L73.41,26.78L73.41,26.78L73.41,14.73L74.92,14.73L74.92,26.78L73.41,26.78L77.83,26.78L77.83,26.78L77.83,14.73L79.34,14.73L79.34,26.78L77.83,26.78L80.65,26.78L80.65,26.78L80.65,2.68L82.35,2.68L82.35,26.78L80.65,26.78L82.35,26.78L82.35,2.68L84.04,2.68L84.04,26.78L82.35,26.78L85.36,26.78L85.36,26.78L85.36,14.73L86.86,14.73L86.86,26.78L85.36,26.78L89.78,26.78L89.78,26.78L89.78,14.73L91.28,14.73L91.28,26.78L89.78,26.78L93.26,26.78L93.26,26.78L93.26,18.74L95.1,18.74L95.1,26.78L93.26,26.78L95.1,26.78L95.1,18.74L96.94,18.74L96.94,26.78L95.1,26.78L96.94,26.78L96.94,18.74L98.78,18.74L98.78,26.78L96.94,26.78L98.78,26.78L98.78,18.74L100.62,18.74L100.62,26.78L98.78,26.78L100.62,26.78L100.62,18.74L102.45,18.74L102.45,26.78L100.62,26.78L102.45,26.78L102.45,18.74L104.29,18.74L104.29,26.78L102.45,26.78L104.29,26.78L104.29,18.74L106.13,18.74L106.13,26.78L104.29,26.78L106.13,26.78L106.13,18.74L107.97,18.74L107.97,26.78L106.13,26.78L107.97,26.78L107.97,18.74L109.81,18.74L109.81,26.78L107.97,26.78L113.2,26.78L113.2,26.78L113.2,2.68L114.89,2.68L114.89,26.78L113.2,26.78L114.89,26.78L114.89,2.68L116.58,2.68L116.58,26.78L114.89,26.78L118.84,26.78L118.84,26.78L118.84,50.87L120.53,50.87L120.53,26.78L118.84,26.78L120.53,26.78L120.53,50.87L122.23,50.87L122.23,26.78L120.53,26.78L126.18,26.78L126.18,26.78L126.53,18.26L126.88,14.73L127.24,18.26L127.59,26.78L128.29,38.82L128.65,35.29L129,26.78L129.71,14.73L130.06,18.26L130.41,26.78L131.12,38.82L131.47,35.29L131.82,26.78L135.77,26.78L135.77,26.78L135.77,50.87L137.47,50.87L137.47,26.78L135.77,26.78L137.47,26.78L137.47,50.87L139.16,50.87L139.16,26.78L137.47,26.78L141.42,26.78L141.42,26.78L141.42,2.68L143.11,2.68L143.11,26.78L141.42,26.78L143.11,26.78L143.11,2.68L144.8,2.68L144.8,26.78L143.11,26.78L148.19,26.78L148.19,26.78L148.19,18.74L150.03,18.74L150.03,26.78L148.19,26.78L150.03,26.78L150.03,18.74L151.87,18.74L151.87,26.78L150.03,26.78L151.87,26.78L151.87,18.74L153.71,18.74L153.71,26.78L151.87,26.78L153.71,26.78L153.71,18.74L155.55,18.74L155.55,26.78L153.71,26.78L155.55,26.78L155.55,18.74L157.38,18.74L157.38,26.78L155.55,26.78L157.38,26.78L157.38,18.74L159.22,18.74L159.22,26.78L157.38,26.78L159.22,26.78L159.22,18.74L161.06,18.74L161.06,26.78L159.22,26.78L161.06,26.78L161.06,18.74L162.9,18.74L162.9,26.78L161.06,26.78L162.9,26.78L162.9,18.74L164.74,18.74L164.74,26.78L162.9,26.78L166.72,26.78L166.72,26.78L166.72,14.73L168.22,14.73L168.22,26.78L166.72,26.78L171.14,26.78L171.14,26.78L171.14,14.73L172.64,14.73L172.64,26.78L171.14,26.78L173.96,26.78L173.96,26.78L173.96,2.68L175.65,2.68L175.65,26.78L173.96,26.78L175.65,26.78L175.65,2.68L177.35,2.68L177.35,26.78L175.65,26.78L178.66,26.78L178.66,26.78L178.66,14.73L180.17,14.73L180.17,26.78L178.66,26.78L183.08,26.78L183.08,26.78L183.08,14.73L184.59,14.73L184.59,26.78L183.08,26.78L186.56,26.78L186.56,26.78L186.56,18.74L188.4,18.74L188.4,26.78L186.56,26.78L188.4,26.78L188.4,18.74L190.24,18.74L190.24,26.78L188.4,26.78L190.24,26.78L190.24,18.74L192.08,18.74L192.08,26.78L190.24,26.78L192.08,26.78L192.08,18.74L193.92,18.74L193.92,26.78L192.08,26.78L193.92,26.78L193.92,18.74L195.76,18.74L195.76,26.78L193.92,26.78L195.76,26.78L195.76,18.74L197.6,18.74L197.6,26.78L195.76,26.78L197.6,26.78L197.6,18.74L199.44,18.74L199.44,26.78L197.6,26.78L199.44,26.78L199.44,18.74L201.28,18.74L201.28,26.78L199.44,26.78L201.28,26.78L201.28,18.74L203.12,18.74L203.12,26.78L201.28,26.78L206.5,26.78L206.5,26.78L206.5,2.68L208.2,2.68L208.2,26.78L206.5,26.78L208.2,26.78L208.2,2.68L209.89,2.68L209.89,26.78L208.2,26.78L214.03,26.78L214.03,26.78L214.03,50.87L215.91,50.87L215.91,26.78L214.03,26.78L215.91,26.78L215.91,50.87L217.79,50.87L217.79,26.78L215.91,26.78L238.11,26.78L238.11,26.78L238.11,50.87L239.99,50.87L239.99,26.78L238.11,26.78L239.99,26.78L239.99,50.87L241.87,50.87L241.87,26.78L239.99,26.78L243.75,26.78L243.75,26.78L243.75,2.68L245.63,2.68L245.63,26.78L243.75,26.78L245.63,26.78L245.63,2.68L247.51,2.68L247.51,26.78L245.63,26.78L268.49,26.78L268.49,26.78L268.49,2.68L270.37,2.68L270.37,26.78L268.49,26.78L270.37,26.78L270.37,2.68L272.25,2.68L272.25,26.78L270.37,26.78L274.13,26.78L274.13,26.78L274.13,50.87L276.01,50.87L276.01,26.78L274.13,26.78L276.01,26.78L276.01,50.87L277.89,50.87L277.89,26.78L276.01,26.78L298.21,26.78L298.21,26.78L298.21,50.87L300.09,50.87L300.09,26.78L298.21,26.78L300.09,26.78L300.09,50.87L301.97,50.87L301.97,26.78L300.09,26.78L306.11,26.78L306.11,26.78L306.11,2.68L307.8,2.68L307.8,26.78L306.11,26.78L307.8,26.78L307.8,2.68L309.5,2.68L309.5,26.78L307.8,26.78L312.88,26.78L312.88,26.78L312.88,18.74L314.72,18.74L314.72,26.78L312.88,26.78L314.72,26.78L314.72,18.74L316.56,18.74L316.56,26.78L314.72,26.78L316.56,26.78L316.56,18.74L318.4,18.74L318.4,26.78L316.56,26.78L318.4,26.78L318.4,18.74L320.24,18.74L320.24,26.78L318.4,26.78L320.24,26.78L320.24,18.74L322.08,18.74L322.08,26.78L320.24,26.78L322.08,26.78L322.08,18.74L323.92,18.74L323.92,26.78L322.08,26.78L323.92,26.78L323.92,18.74L325.76,18.74L325.76,26.78L323.92,26.78L325.76,26.78L325.76,18.74L327.6,18.74L327.6,26.78L325.76,26.78L327.6,26.78L327.6,18.74L329.44,18.74L329.44,26.78L327.6,26.78L331.41,26.78L331.41,26.78L331.41,14.73L332.92,14.73L332.92,26.78L331.41,26.78L335.83,26.78L335.83,26.78L335.83,14.73L337.34,14.73L337.34,26.78L335.83,26.78L338.65,26.78L338.65,26.78L338.65,2.68L340.35,2.68L340.35,26.78L338.65,26.78L340.35,26.78L340.35,2.68L342.04,2.68L342.04,26.78L340.35,26.78L343.36,26.78L343.36,26.78L343.36,14.73L344.86,14.73L344.86,26.78L343.36,26.78L347.78,26.78L347.78,26.78L347.78,14.73L349.28,14.73L349.28,26.78L347.78,26.78L351.26,26.78L351.26,26.78L351.26,18.74L353.1,18.74L353.1,26.78L351.26,26.78L353.1,26.78L353.1,18.74L354.94,18.74L354.94,26.78L353.1,26.78L354.94,26.78L354.94,18.74L356.78,18.74L356.78,26.78L354.94,26.78L356.78,26.78L356.78,18.74L358.62,18.74L358.62,26.78L356.78,26.78L358.62,26.78L358.62,18.74L360.45,18.74L360.45,26.78L358.62,26.78L360.45,26.78L360.45,18.74L362.29,18.74L362.29,26.78L360.45,26.78L362.29,26.78L362.29,18.74L364.13,18.74L364.13,26.78L362.29,26.78L364.13,26.78L364.13,18.74L365.97,18.74L365.97,26.78L364.13,26.78L365.97,26.78L365.97,18.74L367.81,18.74L367.81,26.78L365.97,26.78L371.2,26.78L371.2,26.78L371.2,2.68L372.89,2.68L372.89,26.78L371.2,26.78L372.89,26.78L372.89,2.68L374.58,2.68L374.58,26.78L372.89,26.78L376.84,26.78L376.84,26.78L376.84,50.87L378.53,50.87L378.53,26.78L376.84,26.78L378.53,26.78L378.53,50.87L380.23,50.87L380.23,26.78L378.53,26.78L384.18,26.78L384.18,26.78L384.53,18.26L384.88,14.73L385.24,18.26L385.59,26.78L386.29,38.82L386.65,35.29L387,26.78L387.71,14.73L388.06,18.26L388.41,26.78L389.12,38.82L389.47,35.29L389.82,26.78L393.77,26.78L393.77,26.78L393.77,50.87L395.47,50.87L395.47,26.78L393.77,26.78L395.47,26.78L395.47,50.87L397.16,50.87L397.16,26.78L395.47,26.78L399.42,26.78L399.42,26.78L399.42,2.68L401.11,2.68L401.11,26.78L399.42,26.78L401.11,26.78L401.11,2.68L402.8,2.68L402.8,26.78L401.11,26.78L406.19,26.78L406.19,26.78L406.19,18.74L408.03,18.74L408.03,26.78L406.19,26.78L408.03,26.78L408.03,18.74L409.87,18.74L409.87,26.78L408.03,26.78L409.87,26.78L409.87,18.74L411.71,18.74L411.71,26.78L409.87,26.78L411.71,26.78L411.71,18.74L413.55,18.74L413.55,26.78L411.71,26.78L413.55,26.78L413.55,18.74L415.38,18.74L415.38,26.78L413.55,26.78L415.38,26.78L415.38,18.74L417.22,18.74L417.22,26.78L415.38,26.78L417.22,26.78L417.22,18.74L419.06,18.74L419.06,26.78L417.22,26.78L419.06,26.78L419.06,18.74L420.9,18.74L420.9,26.78L419.06,26.78L420.9,26.78L420.9,18.74L422.74,18.74L422.74,26.78L420.9,26.78L424.72,26.78L424.72,26.78L424.72,14.73L426.22,14.73L426.22,26.78L424.72,26.78L429.14,26.78L429.14,26.78L429.14,14.73L430.64,14.73L430.64,26.78L429.14,26.78L431.96,26.78L431.96,26.78L431.96,2.68L433.65,2.68L433.65,26.78L431.96,26.78L433.65,26.78L433.65,2.68L435.35,2.68L435.35,26.78L433.65,26.78L436.66,26.78L436.66,26.78L436.66,14.73L438.17,14.73L438.17,26.78L436.66,26.78L441.08,26.78L441.08,26.78L441.08,14.73L442.59,14.73L442.59,26.78L441.08,26.78L444.56,26.78L444.56,26.78L444.56,18.74L446.4,18.74L446.4,26.78L444.56,26.78L446.4,26.78L446.4,18.74L448.24,18.74L448.24,26.78L446.4,26.78L448.24,26.78L448.24,18.74L450.08,18.74L450.08,26.78L448.24,26.78L450.08,26.78L450.08,18.74L451.92,18.74L451.92,26.78L450.08,26.78L451.92,26.78L451.92,18.74L453.76,18.74L453.76,26.78L451.92,26.78L453.76,26.78L453.76,18.74L455.6,18.74L455.6,26.78L453.76,26.78L455.6,26.78L455.6,18.74L457.44,18.74L457.44,26.78L455.6,26.78L457.44,26.78L457.44,18.74L459.28,18.74L459.28,26.78L457.44,26.78L459.28,26.78L459.28,18.74L461.12,18.74L461.12,26.78L459.28,26.78L464.5,26.78L464.5,26.78L464.5,2.68L466.2,2.68L466.2,26.78L464.5,26.78L466.2,26.78L466.2,2.68L467.89,2.68L467.89,26.78L466.2,26.78L472.03,26.78L472.03,26.78L472.03,50.87L473.91,50.87L473.91,26.78L472.03,26.78L473.91,26.78L473.91,50.87L475.79,50.87L475.79,26.78L473.91,26.78L496.11,26.78L496.11,26.78L496.11,50.87L497.99,50.87L497.99,26.78L496.11,26.78L497.99,26.78L497.99,50.87L499.87,50.87L499.87,26.78L497.99,26.78L501.75,26.78L501.75,26.78L501.75,2.68L503.63,2.68L503.63,26.78L501.75,26.78L503.63,26.78L503.63,2.68L505.51,2.68L505.51,26.78L503.63,26.78L516,26.78\" style=\"vector-effect: none; fill: none; stroke: rgb(128, 128, 128); stroke-opacity: 1; stroke-width: 2px; opacity: 1;\"/></g><g class=\"points\"/><g class=\"text\"/></g></g></g></g><path class=\"xlines-above crisp\" d=\"M0,0\" style=\"fill: none;\"/><path class=\"ylines-above crisp\" d=\"M0,0\" style=\"fill: none;\"/><g class=\"overlines-above\"/><g class=\"xaxislayer-above\"/><g class=\"yaxislayer-above\"/><g class=\"overaxes-above\"/></g></g><g class=\"polarlayer\"/><g class=\"smithlayer\"/><g class=\"ternarylayer\"/><g class=\"geolayer\"/><g class=\"funnelarealayer\"/><g class=\"pielayer\"/><g class=\"iciclelayer\"/><g class=\"treemaplayer\"/><g class=\"sunburstlayer\"/><g class=\"glimages\"/><defs id=\"topdefs-a268e4\"><g class=\"clips\"/><clipPath id=\"legenda268e4\"><rect width=\"82\" height=\"48\" x=\"0\" y=\"0\"/></clipPath></defs><g class=\"layer-above\"><g class=\"imagelayer\"/><g class=\"shapelayer\"/></g><g class=\"infolayer\"><g class=\"legend\" pointer-events=\"all\" transform=\"translate(606.32,100)\"><rect class=\"bg\" shape-rendering=\"crispEdges\" style=\"stroke: rgb(68, 68, 68); stroke-opacity: 1; fill: rgb(255, 255, 255); fill-opacity: 1; stroke-width: 0px;\" width=\"82\" height=\"48\" x=\"0\" y=\"0\"/><g class=\"scrollbox\" transform=\"\" clip-path=\"url(#legenda268e4)\"><g class=\"groups\"><g class=\"traces\" transform=\"translate(0,14.5)\" style=\"opacity: 1;\"><text class=\"legendtext\" text-anchor=\"start\" x=\"40\" y=\"4.680000000000001\" style=\"font-family: 'Open Sans', verdana, arial, sans-serif; font-size: 12px; fill: rgb(36, 36, 36); fill-opacity: 1; white-space: pre;\">beta_x</text><g class=\"layers\" style=\"opacity: 1;\"><g class=\"legendfill\"/><g class=\"legendlines\"><path class=\"js-line\" d=\"M5,0h30\" style=\"fill: none; stroke: rgb(255, 0, 0); stroke-opacity: 1; stroke-width: 2px;\"/></g><g class=\"legendsymbols\"><g class=\"legendpoints\"/></g></g><rect class=\"legendtoggle\" x=\"0\" y=\"-9.5\" width=\"76.03125\" height=\"19\" style=\"fill: rgb(0, 0, 0); fill-opacity: 0;\"/></g><g class=\"traces\" transform=\"translate(0,33.5)\" style=\"opacity: 1;\"><text class=\"legendtext\" text-anchor=\"start\" x=\"40\" y=\"4.680000000000001\" style=\"font-family: 'Open Sans', verdana, arial, sans-serif; font-size: 12px; fill: rgb(36, 36, 36); fill-opacity: 1; white-space: pre;\">beta_y</text><g class=\"layers\" style=\"opacity: 1;\"><g class=\"legendfill\"/><g class=\"legendlines\"><path class=\"js-line\" d=\"M5,0h30\" style=\"fill: none; stroke: rgb(0, 0, 255); stroke-opacity: 1; stroke-width: 2px;\"/></g><g class=\"legendsymbols\"><g class=\"legendpoints\"/></g></g><rect class=\"legendtoggle\" x=\"0\" y=\"-9.5\" width=\"76.03125\" height=\"19\" style=\"fill: rgb(0, 0, 0); fill-opacity: 0;\"/></g></g></g><rect class=\"scrollbar\" rx=\"20\" ry=\"3\" width=\"0\" height=\"0\" style=\"fill: rgb(128, 139, 164); fill-opacity: 1;\" x=\"0\" y=\"0\"/></g><g class=\"g-gtitle\"/><g class=\"g-xtitle\"><text class=\"xtitle\" x=\"338\" y=\"451.159375\" text-anchor=\"middle\" style=\"opacity: 1; font-family: 'Open Sans', verdana, arial, sans-serif; font-size: 14px; fill: rgb(36, 36, 36); fill-opacity: 1; white-space: pre;\">s (m)</text></g><g class=\"g-ytitle\"><text class=\"ytitle\" transform=\"rotate(-90,45.521875,251.72500000000002)\" x=\"45.521875\" y=\"251.72500000000002\" text-anchor=\"middle\" style=\"opacity: 1; font-family: 'Open Sans', verdana, arial, sans-serif; font-size: 14px; fill: rgb(36, 36, 36); fill-opacity: 1; white-space: pre;\">beta_x,y (m)</text></g></g></svg>"
      ]
     },
     "metadata": {},
     "output_type": "display_data"
    }
   ],
   "source": [
    "fig = make_subplots(rows=2, shared_xaxes=True, row_heights=[0.85, 0.15])\n",
    "\n",
    "fig.add_trace( go.Scatter(x=df.s, y=df.betax, mode='lines', line_width=2, line_color=\"red\", name='beta_x')) #r'$\\beta_x$') )\n",
    "fig.add_trace( go.Scatter(x=df.s, y=df.betay, mode='lines', line_width=2, line_color=\"blue\", name='beta_y')) #r'$\\beta_y$') )\n",
    "\n",
    "fig.update_yaxes(title_text=\"beta_x,y (m)\", showgrid=True) # r\"$\\beta_{x,y}~\\mathrm{(m)}$\"\n",
    "fig.update_xaxes(title_text=\"s (m)\", showticklabels=True, showgrid=True)\n",
    "\n",
    "fig.add_trace(mag, row=2, col=1)\n",
    "\n",
    "fig.update_traces(xaxis='x')\n",
    "fig.update_layout(xaxis2={'visible': False}, yaxis2={'visible': False}, hovermode='x unified')\n",
    "\n",
    "fig.update_layout(height=600)\n",
    "fig.show()"
   ]
  },
  {
   "cell_type": "code",
   "execution_count": 18,
   "metadata": {},
   "outputs": [],
   "source": [
    "#fig.show(renderer=\"svg\")"
   ]
  },
  {
   "cell_type": "code",
   "execution_count": 19,
   "metadata": {},
   "outputs": [
    {
     "data": {
      "image/svg+xml": [
       "<svg class=\"main-svg\" xmlns=\"http://www.w3.org/2000/svg\" xmlns:xlink=\"http://www.w3.org/1999/xlink\" width=\"700\" height=\"600\" style=\"\" viewBox=\"0 0 700 600\"><rect x=\"0\" y=\"0\" width=\"700\" height=\"600\" style=\"fill: rgb(255, 255, 255); fill-opacity: 1;\"/><defs id=\"defs-6a8845\"><g class=\"clips\"><clipPath id=\"clip6a8845xyplot\" class=\"plotclip\"><rect width=\"530\" height=\"300.6315789473684\"/></clipPath><clipPath id=\"clip6a8845xy2plot\" class=\"plotclip\"><rect width=\"530\" height=\"56.36842105263158\"/></clipPath><clipPath class=\"axesclip\" id=\"clip6a8845x\"><rect x=\"80\" y=\"0\" width=\"530\" height=\"600\"/></clipPath><clipPath class=\"axesclip\" id=\"clip6a8845y\"><rect x=\"0\" y=\"100.00000000000004\" width=\"700\" height=\"300.6315789473684\"/></clipPath><clipPath class=\"axesclip\" id=\"clip6a8845xy\"><rect x=\"80\" y=\"100.00000000000004\" width=\"530\" height=\"300.6315789473684\"/></clipPath><clipPath class=\"axesclip\" id=\"clip6a8845y2\"><rect x=\"0\" y=\"463.63157894736844\" width=\"700\" height=\"56.36842105263158\"/></clipPath><clipPath class=\"axesclip\" id=\"clip6a8845xy2\"><rect x=\"80\" y=\"463.63157894736844\" width=\"530\" height=\"56.36842105263158\"/></clipPath></g><g class=\"gradients\"/><g class=\"patterns\"/></defs><g class=\"bglayer\"/><g class=\"layer-below\"><g class=\"imagelayer\"/><g class=\"shapelayer\"/></g><g class=\"cartesianlayer\"><g class=\"subplot xy\"><g class=\"layer-subplot\"><g class=\"shapelayer\"/><g class=\"imagelayer\"/></g><g class=\"minor-gridlayer\"><g class=\"x\"/><g class=\"y\"/></g><g class=\"gridlayer\"><g class=\"x\"><path class=\"xgrid crisp\" transform=\"translate(176.61,0)\" d=\"M0,100.00000000000004v300.6315789473684\" style=\"stroke: rgb(232, 232, 232); stroke-opacity: 1; stroke-width: 1px;\"/><path class=\"xgrid crisp\" transform=\"translate(273.22,0)\" d=\"M0,100.00000000000004v300.6315789473684\" style=\"stroke: rgb(232, 232, 232); stroke-opacity: 1; stroke-width: 1px;\"/><path class=\"xgrid crisp\" transform=\"translate(369.83,0)\" d=\"M0,100.00000000000004v300.6315789473684\" style=\"stroke: rgb(232, 232, 232); stroke-opacity: 1; stroke-width: 1px;\"/><path class=\"xgrid crisp\" transform=\"translate(466.44,0)\" d=\"M0,100.00000000000004v300.6315789473684\" style=\"stroke: rgb(232, 232, 232); stroke-opacity: 1; stroke-width: 1px;\"/><path class=\"xgrid crisp\" transform=\"translate(563.05,0)\" d=\"M0,100.00000000000004v300.6315789473684\" style=\"stroke: rgb(232, 232, 232); stroke-opacity: 1; stroke-width: 1px;\"/></g><g class=\"y\"><path class=\"ygrid crisp\" transform=\"translate(0,385.6000000000001)\" d=\"M80,0h530\" style=\"stroke: rgb(232, 232, 232); stroke-opacity: 1; stroke-width: 1px;\"/><path class=\"ygrid crisp\" transform=\"translate(0,324.92)\" d=\"M80,0h530\" style=\"stroke: rgb(232, 232, 232); stroke-opacity: 1; stroke-width: 1px;\"/><path class=\"ygrid crisp\" transform=\"translate(0,264.24000000000007)\" d=\"M80,0h530\" style=\"stroke: rgb(232, 232, 232); stroke-opacity: 1; stroke-width: 1px;\"/><path class=\"ygrid crisp\" transform=\"translate(0,203.56000000000006)\" d=\"M80,0h530\" style=\"stroke: rgb(232, 232, 232); stroke-opacity: 1; stroke-width: 1px;\"/><path class=\"ygrid crisp\" transform=\"translate(0,142.88000000000005)\" d=\"M80,0h530\" style=\"stroke: rgb(232, 232, 232); stroke-opacity: 1; stroke-width: 1px;\"/></g></g><g class=\"zerolinelayer\"/><g class=\"layer-between\"><g class=\"shapelayer\"/><g class=\"imagelayer\"/></g><path class=\"xlines-below\"/><path class=\"ylines-below\"/><g class=\"overlines-below\"/><g class=\"xaxislayer-below\"/><g class=\"yaxislayer-below\"/><g class=\"overaxes-below\"/><g class=\"overplot\"><g class=\"xy\" transform=\"translate(80,100.00000000000004)\" clip-path=\"url(#clip6a8845xyplot)\"><g class=\"scatterlayer mlayer\"><g class=\"trace scatter trace0aa9e6\" style=\"stroke-miterlimit: 2; opacity: 1;\"><g class=\"fills\"/><g class=\"errorbars\"/><g class=\"lines\"><path class=\"js-line\" d=\"M0,285.6L56.37,285.6L58.26,284.3L60.15,280.4L62.04,273.82L65.82,252.22L67.71,236.88L71.49,195.98L73.37,169.8L82.84,28.15L84.58,15.03L86.32,28.15L87.67,48.38L99.57,218.23L101.46,236.88L105.23,264.48L107.12,273.82L110.9,284.3L112.79,285.6L152.21,285.6L154.1,284.3L155.99,280.4L157.88,273.82L161.65,252.22L163.54,236.88L167.32,195.98L169.21,169.8L178.68,28.15L180.42,15.03L182.16,28.15L183.51,48.38L195.4,218.23L197.29,236.88L201.07,264.48L202.96,273.82L206.74,284.3L208.63,285.6L321.37,285.6L323.26,284.3L325.15,280.4L327.04,273.82L330.82,252.22L332.71,236.88L336.49,195.98L338.37,169.8L347.84,28.15L349.58,15.03L351.32,28.15L352.67,48.38L364.57,218.23L366.46,236.88L370.23,264.48L372.12,273.82L375.9,284.3L377.79,285.6L417.21,285.6L419.1,284.3L420.99,280.4L422.88,273.82L426.65,252.22L428.54,236.88L432.32,195.98L434.21,169.8L443.68,28.15L445.42,15.03L447.16,28.15L448.51,48.38L460.4,218.23L462.29,236.88L466.07,264.48L467.96,273.82L471.74,284.3L473.63,285.6L530,285.6\" style=\"vector-effect: none; fill: none; stroke: rgb(255, 0, 0); stroke-opacity: 1; stroke-width: 2px; opacity: 1;\"/></g><g class=\"points\"/><g class=\"text\"/></g><g class=\"trace scatter trace989a58\" style=\"stroke-miterlimit: 2; opacity: 1;\"><g class=\"fills\"/><g class=\"errorbars\"/><g class=\"lines\"><path class=\"js-line\" d=\"M0,285.6L530,285.6\" style=\"vector-effect: none; fill: none; stroke: rgb(0, 0, 255); stroke-opacity: 1; stroke-width: 2px; opacity: 1;\"/></g><g class=\"points\"/><g class=\"text\"/></g></g></g></g><path class=\"xlines-above crisp\" d=\"M79,401.13157894736844H610\" style=\"fill: none; stroke-width: 1px; stroke: rgb(36, 36, 36); stroke-opacity: 1;\"/><path class=\"ylines-above crisp\" d=\"M79.5,100.00000000000004V400.63157894736844\" style=\"fill: none; stroke-width: 1px; stroke: rgb(36, 36, 36); stroke-opacity: 1;\"/><g class=\"overlines-above\"/><g class=\"xaxislayer-above\"><path class=\"xtick ticks crisp\" d=\"M0,401.63157894736844v5\" transform=\"translate(80,0)\" style=\"stroke: rgb(68, 68, 68); stroke-opacity: 1; stroke-width: 1px;\"/><path class=\"xtick ticks crisp\" d=\"M0,401.63157894736844v5\" transform=\"translate(176.61,0)\" style=\"stroke: rgb(68, 68, 68); stroke-opacity: 1; stroke-width: 1px;\"/><path class=\"xtick ticks crisp\" d=\"M0,401.63157894736844v5\" transform=\"translate(273.22,0)\" style=\"stroke: rgb(68, 68, 68); stroke-opacity: 1; stroke-width: 1px;\"/><path class=\"xtick ticks crisp\" d=\"M0,401.63157894736844v5\" transform=\"translate(369.83,0)\" style=\"stroke: rgb(68, 68, 68); stroke-opacity: 1; stroke-width: 1px;\"/><path class=\"xtick ticks crisp\" d=\"M0,401.63157894736844v5\" transform=\"translate(466.44,0)\" style=\"stroke: rgb(68, 68, 68); stroke-opacity: 1; stroke-width: 1px;\"/><path class=\"xtick ticks crisp\" d=\"M0,401.63157894736844v5\" transform=\"translate(563.05,0)\" style=\"stroke: rgb(68, 68, 68); stroke-opacity: 1; stroke-width: 1px;\"/><g class=\"xtick\"><text text-anchor=\"middle\" x=\"0\" y=\"421.0315789473684\" transform=\"translate(80,0)\" style=\"font-family: 'Open Sans', verdana, arial, sans-serif; font-size: 12px; fill: rgb(36, 36, 36); fill-opacity: 1; white-space: pre; opacity: 1;\">0</text></g><g class=\"xtick\"><text text-anchor=\"middle\" x=\"0\" y=\"421.0315789473684\" style=\"font-family: 'Open Sans', verdana, arial, sans-serif; font-size: 12px; fill: rgb(36, 36, 36); fill-opacity: 1; white-space: pre; opacity: 1;\" transform=\"translate(176.61,0)\">5</text></g><g class=\"xtick\"><text text-anchor=\"middle\" x=\"0\" y=\"421.0315789473684\" style=\"font-family: 'Open Sans', verdana, arial, sans-serif; font-size: 12px; fill: rgb(36, 36, 36); fill-opacity: 1; white-space: pre; opacity: 1;\" transform=\"translate(273.22,0)\">10</text></g><g class=\"xtick\"><text text-anchor=\"middle\" x=\"0\" y=\"421.0315789473684\" style=\"font-family: 'Open Sans', verdana, arial, sans-serif; font-size: 12px; fill: rgb(36, 36, 36); fill-opacity: 1; white-space: pre; opacity: 1;\" transform=\"translate(369.83,0)\">15</text></g><g class=\"xtick\"><text text-anchor=\"middle\" x=\"0\" y=\"421.0315789473684\" style=\"font-family: 'Open Sans', verdana, arial, sans-serif; font-size: 12px; fill: rgb(36, 36, 36); fill-opacity: 1; white-space: pre; opacity: 1;\" transform=\"translate(466.44,0)\">20</text></g><g class=\"xtick\"><text text-anchor=\"middle\" x=\"0\" y=\"421.0315789473684\" style=\"font-family: 'Open Sans', verdana, arial, sans-serif; font-size: 12px; fill: rgb(36, 36, 36); fill-opacity: 1; white-space: pre; opacity: 1;\" transform=\"translate(563.05,0)\">25</text></g></g><g class=\"yaxislayer-above\"><path class=\"ytick ticks crisp\" d=\"M79,0h-5\" transform=\"translate(0,385.6000000000001)\" style=\"stroke: rgb(68, 68, 68); stroke-opacity: 1; stroke-width: 1px;\"/><path class=\"ytick ticks crisp\" d=\"M79,0h-5\" transform=\"translate(0,324.92)\" style=\"stroke: rgb(68, 68, 68); stroke-opacity: 1; stroke-width: 1px;\"/><path class=\"ytick ticks crisp\" d=\"M79,0h-5\" transform=\"translate(0,264.24000000000007)\" style=\"stroke: rgb(68, 68, 68); stroke-opacity: 1; stroke-width: 1px;\"/><path class=\"ytick ticks crisp\" d=\"M79,0h-5\" transform=\"translate(0,203.56000000000006)\" style=\"stroke: rgb(68, 68, 68); stroke-opacity: 1; stroke-width: 1px;\"/><path class=\"ytick ticks crisp\" d=\"M79,0h-5\" transform=\"translate(0,142.88000000000005)\" style=\"stroke: rgb(68, 68, 68); stroke-opacity: 1; stroke-width: 1px;\"/><g class=\"ytick\"><text text-anchor=\"end\" x=\"71.6\" y=\"4.199999999999999\" transform=\"translate(0,385.6000000000001)\" style=\"font-family: 'Open Sans', verdana, arial, sans-serif; font-size: 12px; fill: rgb(36, 36, 36); fill-opacity: 1; white-space: pre; opacity: 1;\">0</text></g><g class=\"ytick\"><text text-anchor=\"end\" x=\"71.6\" y=\"4.199999999999999\" style=\"font-family: 'Open Sans', verdana, arial, sans-serif; font-size: 12px; fill: rgb(36, 36, 36); fill-opacity: 1; white-space: pre; opacity: 1;\" transform=\"translate(0,324.92)\">0.2</text></g><g class=\"ytick\"><text text-anchor=\"end\" x=\"71.6\" y=\"4.199999999999999\" style=\"font-family: 'Open Sans', verdana, arial, sans-serif; font-size: 12px; fill: rgb(36, 36, 36); fill-opacity: 1; white-space: pre; opacity: 1;\" transform=\"translate(0,264.24000000000007)\">0.4</text></g><g class=\"ytick\"><text text-anchor=\"end\" x=\"71.6\" y=\"4.199999999999999\" style=\"font-family: 'Open Sans', verdana, arial, sans-serif; font-size: 12px; fill: rgb(36, 36, 36); fill-opacity: 1; white-space: pre; opacity: 1;\" transform=\"translate(0,203.56000000000006)\">0.6</text></g><g class=\"ytick\"><text text-anchor=\"end\" x=\"71.6\" y=\"4.199999999999999\" style=\"font-family: 'Open Sans', verdana, arial, sans-serif; font-size: 12px; fill: rgb(36, 36, 36); fill-opacity: 1; white-space: pre; opacity: 1;\" transform=\"translate(0,142.88000000000005)\">0.8</text></g></g><g class=\"overaxes-above\"/></g><g class=\"subplot xy2\"><g class=\"layer-subplot\"><g class=\"shapelayer\"/><g class=\"imagelayer\"/></g><g class=\"minor-gridlayer\"><g class=\"x\"/><g class=\"y2\"/></g><g class=\"gridlayer\"><g class=\"x\"><path class=\"xgrid crisp\" transform=\"translate(176.61,0)\" d=\"M0,463.63157894736844v56.36842105263158\" style=\"stroke: rgb(232, 232, 232); stroke-opacity: 1; stroke-width: 1px;\"/><path class=\"xgrid crisp\" transform=\"translate(273.22,0)\" d=\"M0,463.63157894736844v56.36842105263158\" style=\"stroke: rgb(232, 232, 232); stroke-opacity: 1; stroke-width: 1px;\"/><path class=\"xgrid crisp\" transform=\"translate(369.83,0)\" d=\"M0,463.63157894736844v56.36842105263158\" style=\"stroke: rgb(232, 232, 232); stroke-opacity: 1; stroke-width: 1px;\"/><path class=\"xgrid crisp\" transform=\"translate(466.44,0)\" d=\"M0,463.63157894736844v56.36842105263158\" style=\"stroke: rgb(232, 232, 232); stroke-opacity: 1; stroke-width: 1px;\"/><path class=\"xgrid crisp\" transform=\"translate(563.05,0)\" d=\"M0,463.63157894736844v56.36842105263158\" style=\"stroke: rgb(232, 232, 232); stroke-opacity: 1; stroke-width: 1px;\"/></g><g class=\"y2\"/></g><g class=\"zerolinelayer\"/><g class=\"layer-between\"><g class=\"shapelayer\"/><g class=\"imagelayer\"/></g><path class=\"xlines-below\"/><path class=\"ylines-below\"/><g class=\"overlines-below\"/><g class=\"xaxislayer-below\"/><g class=\"yaxislayer-below\"/><g class=\"overaxes-below\"/><g class=\"overplot\"><g class=\"xy2\" transform=\"translate(80,463.63157894736844)\" clip-path=\"url(#clip6a8845xy2plot)\"><g class=\"scatterlayer mlayer\"><g class=\"trace scatter tracefd5c1e\" style=\"stroke-miterlimit: 2; opacity: 1;\"><g class=\"fills\"/><g class=\"errorbars\"/><g class=\"lines\"><path class=\"js-line\" d=\"M0,28.18L10.77,28.18L10.77,28.18L10.77,2.82L12.7,2.82L12.7,28.18L10.77,28.18L12.7,28.18L12.7,2.82L14.64,2.82L14.64,28.18L12.7,28.18L16.57,28.18L16.57,28.18L16.57,53.55L18.5,53.55L18.5,28.18L16.57,28.18L18.5,28.18L18.5,53.55L20.43,53.55L20.43,28.18L18.5,28.18L41.3,28.18L41.3,28.18L41.3,53.55L43.23,53.55L43.23,28.18L41.3,28.18L43.23,28.18L43.23,53.55L45.16,53.55L45.16,28.18L43.23,28.18L49.42,28.18L49.42,28.18L49.42,2.82L51.15,2.82L51.15,28.18L49.42,28.18L51.15,28.18L51.15,2.82L52.89,2.82L52.89,28.18L51.15,28.18L56.37,28.18L56.37,28.18L56.37,19.73L58.26,19.73L58.26,28.18L56.37,28.18L58.26,28.18L58.26,19.73L60.15,19.73L60.15,28.18L58.26,28.18L60.15,28.18L60.15,19.73L62.04,19.73L62.04,28.18L60.15,28.18L62.04,28.18L62.04,19.73L63.93,19.73L63.93,28.18L62.04,28.18L63.93,28.18L63.93,19.73L65.82,19.73L65.82,28.18L63.93,28.18L65.82,28.18L65.82,19.73L67.71,19.73L67.71,28.18L65.82,28.18L67.71,28.18L67.71,19.73L69.6,19.73L69.6,28.18L67.71,28.18L69.6,28.18L69.6,19.73L71.49,19.73L71.49,28.18L69.6,28.18L71.49,28.18L71.49,19.73L73.37,19.73L73.37,28.18L71.49,28.18L75.4,28.18L75.4,28.18L75.4,15.5L76.95,15.5L76.95,28.18L75.4,28.18L79.94,28.18L79.94,28.18L79.94,15.5L81.49,15.5L81.49,28.18L79.94,28.18L82.84,28.18L82.84,28.18L82.84,2.82L84.58,2.82L84.58,28.18L82.84,28.18L84.58,28.18L84.58,2.82L86.32,2.82L86.32,28.18L84.58,28.18L87.67,28.18L87.67,28.18L87.67,15.5L89.22,15.5L89.22,28.18L87.67,28.18L92.21,28.18L92.21,28.18L92.21,15.5L93.76,15.5L93.76,28.18L92.21,28.18L95.79,28.18L95.79,28.18L95.79,19.73L97.68,19.73L97.68,28.18L95.79,28.18L97.68,28.18L97.68,19.73L99.57,19.73L99.57,28.18L97.68,28.18L99.57,28.18L99.57,19.73L101.46,19.73L101.46,28.18L99.57,28.18L101.46,28.18L101.46,19.73L103.35,19.73L103.35,28.18L101.46,28.18L103.35,28.18L103.35,19.73L105.23,19.73L105.23,28.18L103.35,28.18L105.23,28.18L105.23,19.73L107.12,19.73L107.12,28.18L105.23,28.18L107.12,28.18L107.12,19.73L109.01,19.73L109.01,28.18L107.12,28.18L109.01,28.18L109.01,19.73L110.9,19.73L110.9,28.18L109.01,28.18L110.9,28.18L110.9,19.73L112.79,19.73L112.79,28.18L110.9,28.18L116.27,28.18L116.27,28.18L116.27,2.82L118.01,2.82L118.01,28.18L116.27,28.18L118.01,28.18L118.01,2.82L119.75,2.82L119.75,28.18L118.01,28.18L122.07,28.18L122.07,28.18L122.07,53.55L123.81,53.55L123.81,28.18L122.07,28.18L123.81,28.18L123.81,53.55L125.54,53.55L125.54,28.18L123.81,28.18L129.6,28.18L129.6,28.18L129.96,19.22L130.33,15.5L130.69,19.22L131.05,28.18L131.78,40.87L132.14,37.15L132.5,28.18L133.22,15.5L133.59,19.22L133.95,28.18L134.67,40.87L135.04,37.15L135.4,28.18L139.46,28.18L139.46,28.18L139.46,53.55L141.19,53.55L141.19,28.18L139.46,28.18L141.19,28.18L141.19,53.55L142.93,53.55L142.93,28.18L141.19,28.18L145.25,28.18L145.25,28.18L145.25,2.82L146.99,2.82L146.99,28.18L145.25,28.18L146.99,28.18L146.99,2.82L148.73,2.82L148.73,28.18L146.99,28.18L152.21,28.18L152.21,28.18L152.21,19.73L154.1,19.73L154.1,28.18L152.21,28.18L154.1,28.18L154.1,19.73L155.99,19.73L155.99,28.18L154.1,28.18L155.99,28.18L155.99,19.73L157.88,19.73L157.88,28.18L155.99,28.18L157.88,28.18L157.88,19.73L159.77,19.73L159.77,28.18L157.88,28.18L159.77,28.18L159.77,19.73L161.65,19.73L161.65,28.18L159.77,28.18L161.65,28.18L161.65,19.73L163.54,19.73L163.54,28.18L161.65,28.18L163.54,28.18L163.54,19.73L165.43,19.73L165.43,28.18L163.54,28.18L165.43,28.18L165.43,19.73L167.32,19.73L167.32,28.18L165.43,28.18L167.32,28.18L167.32,19.73L169.21,19.73L169.21,28.18L167.32,28.18L171.24,28.18L171.24,28.18L171.24,15.5L172.79,15.5L172.79,28.18L171.24,28.18L175.78,28.18L175.78,28.18L175.78,15.5L177.33,15.5L177.33,28.18L175.78,28.18L178.68,28.18L178.68,28.18L178.68,2.82L180.42,2.82L180.42,28.18L178.68,28.18L180.42,28.18L180.42,2.82L182.16,2.82L182.16,28.18L180.42,28.18L183.51,28.18L183.51,28.18L183.51,15.5L185.06,15.5L185.06,28.18L183.51,28.18L188.05,28.18L188.05,28.18L188.05,15.5L189.6,15.5L189.6,28.18L188.05,28.18L191.63,28.18L191.63,28.18L191.63,19.73L193.51,19.73L193.51,28.18L191.63,28.18L193.51,28.18L193.51,19.73L195.4,19.73L195.4,28.18L193.51,28.18L195.4,28.18L195.4,19.73L197.29,19.73L197.29,28.18L195.4,28.18L197.29,28.18L197.29,19.73L199.18,19.73L199.18,28.18L197.29,28.18L199.18,28.18L199.18,19.73L201.07,19.73L201.07,28.18L199.18,28.18L201.07,28.18L201.07,19.73L202.96,19.73L202.96,28.18L201.07,28.18L202.96,28.18L202.96,19.73L204.85,19.73L204.85,28.18L202.96,28.18L204.85,28.18L204.85,19.73L206.74,19.73L206.74,28.18L204.85,28.18L206.74,28.18L206.74,19.73L208.63,19.73L208.63,28.18L206.74,28.18L212.11,28.18L212.11,28.18L212.11,2.82L213.85,2.82L213.85,28.18L212.11,28.18L213.85,28.18L213.85,2.82L215.58,2.82L215.58,28.18L213.85,28.18L219.84,28.18L219.84,28.18L219.84,53.55L221.77,53.55L221.77,28.18L219.84,28.18L221.77,28.18L221.77,53.55L223.7,53.55L223.7,28.18L221.77,28.18L244.57,28.18L244.57,28.18L244.57,53.55L246.5,53.55L246.5,28.18L244.57,28.18L246.5,28.18L246.5,53.55L248.43,53.55L248.43,28.18L246.5,28.18L250.36,28.18L250.36,28.18L250.36,2.82L252.3,2.82L252.3,28.18L250.36,28.18L252.3,28.18L252.3,2.82L254.23,2.82L254.23,28.18L252.3,28.18L275.77,28.18L275.77,28.18L275.77,2.82L277.7,2.82L277.7,28.18L275.77,28.18L277.7,28.18L277.7,2.82L279.64,2.82L279.64,28.18L277.7,28.18L281.57,28.18L281.57,28.18L281.57,53.55L283.5,53.55L283.5,28.18L281.57,28.18L283.5,28.18L283.5,53.55L285.43,53.55L285.43,28.18L283.5,28.18L306.3,28.18L306.3,28.18L306.3,53.55L308.23,53.55L308.23,28.18L306.3,28.18L308.23,28.18L308.23,53.55L310.16,53.55L310.16,28.18L308.23,28.18L314.42,28.18L314.42,28.18L314.42,2.82L316.15,2.82L316.15,28.18L314.42,28.18L316.15,28.18L316.15,2.82L317.89,2.82L317.89,28.18L316.15,28.18L321.37,28.18L321.37,28.18L321.37,19.73L323.26,19.73L323.26,28.18L321.37,28.18L323.26,28.18L323.26,19.73L325.15,19.73L325.15,28.18L323.26,28.18L325.15,28.18L325.15,19.73L327.04,19.73L327.04,28.18L325.15,28.18L327.04,28.18L327.04,19.73L328.93,19.73L328.93,28.18L327.04,28.18L328.93,28.18L328.93,19.73L330.82,19.73L330.82,28.18L328.93,28.18L330.82,28.18L330.82,19.73L332.71,19.73L332.71,28.18L330.82,28.18L332.71,28.18L332.71,19.73L334.6,19.73L334.6,28.18L332.71,28.18L334.6,28.18L334.6,19.73L336.49,19.73L336.49,28.18L334.6,28.18L336.49,28.18L336.49,19.73L338.37,19.73L338.37,28.18L336.49,28.18L340.4,28.18L340.4,28.18L340.4,15.5L341.95,15.5L341.95,28.18L340.4,28.18L344.94,28.18L344.94,28.18L344.94,15.5L346.49,15.5L346.49,28.18L344.94,28.18L347.84,28.18L347.84,28.18L347.84,2.82L349.58,2.82L349.58,28.18L347.84,28.18L349.58,28.18L349.58,2.82L351.32,2.82L351.32,28.18L349.58,28.18L352.67,28.18L352.67,28.18L352.67,15.5L354.22,15.5L354.22,28.18L352.67,28.18L357.21,28.18L357.21,28.18L357.21,15.5L358.76,15.5L358.76,28.18L357.21,28.18L360.79,28.18L360.79,28.18L360.79,19.73L362.68,19.73L362.68,28.18L360.79,28.18L362.68,28.18L362.68,19.73L364.57,19.73L364.57,28.18L362.68,28.18L364.57,28.18L364.57,19.73L366.46,19.73L366.46,28.18L364.57,28.18L366.46,28.18L366.46,19.73L368.35,19.73L368.35,28.18L366.46,28.18L368.35,28.18L368.35,19.73L370.23,19.73L370.23,28.18L368.35,28.18L370.23,28.18L370.23,19.73L372.12,19.73L372.12,28.18L370.23,28.18L372.12,28.18L372.12,19.73L374.01,19.73L374.01,28.18L372.12,28.18L374.01,28.18L374.01,19.73L375.9,19.73L375.9,28.18L374.01,28.18L375.9,28.18L375.9,19.73L377.79,19.73L377.79,28.18L375.9,28.18L381.27,28.18L381.27,28.18L381.27,2.82L383.01,2.82L383.01,28.18L381.27,28.18L383.01,28.18L383.01,2.82L384.75,2.82L384.75,28.18L383.01,28.18L387.07,28.18L387.07,28.18L387.07,53.55L388.81,53.55L388.81,28.18L387.07,28.18L388.81,28.18L388.81,53.55L390.54,53.55L390.54,28.18L388.81,28.18L394.6,28.18L394.6,28.18L394.96,19.22L395.33,15.5L395.69,19.22L396.05,28.18L396.78,40.87L397.14,37.15L397.5,28.18L398.22,15.5L398.59,19.22L398.95,28.18L399.67,40.87L400.04,37.15L400.4,28.18L404.46,28.18L404.46,28.18L404.46,53.55L406.19,53.55L406.19,28.18L404.46,28.18L406.19,28.18L406.19,53.55L407.93,53.55L407.93,28.18L406.19,28.18L410.25,28.18L410.25,28.18L410.25,2.82L411.99,2.82L411.99,28.18L410.25,28.18L411.99,28.18L411.99,2.82L413.73,2.82L413.73,28.18L411.99,28.18L417.21,28.18L417.21,28.18L417.21,19.73L419.1,19.73L419.1,28.18L417.21,28.18L419.1,28.18L419.1,19.73L420.99,19.73L420.99,28.18L419.1,28.18L420.99,28.18L420.99,19.73L422.88,19.73L422.88,28.18L420.99,28.18L422.88,28.18L422.88,19.73L424.77,19.73L424.77,28.18L422.88,28.18L424.77,28.18L424.77,19.73L426.65,19.73L426.65,28.18L424.77,28.18L426.65,28.18L426.65,19.73L428.54,19.73L428.54,28.18L426.65,28.18L428.54,28.18L428.54,19.73L430.43,19.73L430.43,28.18L428.54,28.18L430.43,28.18L430.43,19.73L432.32,19.73L432.32,28.18L430.43,28.18L432.32,28.18L432.32,19.73L434.21,19.73L434.21,28.18L432.32,28.18L436.24,28.18L436.24,28.18L436.24,15.5L437.79,15.5L437.79,28.18L436.24,28.18L440.78,28.18L440.78,28.18L440.78,15.5L442.33,15.5L442.33,28.18L440.78,28.18L443.68,28.18L443.68,28.18L443.68,2.82L445.42,2.82L445.42,28.18L443.68,28.18L445.42,28.18L445.42,2.82L447.16,2.82L447.16,28.18L445.42,28.18L448.51,28.18L448.51,28.18L448.51,15.5L450.06,15.5L450.06,28.18L448.51,28.18L453.05,28.18L453.05,28.18L453.05,15.5L454.6,15.5L454.6,28.18L453.05,28.18L456.63,28.18L456.63,28.18L456.63,19.73L458.51,19.73L458.51,28.18L456.63,28.18L458.51,28.18L458.51,19.73L460.4,19.73L460.4,28.18L458.51,28.18L460.4,28.18L460.4,19.73L462.29,19.73L462.29,28.18L460.4,28.18L462.29,28.18L462.29,19.73L464.18,19.73L464.18,28.18L462.29,28.18L464.18,28.18L464.18,19.73L466.07,19.73L466.07,28.18L464.18,28.18L466.07,28.18L466.07,19.73L467.96,19.73L467.96,28.18L466.07,28.18L467.96,28.18L467.96,19.73L469.85,19.73L469.85,28.18L467.96,28.18L469.85,28.18L469.85,19.73L471.74,19.73L471.74,28.18L469.85,28.18L471.74,28.18L471.74,19.73L473.63,19.73L473.63,28.18L471.74,28.18L477.11,28.18L477.11,28.18L477.11,2.82L478.85,2.82L478.85,28.18L477.11,28.18L478.85,28.18L478.85,2.82L480.58,2.82L480.58,28.18L478.85,28.18L484.84,28.18L484.84,28.18L484.84,53.55L486.77,53.55L486.77,28.18L484.84,28.18L486.77,28.18L486.77,53.55L488.7,53.55L488.7,28.18L486.77,28.18L509.57,28.18L509.57,28.18L509.57,53.55L511.5,53.55L511.5,28.18L509.57,28.18L511.5,28.18L511.5,53.55L513.43,53.55L513.43,28.18L511.5,28.18L515.36,28.18L515.36,28.18L515.36,2.82L517.3,2.82L517.3,28.18L515.36,28.18L517.3,28.18L517.3,2.82L519.23,2.82L519.23,28.18L517.3,28.18L530,28.18\" style=\"vector-effect: none; fill: none; stroke: rgb(128, 128, 128); stroke-opacity: 1; stroke-width: 2px; opacity: 1;\"/></g><g class=\"points\"/><g class=\"text\"/></g></g></g></g><path class=\"xlines-above crisp\" d=\"M0,0\" style=\"fill: none;\"/><path class=\"ylines-above crisp\" d=\"M0,0\" style=\"fill: none;\"/><g class=\"overlines-above\"/><g class=\"xaxislayer-above\"/><g class=\"yaxislayer-above\"/><g class=\"overaxes-above\"/></g></g><g class=\"polarlayer\"/><g class=\"smithlayer\"/><g class=\"ternarylayer\"/><g class=\"geolayer\"/><g class=\"funnelarealayer\"/><g class=\"pielayer\"/><g class=\"iciclelayer\"/><g class=\"treemaplayer\"/><g class=\"sunburstlayer\"/><g class=\"glimages\"/><defs id=\"topdefs-6a8845\"><g class=\"clips\"/><clipPath id=\"legend6a8845\"><rect width=\"67\" height=\"48\" x=\"0\" y=\"0\"/></clipPath></defs><g class=\"layer-above\"><g class=\"imagelayer\"/><g class=\"shapelayer\"/></g><g class=\"infolayer\"><g class=\"legend\" pointer-events=\"all\" transform=\"translate(620.6,100)\"><rect class=\"bg\" shape-rendering=\"crispEdges\" style=\"stroke: rgb(68, 68, 68); stroke-opacity: 1; fill: rgb(255, 255, 255); fill-opacity: 1; stroke-width: 0px;\" width=\"67\" height=\"48\" x=\"0\" y=\"0\"/><g class=\"scrollbox\" transform=\"\" clip-path=\"url(#legend6a8845)\"><g class=\"groups\"><g class=\"traces\" transform=\"translate(0,14.5)\" style=\"opacity: 1;\"><text class=\"legendtext\" text-anchor=\"start\" x=\"40\" y=\"4.680000000000001\" style=\"font-family: 'Open Sans', verdana, arial, sans-serif; font-size: 12px; fill: rgb(36, 36, 36); fill-opacity: 1; white-space: pre;\">D_x</text><g class=\"layers\" style=\"opacity: 1;\"><g class=\"legendfill\"/><g class=\"legendlines\"><path class=\"js-line\" d=\"M5,0h30\" style=\"fill: none; stroke: rgb(255, 0, 0); stroke-opacity: 1; stroke-width: 2px;\"/></g><g class=\"legendsymbols\"><g class=\"legendpoints\"/></g></g><rect class=\"legendtoggle\" x=\"0\" y=\"-9.5\" width=\"61.34375\" height=\"19\" style=\"fill: rgb(0, 0, 0); fill-opacity: 0;\"/></g><g class=\"traces\" transform=\"translate(0,33.5)\" style=\"opacity: 1;\"><text class=\"legendtext\" text-anchor=\"start\" x=\"40\" y=\"4.680000000000001\" style=\"font-family: 'Open Sans', verdana, arial, sans-serif; font-size: 12px; fill: rgb(36, 36, 36); fill-opacity: 1; white-space: pre;\">D_y</text><g class=\"layers\" style=\"opacity: 1;\"><g class=\"legendfill\"/><g class=\"legendlines\"><path class=\"js-line\" d=\"M5,0h30\" style=\"fill: none; stroke: rgb(0, 0, 255); stroke-opacity: 1; stroke-width: 2px;\"/></g><g class=\"legendsymbols\"><g class=\"legendpoints\"/></g></g><rect class=\"legendtoggle\" x=\"0\" y=\"-9.5\" width=\"61.34375\" height=\"19\" style=\"fill: rgb(0, 0, 0); fill-opacity: 0;\"/></g></g></g><rect class=\"scrollbar\" rx=\"20\" ry=\"3\" width=\"0\" height=\"0\" style=\"fill: rgb(128, 139, 164); fill-opacity: 1;\" x=\"0\" y=\"0\"/></g><g class=\"g-gtitle\"/><g class=\"g-xtitle\"><text class=\"xtitle\" x=\"345\" y=\"448.346875\" text-anchor=\"middle\" style=\"opacity: 1; font-family: 'Open Sans', verdana, arial, sans-serif; font-size: 14px; fill: rgb(36, 36, 36); fill-opacity: 1; white-space: pre;\">s (m)</text></g><g class=\"g-ytitle\"><text class=\"ytitle\" transform=\"rotate(-90,35.50625,250.31578947368422)\" x=\"35.50625\" y=\"250.31578947368422\" text-anchor=\"middle\" style=\"opacity: 1; font-family: 'Open Sans', verdana, arial, sans-serif; font-size: 14px; fill: rgb(36, 36, 36); fill-opacity: 1; white-space: pre;\">D_x,y (m)</text></g></g></svg>"
      ]
     },
     "metadata": {},
     "output_type": "display_data"
    }
   ],
   "source": [
    "fig = make_subplots(rows=2, shared_xaxes=True, row_heights=[0.8, 0.15])\n",
    "\n",
    "fig.add_trace( go.Scatter(x=df.s, y=df.etax, mode='lines', line_width=2, line_color=\"red\", name=\"D_x\")) #r'$D_x$') )\n",
    "fig.add_trace( go.Scatter(x=df.s, y=df.etay, mode='lines', line_width=2, line_color=\"blue\", name=\"D_y\")) #r'$D_y$') )\n",
    "\n",
    "fig.update_yaxes(title_text=\"D_x,y (m)\", showgrid=True) # r\"$D_{x,y}~\\mathrm{(m)}$\"\n",
    "fig.update_xaxes(title_text=\"s (m)\", showticklabels=True, showgrid=True)\n",
    "\n",
    "fig.add_trace(mag, row=2, col=1)\n",
    "\n",
    "fig.update_traces(xaxis='x')\n",
    "fig.update_layout(xaxis2={'visible': False}, yaxis2={'visible': False}, hovermode='x unified')\n",
    "\n",
    "fig.update_layout(height=600)\n",
    "fig.show()"
   ]
  },
  {
   "cell_type": "code",
   "execution_count": 20,
   "metadata": {},
   "outputs": [],
   "source": [
    "#fig.show(renderer='svg', width=900, height=600)"
   ]
  },
  {
   "cell_type": "markdown",
   "metadata": {},
   "source": [
    "## Betatron tunes & chromaticity"
   ]
  },
  {
   "cell_type": "code",
   "execution_count": 21,
   "metadata": {},
   "outputs": [],
   "source": [
    "def sddspar(file_name, par_name):\n",
    "    s = !sdds2stream $file_name -par=$par_name\n",
    "    s = s[0]\n",
    "    try:\n",
    "        val = float(s)\n",
    "        return val\n",
    "    except (ValueError, TypeError):\n",
    "        return s"
   ]
  },
  {
   "cell_type": "code",
   "execution_count": 22,
   "metadata": {},
   "outputs": [
    {
     "data": {
      "text/latex": [
       "$\\nu_x=4.785,\\ \\nu_y=2.860$"
      ],
      "text/plain": [
       "<IPython.core.display.Latex object>"
      ]
     },
     "execution_count": 22,
     "metadata": {},
     "output_type": "execute_result"
    }
   ],
   "source": [
    "nux=sddspar(twi,'nux')\n",
    "nuy=sddspar(twi,'nuy')\n",
    "\n",
    "Latex(r'$\\nu_x=%.3f,\\ \\nu_y=%.3f$' % (nux, nuy))"
   ]
  },
  {
   "cell_type": "code",
   "execution_count": 23,
   "metadata": {},
   "outputs": [],
   "source": [
    "diag = 'results/resdiag.sdds'\n",
    "nux_int = np.floor(nux)\n",
    "nuy_int = np.floor(nuy)\n",
    "\n",
    "!sddsresdiag $diag -order=8 -integerTunes=$nux_int,$nuy_int -superperiodicity=1"
   ]
  },
  {
   "cell_type": "code",
   "execution_count": 24,
   "metadata": {},
   "outputs": [
    {
     "name": "stdout",
     "output_type": "stream",
     "text": [
      "Warning: not all 120 quantities have the same units\n",
      "Warning: not all 121 quantities have the same units\n"
     ]
    },
    {
     "data": {
      "image/png": "[encoded data removed]",
      "text/plain": [
       "<IPython.core.display.Image object>"
      ]
     },
     "execution_count": 24,
     "metadata": {},
     "output_type": "execute_result"
    }
   ],
   "source": [
    "png = \"results/image.png\"\n",
    "!sddsplot -device=png -output=$png -split=page \\\n",
    "    -col=nux,nuy -graph=line,type=15 -filter=par,Order,1,4 $diag \\\n",
    "    -par=nux,nuy -graph=sym,type=1,subtype=1,scale=3,thick=3 $twi\n",
    "Image(png)\n",
    "# -device=lpng -- for bigger plot"
   ]
  },
  {
   "cell_type": "markdown",
   "metadata": {},
   "source": [
    "Chromaticity:"
   ]
  },
  {
   "cell_type": "code",
   "execution_count": 25,
   "metadata": {},
   "outputs": [
    {
     "data": {
      "text/latex": [
       "$\\xi_x=0.43,\\ \\xi_y=0.50$"
      ],
      "text/plain": [
       "<IPython.core.display.Latex object>"
      ]
     },
     "execution_count": 25,
     "metadata": {},
     "output_type": "execute_result"
    }
   ],
   "source": [
    "Latex(r'$\\xi_x=%.2f,\\ \\xi_y=%.2f$' % (sddspar(twi,'dnux/dp'), sddspar(twi,'dnuy/dp')))"
   ]
  },
  {
   "cell_type": "code",
   "execution_count": 26,
   "metadata": {},
   "outputs": [],
   "source": [
    "#fig.show(renderer='png', width=900, height=600, scale=1.5)"
   ]
  },
  {
   "cell_type": "markdown",
   "metadata": {},
   "source": [
    "## Accelerator layout"
   ]
  },
  {
   "cell_type": "code",
   "execution_count": 27,
   "metadata": {},
   "outputs": [],
   "source": [
    "from scipy import interpolate\n",
    "\n",
    "def get_mag_3d(ele_folder='',\n",
    "               Z0=0, X0=0, Y0=0,\n",
    "               theta0 = 0,\n",
    "               Element_width = 0.3 # m\n",
    "              ):\n",
    "    xyz_file = os.path.join(ele_folder, \"results/xyz.sdds\")\n",
    "    mag_file = os.path.join(ele_folder, \"results/beamline.mag\")\n",
    "    df_xyz = sdds2df(xyz_file)\n",
    "    df_mag = sdds2df(mag_file)\n",
    "\n",
    "    theta = interpolate.interp1d(\n",
    "        df_xyz.s.values, df_xyz.theta.values,\n",
    "        fill_value=(0, 0), bounds_error=False\n",
    "    )\n",
    "\n",
    "    psi = interpolate.interp1d(\n",
    "        df_xyz.s.values, df_xyz.psi.values,\n",
    "        fill_value=(0, 0), bounds_error=False\n",
    "    )\n",
    "\n",
    "    Xco = interpolate.interp1d(\n",
    "        df_xyz.s.values, df_xyz.X.values,\n",
    "        fill_value=(None, None), bounds_error=False\n",
    "    )\n",
    "\n",
    "    Zco = interpolate.interp1d(\n",
    "        df_xyz.s.values, df_xyz.Z.values,\n",
    "        fill_value=(None, None), bounds_error=False\n",
    "    )\n",
    "\n",
    "    Yco = interpolate.interp1d(\n",
    "        df_xyz.s.values, df_xyz.Y.values,\n",
    "        fill_value=(None, None), bounds_error=False\n",
    "    )\n",
    "\n",
    "    s = df_mag.s.values\n",
    "    \n",
    "    nx =  np.cos(theta(s))*np.sin(psi(s) + np.pi/2)\n",
    "    nz = -np.sin(theta(s))*np.sin(psi(s) + np.pi/2)\n",
    "    ny =  np.cos(psi(s) + np.pi/2)\n",
    "\n",
    "    df_mag['X'] = Xco(s) + Element_width*df_mag['Profile']*nx\n",
    "    df_mag['Z'] = Zco(s) + Element_width*df_mag['Profile']*nz\n",
    "    df_mag['Y'] = Yco(s) + Element_width*df_mag['Profile']*ny\n",
    "    \n",
    "    Z_old = df_mag.Z.values.copy()\n",
    "    X_old = df_mag.X.values.copy()\n",
    "    \n",
    "    df_mag['Z'] = Z_old*np.cos(theta0) - X_old*np.sin(theta0)\n",
    "    df_mag['X'] = Z_old*np.sin(theta0) + X_old*np.cos(theta0)\n",
    "\n",
    "    df_mag['X'] = df_mag['X'] + X0\n",
    "    df_mag['Z'] = df_mag['Z'] + Z0\n",
    "    df_mag['Y'] = df_mag['Y'] + Y0\n",
    "    \n",
    "    return df_mag"
   ]
  },
  {
   "cell_type": "code",
   "execution_count": 28,
   "metadata": {},
   "outputs": [],
   "source": [
    "df = get_mag_3d()"
   ]
  },
  {
   "cell_type": "code",
   "execution_count": 29,
   "metadata": {},
   "outputs": [
    {
     "data": {
      "text/html": [
       "<div>\n",
       "<style scoped>\n",
       "    .dataframe tbody tr th:only-of-type {\n",
       "        vertical-align: middle;\n",
       "    }\n",
       "\n",
       "    .dataframe tbody tr th {\n",
       "        vertical-align: top;\n",
       "    }\n",
       "\n",
       "    .dataframe thead th {\n",
       "        text-align: right;\n",
       "    }\n",
       "</style>\n",
       "<table border=\"1\" class=\"dataframe\">\n",
       "  <thead>\n",
       "    <tr style=\"text-align: right;\">\n",
       "      <th></th>\n",
       "      <th>ElementName</th>\n",
       "      <th>ElementType</th>\n",
       "      <th>s</th>\n",
       "      <th>Profile</th>\n",
       "      <th>X</th>\n",
       "      <th>Z</th>\n",
       "      <th>Y</th>\n",
       "    </tr>\n",
       "  </thead>\n",
       "  <tbody>\n",
       "    <tr>\n",
       "      <th>1254</th>\n",
       "      <td>D10</td>\n",
       "      <td>DRIF</td>\n",
       "      <td>27.33708</td>\n",
       "      <td>0.0</td>\n",
       "      <td>6.218306e-07</td>\n",
       "      <td>-0.09290</td>\n",
       "      <td>0.0</td>\n",
       "    </tr>\n",
       "    <tr>\n",
       "      <th>1255</th>\n",
       "      <td>D10</td>\n",
       "      <td>DRIF</td>\n",
       "      <td>27.33708</td>\n",
       "      <td>0.0</td>\n",
       "      <td>6.218306e-07</td>\n",
       "      <td>-0.09290</td>\n",
       "      <td>0.0</td>\n",
       "    </tr>\n",
       "    <tr>\n",
       "      <th>1256</th>\n",
       "      <td>D10</td>\n",
       "      <td>DRIF</td>\n",
       "      <td>27.43000</td>\n",
       "      <td>0.0</td>\n",
       "      <td>-6.629352e-11</td>\n",
       "      <td>0.00002</td>\n",
       "      <td>0.0</td>\n",
       "    </tr>\n",
       "  </tbody>\n",
       "</table>\n",
       "</div>"
      ],
      "text/plain": [
       "     ElementName ElementType         s  Profile             X        Z    Y\n",
       "1254         D10        DRIF  27.33708      0.0  6.218306e-07 -0.09290  0.0\n",
       "1255         D10        DRIF  27.33708      0.0  6.218306e-07 -0.09290  0.0\n",
       "1256         D10        DRIF  27.43000      0.0 -6.629352e-11  0.00002  0.0"
      ]
     },
     "execution_count": 29,
     "metadata": {},
     "output_type": "execute_result"
    }
   ],
   "source": [
    "df.tail(3)"
   ]
  },
  {
   "cell_type": "code",
   "execution_count": 30,
   "metadata": {},
   "outputs": [
    {
     "data": {
      "image/svg+xml": [
       "<svg class=\"main-svg\" xmlns=\"http://www.w3.org/2000/svg\" xmlns:xlink=\"http://www.w3.org/1999/xlink\" width=\"700\" height=\"600\" style=\"\" viewBox=\"0 0 700 600\"><rect x=\"0\" y=\"0\" width=\"700\" height=\"600\" style=\"fill: rgb(255, 255, 255); fill-opacity: 1;\"/><defs id=\"defs-8a92d9\"><g class=\"clips\"><clipPath id=\"clip8a92d9xyplot\" class=\"plotclip\"><rect width=\"540\" height=\"420\"/></clipPath><clipPath class=\"axesclip\" id=\"clip8a92d9x\"><rect x=\"80\" y=\"0\" width=\"540\" height=\"600\"/></clipPath><clipPath class=\"axesclip\" id=\"clip8a92d9y\"><rect x=\"0\" y=\"100\" width=\"700\" height=\"420\"/></clipPath><clipPath class=\"axesclip\" id=\"clip8a92d9xy\"><rect x=\"80\" y=\"100\" width=\"540\" height=\"420\"/></clipPath></g><g class=\"gradients\"/><g class=\"patterns\"/></defs><g class=\"bglayer\"/><g class=\"layer-below\"><g class=\"imagelayer\"/><g class=\"shapelayer\"/></g><g class=\"cartesianlayer\"><g class=\"subplot xy\"><g class=\"layer-subplot\"><g class=\"shapelayer\"/><g class=\"imagelayer\"/></g><g class=\"minor-gridlayer\"><g class=\"x\"/><g class=\"y\"/></g><g class=\"gridlayer\"><g class=\"x\"/><g class=\"y\"/></g><g class=\"zerolinelayer\"/><g class=\"layer-between\"><g class=\"shapelayer\"/><g class=\"imagelayer\"/></g><path class=\"xlines-below\"/><path class=\"ylines-below\"/><g class=\"overlines-below\"/><g class=\"xaxislayer-below\"/><g class=\"yaxislayer-below\"/><g class=\"overaxes-below\"/><g class=\"overplot\"><g class=\"xy\" transform=\"translate(80,100)\" clip-path=\"url(#clip8a92d9xyplot)\"><g class=\"scatterlayer mlayer\"><g class=\"trace scatter trace743456\" style=\"stroke-miterlimit: 2; opacity: 1;\"><g class=\"fills\"/><g class=\"errorbars\"/><g class=\"lines\"><path class=\"js-line\" d=\"M270,55.03L299.18,55.03L299.18,55.03L299.18,39.32L304.42,39.32L304.42,55.03L299.18,55.03L304.42,55.03L304.42,39.32L309.65,39.32L309.65,55.03L304.42,55.03L314.88,55.03L314.88,55.03L314.88,70.73L320.12,70.73L320.12,55.03L314.88,55.03L320.12,55.03L320.12,70.73L325.35,70.73L325.35,55.03L320.12,55.03L381.89,55.03L381.89,55.03L381.89,70.73L387.12,70.73L387.12,55.03L381.89,55.03L387.12,55.03L387.12,70.73L392.35,70.73L392.35,55.03L387.12,55.03L403.87,55.03L403.87,55.03L403.87,39.32L408.58,39.32L408.58,55.03L403.87,55.03L408.58,55.03L408.58,39.32L413.29,39.32L413.29,55.03L408.58,55.03L422.71,55.03L422.71,55.03L422.71,49.79L428.28,50.03L427.82,55.25L422.71,55.03L427.82,55.25L428.28,50.03L433.81,50.76L432.9,55.92L427.82,55.25L432.9,55.92L433.81,50.76L439.25,51.97L437.89,57.02L432.9,55.92L437.89,57.02L439.25,51.97L444.56,53.64L442.77,58.56L437.89,57.02L442.77,58.56L444.56,53.64L449.71,55.78L447.5,60.52L442.77,58.56L447.5,60.52L449.71,55.78L454.66,58.35L452.04,62.88L447.5,60.52L452.04,62.88L454.66,58.35L459.36,61.35L456.35,65.63L452.04,62.88L456.35,65.63L459.36,61.35L463.78,64.74L460.41,68.75L456.35,65.63L460.41,68.75L463.78,64.74L467.89,68.5L464.18,72.2L460.41,68.75L468.07,76.09L468.07,76.09L473.62,70.54L476.58,73.5L471.03,79.05L468.07,76.09L476.77,84.79L476.77,84.79L482.32,79.24L485.28,82.2L479.73,87.75L476.77,84.79L482.32,90.34L482.32,90.34L493.42,79.24L496.76,82.57L485.65,93.67L482.32,90.34L485.65,93.67L496.76,82.57L500.09,85.9L488.98,97L485.65,93.67L491.57,99.59L491.57,99.59L497.13,94.04L500.09,97L494.53,102.55L491.57,99.59L500.27,108.29L500.27,108.29L505.82,102.74L508.78,105.7L503.23,111.25L500.27,108.29L507.12,115.14L507.12,115.14L510.82,111.44L514.59,115.55L510.58,118.91L507.12,115.14L510.58,118.91L514.59,115.55L517.98,119.97L513.69,122.97L510.58,118.91L513.69,122.97L517.98,119.97L520.97,124.67L516.44,127.29L513.69,122.97L516.44,127.29L520.97,124.67L523.55,129.61L518.8,131.82L516.44,127.29L518.8,131.82L523.55,129.61L525.68,134.76L520.76,136.55L518.8,131.82L520.76,136.55L525.68,134.76L527.35,140.08L522.3,141.43L520.76,136.55L522.3,141.43L527.35,140.08L528.56,145.52L523.41,146.43L522.3,141.43L523.41,146.43L528.56,145.52L529.29,151.04L524.07,151.5L523.41,146.43L524.07,151.5L529.29,151.04L529.53,156.61L524.3,156.61L524.07,151.5L524.3,166.03L524.3,166.03L540,166.03L540,170.74L524.3,170.74L524.3,166.03L524.3,170.74L540,170.74L540,175.45L524.3,175.45L524.3,170.74L524.3,181.73L524.3,181.73L508.59,181.73L508.59,186.45L524.3,186.45L524.3,181.73L524.3,186.45L508.59,186.45L508.59,191.16L524.3,191.16L524.3,186.45L524.3,202.15L524.3,202.15L529.85,203.13L532.15,204.11L529.85,205.09L516.45,208.04L518.74,209.02L532.15,211.96L529.85,212.95L516.45,215.89L518.74,216.87L524.3,217.85L524.3,217.85L524.3,223.35L524.3,228.84L524.3,228.84L508.59,228.84L508.59,233.56L524.3,233.56L524.3,228.84L524.3,233.56L508.59,233.56L508.59,238.27L524.3,238.27L524.3,233.56L524.3,244.55L524.3,244.55L540,244.55L540,249.26L524.3,249.26L524.3,244.55L524.3,249.26L540,249.26L540,253.97L524.3,253.97L524.3,249.26L524.3,263.39L524.3,263.39L529.53,263.39L529.29,268.96L524.07,268.5L524.3,263.39L524.07,268.5L529.29,268.96L528.56,274.48L523.41,273.58L524.07,268.5L523.41,273.58L528.56,274.48L527.35,279.93L522.3,278.57L523.41,273.58L522.3,278.57L527.35,279.93L525.68,285.24L520.76,283.45L522.3,278.57L520.76,283.45L525.68,285.24L523.55,290.39L518.8,288.18L520.76,283.45L518.8,288.18L523.55,290.39L520.97,295.33L516.44,292.72L518.8,288.18L516.44,292.72L520.97,295.33L517.98,300.03L513.69,297.03L516.44,292.72L513.69,297.03L517.98,300.03L514.59,304.45L510.58,301.09L513.69,297.03L510.58,301.09L514.59,304.45L510.82,308.56L507.12,304.86L510.58,301.09L503.23,308.75L503.23,308.75L508.78,314.3L505.82,317.26L500.27,311.71L503.23,308.75L494.53,317.45L494.53,317.45L500.09,323L497.13,325.96L491.57,320.41L494.53,317.45L488.98,323L488.98,323L500.09,334.1L496.76,337.43L485.65,326.33L488.98,323L485.65,326.33L496.76,337.43L493.42,340.76L482.32,329.66L485.65,326.33L479.73,332.25L479.73,332.25L485.28,337.8L482.32,340.76L476.77,335.21L479.73,332.25L471.03,340.95L471.03,340.95L476.58,346.5L473.62,349.46L468.07,343.91L471.03,340.95L464.18,347.8L464.18,347.8L467.89,351.5L463.78,355.26L460.41,351.25L464.18,347.8L460.41,351.25L463.78,355.26L459.35,358.66L456.35,354.37L460.41,351.25L456.35,354.37L459.35,358.66L454.65,361.65L452.04,357.12L456.35,354.37L452.04,357.12L454.65,361.65L449.71,364.22L447.5,359.48L452.04,357.12L447.5,359.48L449.71,364.22L444.56,366.36L442.77,361.44L447.5,359.48L442.77,361.44L444.56,366.36L439.25,368.03L437.89,362.98L442.77,361.44L437.89,362.98L439.25,368.03L433.81,369.24L432.9,364.08L437.89,362.98L432.9,364.08L433.81,369.24L428.28,369.97L427.82,364.75L432.9,364.08L427.82,364.75L428.28,369.97L422.71,370.21L422.71,364.97L427.82,364.75L413.29,364.97L413.29,364.97L413.29,380.68L408.58,380.68L408.58,364.97L413.29,364.97L408.58,364.97L408.58,380.68L403.87,380.68L403.87,364.97L408.58,364.97L392.35,364.97L392.35,364.97L392.35,349.27L387.12,349.27L387.12,364.97L392.35,364.97L387.12,364.97L387.12,349.27L381.88,349.27L381.88,364.97L387.12,364.97L325.35,364.97L325.35,364.97L325.35,349.27L320.12,349.27L320.12,364.97L325.35,364.97L320.12,364.97L320.12,349.27L314.88,349.27L314.88,364.97L320.12,364.97L309.65,364.97L309.65,364.97L309.65,380.68L304.42,380.68L304.42,364.97L309.65,364.97L304.42,364.97L304.42,380.68L299.18,380.68L299.18,364.97L304.42,364.97L240.82,364.97L240.82,364.97L240.82,380.68L235.58,380.68L235.58,364.97L240.82,364.97L235.58,364.97L235.58,380.68L230.35,380.68L230.35,364.97L235.58,364.97L225.11,364.97L225.11,364.97L225.11,349.27L219.88,349.27L219.88,364.97L225.11,364.97L219.88,364.97L219.88,349.27L214.65,349.27L214.65,364.97L219.88,364.97L158.11,364.97L158.11,364.97L158.11,349.27L152.88,349.27L152.88,364.97L158.11,364.97L152.88,364.97L152.88,349.27L147.65,349.27L147.65,364.97L152.88,364.97L136.13,364.97L136.13,364.97L136.13,380.68L131.42,380.68L131.42,364.97L136.13,364.97L131.42,364.97L131.42,380.68L126.71,380.68L126.71,364.97L131.42,364.97L117.29,364.97L117.29,364.97L117.29,370.21L111.72,369.96L112.17,364.75L117.29,364.97L112.17,364.75L111.72,369.96L106.19,369.24L107.1,364.08L112.17,364.75L107.1,364.08L106.19,369.24L100.75,368.03L102.11,362.98L107.1,364.08L102.11,362.98L100.75,368.03L95.44,366.36L97.23,361.44L102.11,362.98L97.23,361.44L95.44,366.36L90.29,364.22L92.5,359.48L97.23,361.44L92.5,359.48L90.29,364.22L85.34,361.65L87.96,357.12L92.5,359.48L87.96,357.12L85.34,361.65L80.64,358.65L83.65,354.37L87.96,357.12L83.65,354.37L80.64,358.65L76.22,355.26L79.59,351.25L83.65,354.37L79.59,351.25L76.22,355.26L72.11,351.5L75.82,347.8L79.59,351.25L71.93,343.91L71.93,343.91L66.38,349.46L63.42,346.5L68.97,340.95L71.93,343.91L63.23,335.21L63.23,335.21L57.68,340.76L54.72,337.8L60.27,332.25L63.23,335.21L57.68,329.66L57.68,329.66L46.58,340.76L43.24,337.43L54.35,326.33L57.68,329.66L54.35,326.33L43.24,337.43L39.91,334.1L51.02,323L54.35,326.33L48.43,320.41L48.43,320.41L42.87,325.96L39.91,323L45.47,317.45L48.43,320.41L39.73,311.71L39.73,311.71L34.18,317.26L31.22,314.3L36.77,308.75L39.73,311.71L32.88,304.86L32.88,304.86L29.18,308.56L25.41,304.45L29.42,301.09L32.88,304.86L29.42,301.09L25.41,304.45L22.02,300.03L26.31,297.03L29.42,301.09L26.31,297.03L22.02,300.03L19.03,295.33L23.56,292.71L26.31,297.03L23.56,292.71L19.03,295.33L16.45,290.39L21.2,288.18L23.56,292.71L21.2,288.18L16.45,290.39L14.32,285.24L19.24,283.45L21.2,288.18L19.24,283.45L14.32,285.24L12.65,279.92L17.7,278.57L19.24,283.45L17.7,278.57L12.65,279.92L11.44,274.48L16.59,273.57L17.7,278.57L16.59,273.57L11.44,274.48L10.71,268.96L15.93,268.5L16.59,273.57L15.93,268.5L10.71,268.96L10.47,263.39L15.7,263.39L15.93,268.5L15.7,253.97L15.7,253.97L0,253.97L0,249.26L15.7,249.26L15.7,253.97L15.7,249.26L0,249.26L0,244.55L15.7,244.55L15.7,249.26L15.7,238.26L15.7,238.26L31.41,238.26L31.41,233.55L15.7,233.55L15.7,238.26L15.7,233.55L31.41,233.55L31.41,228.84L15.7,228.84L15.7,233.55L15.7,217.85L15.7,217.85L10.15,216.87L7.85,215.89L10.15,214.91L23.55,211.96L21.26,210.98L7.85,208.04L10.15,207.05L23.56,204.11L21.26,203.13L15.7,202.15L15.7,196.65L15.7,191.16L15.7,191.16L31.41,191.16L31.41,186.44L15.7,186.44L15.7,191.16L15.7,186.44L31.41,186.44L31.41,181.73L15.7,181.73L15.7,186.44L15.7,175.45L15.7,175.45L0,175.45L0,170.74L15.7,170.74L15.7,175.45L15.7,170.74L0,170.74L0,166.03L15.7,166.03L15.7,170.74L15.7,156.61L15.7,156.61L10.47,156.61L10.71,151.04L15.93,151.5L15.7,156.61L15.93,151.5L10.71,151.04L11.44,145.51L16.59,146.42L15.93,151.5L16.59,146.42L11.44,145.51L12.65,140.07L17.7,141.43L16.59,146.42L17.7,141.43L12.65,140.07L14.32,134.76L19.24,136.55L17.7,141.43L19.24,136.55L14.32,134.76L16.45,129.61L21.2,131.82L19.24,136.55L21.2,131.82L16.45,129.61L19.03,124.67L23.56,127.28L21.2,131.82L23.56,127.28L19.03,124.67L22.02,119.97L26.31,122.97L23.56,127.28L26.31,122.97L22.02,119.97L25.42,115.55L29.42,118.91L26.31,122.97L29.42,118.91L25.42,115.55L29.18,111.44L32.88,115.14L29.42,118.91L36.77,111.25L36.77,111.25L31.22,105.7L34.18,102.74L39.73,108.29L36.77,111.25L45.47,102.55L45.47,102.55L39.91,97L42.88,94.04L48.43,99.59L45.47,102.55L51.02,97L51.02,97L39.91,85.9L43.25,82.57L54.35,93.67L51.02,97L54.35,93.67L43.25,82.57L46.58,79.24L57.68,90.34L54.35,93.67L60.27,87.75L60.27,87.75L54.72,82.2L57.68,79.24L63.23,84.79L60.27,87.75L68.97,79.05L68.97,79.05L63.42,73.5L66.38,70.54L71.93,76.09L68.97,79.05L75.82,72.2L75.82,72.2L72.12,68.5L76.22,64.74L79.59,68.75L75.82,72.2L79.59,68.75L76.22,64.74L80.65,61.34L83.65,65.63L79.59,68.75L83.65,65.63L80.65,61.34L85.35,58.35L87.96,62.88L83.65,65.63L87.96,62.88L85.35,58.35L90.29,55.78L92.5,60.52L87.96,62.88L92.5,60.52L90.29,55.78L95.44,53.64L97.23,58.56L92.5,60.52L97.23,58.56L95.44,53.64L100.75,51.97L102.11,57.02L97.23,58.56L102.11,57.02L100.75,51.97L106.19,50.76L107.1,55.92L102.11,57.02L107.1,55.92L106.19,50.76L111.72,50.03L112.18,55.25L107.1,55.92L112.18,55.25L111.72,50.03L117.29,49.79L117.29,55.03L112.18,55.25L126.71,55.03L126.71,55.03L126.71,39.32L131.42,39.32L131.42,55.03L126.71,55.03L131.42,55.03L131.42,39.32L136.13,39.32L136.13,55.03L131.42,55.03L147.65,55.03L147.65,55.03L147.65,70.73L152.88,70.73L152.88,55.03L147.65,55.03L152.88,55.03L152.88,70.73L158.12,70.73L158.12,55.03L152.88,55.03L214.65,55.03L214.65,55.03L214.65,70.73L219.88,70.73L219.88,55.03L214.65,55.03L219.88,55.03L219.88,70.73L225.12,70.73L225.12,55.03L219.88,55.03L230.35,55.03L230.35,55.03L230.35,39.32L235.59,39.32L235.58,55.03L230.35,55.03L235.58,55.03L235.59,39.32L240.82,39.32L240.82,55.03L235.58,55.03L270,55.03\" style=\"vector-effect: none; fill: none; stroke: rgb(128, 128, 128); stroke-opacity: 1; stroke-width: 2px; opacity: 1;\"/></g><g class=\"points\"/><g class=\"text\"/></g></g></g></g><path class=\"xlines-above crisp\" d=\"M79,520.5H620\" style=\"fill: none; stroke-width: 1px; stroke: rgb(36, 36, 36); stroke-opacity: 1;\"/><path class=\"ylines-above crisp\" d=\"M79.5,100V520\" style=\"fill: none; stroke-width: 1px; stroke: rgb(36, 36, 36); stroke-opacity: 1;\"/><g class=\"overlines-above\"/><g class=\"xaxislayer-above\"><path class=\"xtick ticks crisp\" d=\"M0,521v5\" transform=\"translate(140.62,0)\" style=\"stroke: rgb(68, 68, 68); stroke-opacity: 1; stroke-width: 1px;\"/><path class=\"xtick ticks crisp\" d=\"M0,521v5\" transform=\"translate(245.31,0)\" style=\"stroke: rgb(68, 68, 68); stroke-opacity: 1; stroke-width: 1px;\"/><path class=\"xtick ticks crisp\" d=\"M0,521v5\" transform=\"translate(350,0)\" style=\"stroke: rgb(68, 68, 68); stroke-opacity: 1; stroke-width: 1px;\"/><path class=\"xtick ticks crisp\" d=\"M0,521v5\" transform=\"translate(454.69,0)\" style=\"stroke: rgb(68, 68, 68); stroke-opacity: 1; stroke-width: 1px;\"/><path class=\"xtick ticks crisp\" d=\"M0,521v5\" transform=\"translate(559.38,0)\" style=\"stroke: rgb(68, 68, 68); stroke-opacity: 1; stroke-width: 1px;\"/><g class=\"xtick\"><text text-anchor=\"middle\" x=\"0\" y=\"540.4\" transform=\"translate(140.62,0)\" style=\"font-family: 'Open Sans', verdana, arial, sans-serif; font-size: 12px; fill: rgb(36, 36, 36); fill-opacity: 1; white-space: pre; opacity: 1;\">−4</text></g><g class=\"xtick\"><text text-anchor=\"middle\" x=\"0\" y=\"540.4\" style=\"font-family: 'Open Sans', verdana, arial, sans-serif; font-size: 12px; fill: rgb(36, 36, 36); fill-opacity: 1; white-space: pre; opacity: 1;\" transform=\"translate(245.31,0)\">−2</text></g><g class=\"xtick\"><text text-anchor=\"middle\" x=\"0\" y=\"540.4\" style=\"font-family: 'Open Sans', verdana, arial, sans-serif; font-size: 12px; fill: rgb(36, 36, 36); fill-opacity: 1; white-space: pre; opacity: 1;\" transform=\"translate(350,0)\">0</text></g><g class=\"xtick\"><text text-anchor=\"middle\" x=\"0\" y=\"540.4\" style=\"font-family: 'Open Sans', verdana, arial, sans-serif; font-size: 12px; fill: rgb(36, 36, 36); fill-opacity: 1; white-space: pre; opacity: 1;\" transform=\"translate(454.69,0)\">2</text></g><g class=\"xtick\"><text text-anchor=\"middle\" x=\"0\" y=\"540.4\" style=\"font-family: 'Open Sans', verdana, arial, sans-serif; font-size: 12px; fill: rgb(36, 36, 36); fill-opacity: 1; white-space: pre; opacity: 1;\" transform=\"translate(559.38,0)\">4</text></g></g><g class=\"yaxislayer-above\"><path class=\"ytick ticks crisp\" d=\"M79,0h-5\" transform=\"translate(0,469.09)\" style=\"stroke: rgb(68, 68, 68); stroke-opacity: 1; stroke-width: 1px;\"/><path class=\"ytick ticks crisp\" d=\"M79,0h-5\" transform=\"translate(0,416.75)\" style=\"stroke: rgb(68, 68, 68); stroke-opacity: 1; stroke-width: 1px;\"/><path class=\"ytick ticks crisp\" d=\"M79,0h-5\" transform=\"translate(0,364.4)\" style=\"stroke: rgb(68, 68, 68); stroke-opacity: 1; stroke-width: 1px;\"/><path class=\"ytick ticks crisp\" d=\"M79,0h-5\" transform=\"translate(0,312.06)\" style=\"stroke: rgb(68, 68, 68); stroke-opacity: 1; stroke-width: 1px;\"/><path class=\"ytick ticks crisp\" d=\"M79,0h-5\" transform=\"translate(0,259.71000000000004)\" style=\"stroke: rgb(68, 68, 68); stroke-opacity: 1; stroke-width: 1px;\"/><path class=\"ytick ticks crisp\" d=\"M79,0h-5\" transform=\"translate(0,207.37)\" style=\"stroke: rgb(68, 68, 68); stroke-opacity: 1; stroke-width: 1px;\"/><path class=\"ytick ticks crisp\" d=\"M79,0h-5\" transform=\"translate(0,155.03)\" style=\"stroke: rgb(68, 68, 68); stroke-opacity: 1; stroke-width: 1px;\"/><path class=\"ytick ticks crisp\" d=\"M79,0h-5\" transform=\"translate(0,102.68)\" style=\"stroke: rgb(68, 68, 68); stroke-opacity: 1; stroke-width: 1px;\"/><g class=\"ytick\"><text text-anchor=\"end\" x=\"71.6\" y=\"4.199999999999999\" transform=\"translate(0,469.09)\" style=\"font-family: 'Open Sans', verdana, arial, sans-serif; font-size: 12px; fill: rgb(36, 36, 36); fill-opacity: 1; white-space: pre; opacity: 1;\">−6</text></g><g class=\"ytick\"><text text-anchor=\"end\" x=\"71.6\" y=\"4.199999999999999\" style=\"font-family: 'Open Sans', verdana, arial, sans-serif; font-size: 12px; fill: rgb(36, 36, 36); fill-opacity: 1; white-space: pre; opacity: 1;\" transform=\"translate(0,416.75)\">−5</text></g><g class=\"ytick\"><text text-anchor=\"end\" x=\"71.6\" y=\"4.199999999999999\" style=\"font-family: 'Open Sans', verdana, arial, sans-serif; font-size: 12px; fill: rgb(36, 36, 36); fill-opacity: 1; white-space: pre; opacity: 1;\" transform=\"translate(0,364.4)\">−4</text></g><g class=\"ytick\"><text text-anchor=\"end\" x=\"71.6\" y=\"4.199999999999999\" style=\"font-family: 'Open Sans', verdana, arial, sans-serif; font-size: 12px; fill: rgb(36, 36, 36); fill-opacity: 1; white-space: pre; opacity: 1;\" transform=\"translate(0,312.06)\">−3</text></g><g class=\"ytick\"><text text-anchor=\"end\" x=\"71.6\" y=\"4.199999999999999\" style=\"font-family: 'Open Sans', verdana, arial, sans-serif; font-size: 12px; fill: rgb(36, 36, 36); fill-opacity: 1; white-space: pre; opacity: 1;\" transform=\"translate(0,259.71000000000004)\">−2</text></g><g class=\"ytick\"><text text-anchor=\"end\" x=\"71.6\" y=\"4.199999999999999\" style=\"font-family: 'Open Sans', verdana, arial, sans-serif; font-size: 12px; fill: rgb(36, 36, 36); fill-opacity: 1; white-space: pre; opacity: 1;\" transform=\"translate(0,207.37)\">−1</text></g><g class=\"ytick\"><text text-anchor=\"end\" x=\"71.6\" y=\"4.199999999999999\" style=\"font-family: 'Open Sans', verdana, arial, sans-serif; font-size: 12px; fill: rgb(36, 36, 36); fill-opacity: 1; white-space: pre; opacity: 1;\" transform=\"translate(0,155.03)\">0</text></g><g class=\"ytick\"><text text-anchor=\"end\" x=\"71.6\" y=\"4.199999999999999\" style=\"font-family: 'Open Sans', verdana, arial, sans-serif; font-size: 12px; fill: rgb(36, 36, 36); fill-opacity: 1; white-space: pre; opacity: 1;\" transform=\"translate(0,102.68)\">1</text></g></g><g class=\"overaxes-above\"/></g></g><g class=\"polarlayer\"/><g class=\"smithlayer\"/><g class=\"ternarylayer\"/><g class=\"geolayer\"/><g class=\"funnelarealayer\"/><g class=\"pielayer\"/><g class=\"iciclelayer\"/><g class=\"treemaplayer\"/><g class=\"sunburstlayer\"/><g class=\"glimages\"/><defs id=\"topdefs-8a92d9\"><g class=\"clips\"/></defs><g class=\"layer-above\"><g class=\"imagelayer\"/><g class=\"shapelayer\"/></g><g class=\"infolayer\"><g class=\"g-gtitle\"/><g class=\"g-xtitle\"><text class=\"xtitle\" x=\"350\" y=\"567.70625\" text-anchor=\"middle\" style=\"opacity: 1; font-family: 'Open Sans', verdana, arial, sans-serif; font-size: 14px; fill: rgb(36, 36, 36); fill-opacity: 1; white-space: pre;\">Z (m)</text></g><g class=\"g-ytitle\"><text class=\"ytitle\" transform=\"rotate(-90,38.50625,310)\" x=\"38.50625\" y=\"310\" text-anchor=\"middle\" style=\"opacity: 1; font-family: 'Open Sans', verdana, arial, sans-serif; font-size: 14px; fill: rgb(36, 36, 36); fill-opacity: 1; white-space: pre;\">X (m)</text></g></g></svg>"
      ]
     },
     "metadata": {},
     "output_type": "display_data"
    }
   ],
   "source": [
    "fig = go.Figure()\n",
    "\n",
    "fig.add_trace(\n",
    "    go.Scatter(\n",
    "        x=df.Z, y=df.X, mode='lines', line_width=2, line_color=\"gray\",\n",
    "        hovertext=df.ElementName,\n",
    "        hoverinfo=\"text+x+y\"\n",
    "    )\n",
    ")\n",
    "\n",
    "fig.update_xaxes(title_text=\"Z (m)\")\n",
    "fig.update_yaxes(title_text=\"X (m)\", scaleanchor=\"x\", scaleratio=1)\n",
    "fig.update_layout(height=600)\n",
    "fig.show()"
   ]
  },
  {
   "cell_type": "code",
   "execution_count": 31,
   "metadata": {},
   "outputs": [],
   "source": [
    "#fig.show(renderer='png', width=700, height=500)"
   ]
  },
  {
   "cell_type": "code",
   "execution_count": 32,
   "metadata": {},
   "outputs": [],
   "source": [
    "%load_ext watermark"
   ]
  },
  {
   "cell_type": "code",
   "execution_count": 33,
   "metadata": {},
   "outputs": [
    {
     "name": "stdout",
     "output_type": "stream",
     "text": [
      "Python implementation: CPython\n",
      "Python version       : 3.12.2\n",
      "IPython version      : 8.27.0\n",
      "\n",
      "Compiler    : GCC 12.3.0\n",
      "OS          : Linux\n",
      "Release     : 6.11.0-19-generic\n",
      "Machine     : x86_64\n",
      "Processor   : x86_64\n",
      "CPU cores   : 20\n",
      "Architecture: 64bit\n",
      "\n",
      "pandas : 2.2.2\n",
      "IPython: 8.27.0\n",
      "json   : 2.0.9\n",
      "plotly : 5.24.1\n",
      "numpy  : 1.26.4\n",
      "scipy  : 1.13.1\n",
      "sys    : 3.12.2 | packaged by conda-forge | (main, Feb 16 2024, 20:50:58) [GCC 12.3.0]\n",
      "\n"
     ]
    }
   ],
   "source": [
    "%watermark --python --date --iversions --machine"
   ]
  },
  {
   "cell_type": "code",
   "execution_count": 38,
   "metadata": {},
   "outputs": [
    {
     "name": "stdout",
     "output_type": "stream",
     "text": [
      "[NbConvertApp] Converting notebook Twiss.ipynb to HTML\n",
      "[NbConvertApp] WARNING | Alternative text is missing on 4 image(s).\n",
      "[NbConvertApp] Writing 469339 bytes to Twiss.html\n"
     ]
    }
   ],
   "source": [
    "!jupyter nbconvert --to HTML Twiss.ipynb"
   ]
  },
  {
   "cell_type": "code",
   "execution_count": 35,
   "metadata": {},
   "outputs": [],
   "source": [
    "#!jupyter nbconvert --to PDF Twiss.ipynb"
   ]
  },
  {
   "cell_type": "code",
   "execution_count": 36,
   "metadata": {},
   "outputs": [
    {
     "data": {
      "text/plain": [
       "'/data/shared/Acc_Course_2025/2025.03.20_Elegant_Intro/Twiss'"
      ]
     },
     "execution_count": 36,
     "metadata": {},
     "output_type": "execute_result"
    }
   ],
   "source": [
    "pwd"
   ]
  },
  {
   "cell_type": "code",
   "execution_count": 37,
   "metadata": {},
   "outputs": [
    {
     "name": "stdout",
     "output_type": "stream",
     "text": [
      "total 780K\n",
      "drwxrwxr-x 4 petrenko jupyter 4.0K Mar 23 11:40 \u001b[0m\u001b[01;34m.\u001b[0m/\n",
      "drwxrwsr-x 5 petrenko jupyter 4.0K Mar 20 23:55 \u001b[01;34m..\u001b[0m/\n",
      "drwxrwxr-x 2 petrenko jupyter 4.0K Mar 21 09:59 \u001b[01;34m.ipynb_checkpoints\u001b[0m/\n",
      "-rw-r--r-- 1 petrenko jupyter 1.2K Aug  9  2024 machine.lte\n",
      "drwxrwxr-x 2 petrenko jupyter 4.0K Mar 23 11:41 \u001b[01;34mresults\u001b[0m/\n",
      "-rw-r--r-- 1 petrenko jupyter  594 Aug  9  2024 twiss.ele\n",
      "-rw-rw-r-- 1 petrenko jupyter 361K Mar 23 11:41 Twiss.html\n",
      "-rw-r--r-- 1 petrenko jupyter 390K Mar 23 11:40 Twiss.ipynb\n"
     ]
    }
   ],
   "source": [
    "ls -h -all"
   ]
  },
  {
   "cell_type": "code",
   "execution_count": null,
   "metadata": {},
   "outputs": [],
   "source": []
  }
 ],
 "metadata": {
  "anaconda-cloud": {},
  "hide_input": false,
  "kernelspec": {
   "display_name": "Python 3 (ipykernel)",
   "language": "python",
   "name": "python3"
  },
  "language_info": {
   "codemirror_mode": {
    "name": "ipython",
    "version": 3
   },
   "file_extension": ".py",
   "mimetype": "text/x-python",
   "name": "python",
   "nbconvert_exporter": "python",
   "pygments_lexer": "ipython3",
   "version": "3.12.2"
  }
 },
 "nbformat": 4,
 "nbformat_minor": 4
}
