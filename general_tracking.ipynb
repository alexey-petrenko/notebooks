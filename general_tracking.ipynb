{
 "cells": [
  {
   "cell_type": "markdown",
   "id": "coordinate-balance",
   "metadata": {},
   "source": [
    "# Particle motion in electromagnetic fields\n",
    "\n",
    "[A. Petrenko](https://www.inp.nsk.su/~petrenko/) (Novosibirsk, 2021)"
   ]
  },
  {
   "cell_type": "markdown",
   "id": "advisory-relations",
   "metadata": {},
   "source": [
    "The equations of particle motion under the Lorentz force (in SI units)\n",
    "\n",
    "\\begin{equation}\n",
    "\\frac{d \\mathbf{p}}{dt} = q \\mathbf{E} + q[\\mathbf{v} \\times \\mathbf{B}],\n",
    "\\end{equation}\n",
    "\n",
    "\\begin{equation}\n",
    "\\frac{d \\mathbf{r}}{dt} = \\mathbf{v},\n",
    "\\end{equation}\n",
    "\n",
    "\\begin{equation}\n",
    "\\mathbf{p} = \\gamma m \\mathbf{v}.\n",
    "\\end{equation}\n",
    "\n",
    "Particle velocity $\\mathbf{v}$ can be derived from the momentum $\\mathbf{p}$ using the definition of relativistic factor $\\gamma = \\left(1 - \\frac{v^2}{c^2}\\right)^{-1/2} = \\sqrt{1 + \\left(\\frac{p}{mc}\\right)^2}$."
   ]
  },
  {
   "cell_type": "markdown",
   "id": "english-algeria",
   "metadata": {},
   "source": [
    "Therefore the equations of motion\n",
    "\n",
    "\\begin{equation}\n",
    "\\frac{ d\\mathbf{r} }{dt} = \\frac{\\mathbf{p}}{\\gamma m},\\\\\n",
    "\\frac{d\\mathbf{p}}{dt} = q \\mathbf{E} + q\\left[\\frac{\\mathbf{p}}{\\gamma m} \\times \\mathbf{B}\\right].\n",
    "\\end{equation}\n",
    "\n",
    "And the final 6d vector equation to solve $d\\mathbf{Y}/dt = \\mathbf{F}(t,\\mathbf{Y})$:"
   ]
  },
  {
   "cell_type": "markdown",
   "id": "finnish-coverage",
   "metadata": {},
   "source": [
    "\\begin{equation}\n",
    "\\frac{d}{dt}\n",
    "\\left(\n",
    "\\begin{array}{c}\n",
    "x \\\\\n",
    "y \\\\\n",
    "z \\\\\n",
    "p_x \\\\\n",
    "p_y \\\\\n",
    "p_z\n",
    "\\end{array}\n",
    "\\right) =\n",
    "\\left(\n",
    "\\begin{array}{c}\n",
    "p_x/\\gamma m \\\\\n",
    "p_y/\\gamma m \\\\\n",
    "p_z/\\gamma m \\\\\n",
    "qE_x + q(p_y B_z - p_z B_y)/\\gamma m \\\\\n",
    "qE_y - q(p_x B_z - p_z B_x)/\\gamma m \\\\\n",
    "qE_z + q(p_x B_y - p_y B_x)/\\gamma m\n",
    "\\end{array}\n",
    "\\right).\n",
    "\\end{equation}"
   ]
  },
  {
   "cell_type": "code",
   "execution_count": 1,
   "id": "constitutional-medium",
   "metadata": {},
   "outputs": [],
   "source": [
    "import numpy as np\n",
    "from scipy.integrate import solve_ivp"
   ]
  },
  {
   "cell_type": "markdown",
   "id": "happy-overall",
   "metadata": {},
   "source": [
    "Define external fields:"
   ]
  },
  {
   "cell_type": "code",
   "execution_count": 2,
   "id": "premium-swedish",
   "metadata": {},
   "outputs": [],
   "source": [
    "def E(x,y,z,t): # V/m\n",
    "    Ex = 0; Ey = 0; Ez = 0\n",
    "    return Ex, Ey, Ez"
   ]
  },
  {
   "cell_type": "code",
   "execution_count": 3,
   "id": "genuine-tanzania",
   "metadata": {},
   "outputs": [],
   "source": [
    "def B(x,y,z,t): # T\n",
    "    Bx = 0; By = 0; Bz = 1.0 # T\n",
    "    return Bx, By, Bz"
   ]
  },
  {
   "cell_type": "markdown",
   "id": "three-politics",
   "metadata": {},
   "source": [
    "Define some constants:"
   ]
  },
  {
   "cell_type": "code",
   "execution_count": 4,
   "id": "junior-minneapolis",
   "metadata": {},
   "outputs": [],
   "source": [
    "c = 299792458 # m/sec\n",
    "e = 1.602176634e-19 # C\n",
    "eV = e # J\n",
    "keV = 1e3*eV; MeV = 1e6*eV; GeV = 1e9*eV\n",
    "\n",
    "sec = 1; ns = 1e-9*sec\n",
    "\n",
    "# electron:\n",
    "q = -e\n",
    "mc2 = 511*keV # J\n",
    "\n",
    "mc  = mc2/c # kg*m/sec\n",
    "m   = mc/c # kg"
   ]
  },
  {
   "cell_type": "code",
   "execution_count": 5,
   "id": "indian-output",
   "metadata": {},
   "outputs": [],
   "source": [
    "def F(t,Y):\n",
    "    x  = Y[0]; y  = Y[1]; z  = Y[2]\n",
    "    px = Y[3]; py = Y[4]; pz = Y[5]\n",
    "    gamma = np.sqrt(1 + (px*px + py*py + pz*pz)/(mc*mc))\n",
    "    Ex, Ey, Ez = E(x,y,z,t) # V/m\n",
    "    Bx, By, Bz = B(x,y,z,t) # T\n",
    "    \n",
    "    return np.array([\n",
    "        px/(gamma*m),\n",
    "        py/(gamma*m),\n",
    "        pz/(gamma*m),\n",
    "        q*Ex + q*(py*Bz-pz*By)/(gamma*m),\n",
    "        q*Ey - q*(px*Bz-pz*Bx)/(gamma*m),\n",
    "        q*Ez + q*(px*By-py*Bx)/(gamma*m)\n",
    "    ])"
   ]
  },
  {
   "cell_type": "markdown",
   "id": "interpreted-crash",
   "metadata": {},
   "source": [
    "Set the initial particle coordinates"
   ]
  },
  {
   "cell_type": "code",
   "execution_count": 6,
   "id": "maritime-right",
   "metadata": {},
   "outputs": [],
   "source": [
    "x  = 0; y  = 0; z  = 0\n",
    "px = 0.5*GeV/c; py = 0; pz = 0.1*GeV/c\n",
    "\n",
    "Y0 = np.array([x,y,z,px,py,pz])"
   ]
  },
  {
   "cell_type": "code",
   "execution_count": 7,
   "id": "bibliographic-radiation",
   "metadata": {},
   "outputs": [],
   "source": [
    "t_span = (0, 200*ns) # sec\n",
    "\n",
    "t_eval = np.linspace(t_span[0], t_span[1], 500) # points of output"
   ]
  },
  {
   "cell_type": "code",
   "execution_count": 8,
   "id": "combined-badge",
   "metadata": {},
   "outputs": [],
   "source": [
    "#help(solve_ivp)"
   ]
  },
  {
   "cell_type": "code",
   "execution_count": 9,
   "id": "spread-renaissance",
   "metadata": {},
   "outputs": [
    {
     "name": "stdout",
     "output_type": "stream",
     "text": [
      "CPU times: user 21.5 ms, sys: 4.52 ms, total: 26 ms\n",
      "Wall time: 26.8 ms\n"
     ]
    }
   ],
   "source": [
    "%%time\n",
    "sol = solve_ivp(F, t_span, Y0, t_eval=t_eval, max_step=5*ns) # rtol=1e-4"
   ]
  },
  {
   "cell_type": "markdown",
   "id": "detected-juvenile",
   "metadata": {},
   "source": [
    "## Plot the results"
   ]
  },
  {
   "cell_type": "code",
   "execution_count": 10,
   "id": "separate-sector",
   "metadata": {},
   "outputs": [],
   "source": [
    "import plotly.io as pio\n",
    "import plotly.graph_objects as go"
   ]
  },
  {
   "cell_type": "code",
   "execution_count": 11,
   "id": "19628171-50a8-4593-9e73-117b308e5787",
   "metadata": {},
   "outputs": [],
   "source": [
    "#pio.renderers"
   ]
  },
  {
   "cell_type": "code",
   "execution_count": 12,
   "id": "e304e5d7-07f7-4509-94ef-485f0b713cd4",
   "metadata": {},
   "outputs": [],
   "source": [
    "#pio.renderers.default = \"nteract\" # interactive figures\n",
    "pio.renderers.default = \"svg\" # static figures (for uploading to github, for example)"
   ]
  },
  {
   "cell_type": "code",
   "execution_count": 13,
   "id": "5713334f-285e-45d4-8e5a-d778aace4674",
   "metadata": {},
   "outputs": [],
   "source": [
    "pio.templates.default = pio.templates[\"simple_white\"]"
   ]
  },
  {
   "cell_type": "code",
   "execution_count": 14,
   "id": "protecting-arnold",
   "metadata": {},
   "outputs": [],
   "source": [
    "x, y, z, px, py, pz = sol.y"
   ]
  },
  {
   "cell_type": "code",
   "execution_count": 15,
   "id": "blind-louisiana",
   "metadata": {},
   "outputs": [
    {
     "data": {
      "image/svg+xml": [
       "<svg class=\"main-svg\" xmlns=\"http://www.w3.org/2000/svg\" xmlns:xlink=\"http://www.w3.org/1999/xlink\" width=\"700\" height=\"500\" style=\"\" viewBox=\"0 0 700 500\"><rect x=\"0\" y=\"0\" width=\"700\" height=\"500\" style=\"fill: rgb(255, 255, 255); fill-opacity: 1;\"/><defs id=\"defs-6f3baa\"><g class=\"clips\"><clipPath id=\"clip6f3baaxyplot\" class=\"plotclip\"><rect width=\"540\" height=\"320\"/></clipPath><clipPath class=\"axesclip\" id=\"clip6f3baax\"><rect x=\"80\" y=\"0\" width=\"540\" height=\"500\"/></clipPath><clipPath class=\"axesclip\" id=\"clip6f3baay\"><rect x=\"0\" y=\"100\" width=\"700\" height=\"320\"/></clipPath><clipPath class=\"axesclip\" id=\"clip6f3baaxy\"><rect x=\"80\" y=\"100\" width=\"540\" height=\"320\"/></clipPath></g><g class=\"gradients\"/><g class=\"patterns\"/></defs><g class=\"bglayer\"/><g class=\"layer-below\"><g class=\"imagelayer\"/><g class=\"shapelayer\"/></g><g class=\"cartesianlayer\"><g class=\"subplot xy\"><g class=\"layer-subplot\"><g class=\"shapelayer\"/><g class=\"imagelayer\"/></g><g class=\"minor-gridlayer\"><g class=\"x\"/><g class=\"y\"/></g><g class=\"gridlayer\"><g class=\"x\"/><g class=\"y\"/></g><g class=\"zerolinelayer\"/><g class=\"layer-between\"><g class=\"shapelayer\"/><g class=\"imagelayer\"/></g><path class=\"xlines-below\"/><path class=\"ylines-below\"/><g class=\"overlines-below\"/><g class=\"xaxislayer-below\"/><g class=\"yaxislayer-below\"/><g class=\"overaxes-below\"/><g class=\"overplot\"><g class=\"xy\" transform=\"translate(80,100)\" clip-path=\"url(#clip6f3baaxyplot)\"><g class=\"scatterlayer mlayer\"><g class=\"trace scatter traceea2647\" style=\"stroke-miterlimit: 2; opacity: 1;\"><g class=\"fills\"/><g class=\"errorbars\"/><g class=\"lines\"><path class=\"js-line\" d=\"M0,303.7L2.16,302.26L3.25,300.48L5.41,294.82L6.49,290.97L9.74,275.62L10.82,269.31L16.23,230.29L17.31,221.27L28.14,122.24L29.22,112.55L35.71,60.96L36.79,53.86L41.12,31.06L42.2,26.9L45.45,18.48L46.53,17.07L48.7,16.39L49.78,17.12L51.94,20.72L53.03,23.56L56.27,36.12L57.35,41.57L61.68,68.96L62.77,77.03L69.26,132.62L70.34,142.65L82.24,247.66L83.33,255.48L87.66,281.65L88.74,286.75L91.98,298.18L93.07,300.63L95.23,303.43L96.31,303.76L98.48,302.26L99.56,300.45L101.72,294.74L102.81,290.87L106.05,275.44L107.13,269.11L111.46,238.68L112.55,230L121.2,151.92L122.28,141.81L130.94,68.29L132.02,60.71L136.35,35.66L137.43,30.88L140.68,20.47L141.76,18.37L143.93,16.3L145.01,16.33L147.17,18.54L148.26,20.71L151.5,31.33L152.59,36.17L156.91,61.43L158,69.06L164.49,122.88L165.57,132.77L178.56,247.78L179.64,255.6L183.97,281.75L185.05,286.84L188.3,298.26L189.38,300.71L191.54,303.49L192.63,303.82L194.79,302.32L195.87,300.5L198.04,294.79L199.12,290.92L202.36,275.49L203.45,269.15L208.86,230.04L209.94,221.01L228.34,60.73L229.42,53.64L233.75,30.88L234.83,26.73L238.08,18.33L239.16,16.93L241.32,16.26L242.4,17L244.57,20.61L245.65,23.47L248.9,36.03L249.98,41.48L254.31,68.86L255.39,76.93L261.88,132.54L262.97,142.56L274.87,247.6L275.95,255.43L280.28,281.64L281.36,286.75L284.61,298.23L285.69,300.7L287.86,303.53L288.94,303.88L291.1,302.43L292.18,300.64L294.35,294.98L295.43,291.13L298.68,275.76L299.76,269.44L305.17,230.43L306.25,221.42L324.65,61.04L325.73,53.92L330.06,31.04L331.14,26.86L334.39,18.36L335.47,16.92L337.64,16.18L338.72,16.88L340.88,20.42L341.96,23.24L345.21,35.69L346.29,41.1L350.62,68.37L351.7,76.42L358.2,131.92L359.28,141.93L371.18,247.11L372.26,254.96L376.59,281.32L377.68,286.48L380.92,298.09L382,300.61L384.17,303.54L385.25,303.94L387.41,302.6L388.5,300.86L390.66,295.3L391.74,291.49L394.99,276.25L396.07,269.98L401.48,231.15L402.57,222.16L422.04,54.46L423.13,47.82L427.45,27.14L428.54,23.56L431.78,16.95L432.87,16.16L435.03,16.73L436.11,18.08L438.28,22.89L439.36,26.32L442.61,40.51L443.69,46.47L448.02,75.6L449.1,84.03L456.67,151.03L457.76,161.18L467.49,246.31L468.58,254.21L472.91,280.8L473.99,286.02L477.23,297.84L478.32,300.44L480.48,303.52L481.56,304L483.73,302.81L484.81,301.15L486.97,295.73L488.06,292L491.3,276.97L492.38,270.76L496.71,240.79L497.8,232.2L506.45,154.4L507.54,144.28L516.19,70.19L517.27,62.49L521.6,36.85L522.69,31.89L525.93,20.93L527.01,18.64L529.18,16.17L530.26,16L532.42,17.81L533.51,19.77L535.67,25.78L536.75,29.79L540,45.6\" style=\"vector-effect: none; fill: none; stroke: rgb(0, 0, 255); stroke-opacity: 1; stroke-width: 3px; opacity: 1;\"/></g><g class=\"points\"/><g class=\"text\"/></g></g></g></g><path class=\"xlines-above crisp\" d=\"M79,420.5H620\" style=\"fill: none; stroke-width: 1px; stroke: rgb(36, 36, 36); stroke-opacity: 1;\"/><path class=\"ylines-above crisp\" d=\"M79.5,100V420\" style=\"fill: none; stroke-width: 1px; stroke: rgb(36, 36, 36); stroke-opacity: 1;\"/><g class=\"overlines-above\"/><g class=\"xaxislayer-above\"><path class=\"xtick ticks crisp\" d=\"M0,421v5\" transform=\"translate(80,0)\" style=\"stroke: rgb(68, 68, 68); stroke-opacity: 1; stroke-width: 1px;\"/><path class=\"xtick ticks crisp\" d=\"M0,421v5\" transform=\"translate(215,0)\" style=\"stroke: rgb(68, 68, 68); stroke-opacity: 1; stroke-width: 1px;\"/><path class=\"xtick ticks crisp\" d=\"M0,421v5\" transform=\"translate(350,0)\" style=\"stroke: rgb(68, 68, 68); stroke-opacity: 1; stroke-width: 1px;\"/><path class=\"xtick ticks crisp\" d=\"M0,421v5\" transform=\"translate(485,0)\" style=\"stroke: rgb(68, 68, 68); stroke-opacity: 1; stroke-width: 1px;\"/><path class=\"xtick ticks crisp\" d=\"M0,421v5\" transform=\"translate(620,0)\" style=\"stroke: rgb(68, 68, 68); stroke-opacity: 1; stroke-width: 1px;\"/><g class=\"xtick\"><text text-anchor=\"middle\" x=\"0\" y=\"440.4\" transform=\"translate(80,0)\" style=\"font-family: 'Open Sans', verdana, arial, sans-serif; font-size: 12px; fill: rgb(36, 36, 36); fill-opacity: 1; white-space: pre; opacity: 1;\">0</text></g><g class=\"xtick\"><text text-anchor=\"middle\" x=\"0\" y=\"440.4\" style=\"font-family: 'Open Sans', verdana, arial, sans-serif; font-size: 12px; fill: rgb(36, 36, 36); fill-opacity: 1; white-space: pre; opacity: 1;\" transform=\"translate(215,0)\">50</text></g><g class=\"xtick\"><text text-anchor=\"middle\" x=\"0\" y=\"440.4\" style=\"font-family: 'Open Sans', verdana, arial, sans-serif; font-size: 12px; fill: rgb(36, 36, 36); fill-opacity: 1; white-space: pre; opacity: 1;\" transform=\"translate(350,0)\">100</text></g><g class=\"xtick\"><text text-anchor=\"middle\" x=\"0\" y=\"440.4\" style=\"font-family: 'Open Sans', verdana, arial, sans-serif; font-size: 12px; fill: rgb(36, 36, 36); fill-opacity: 1; white-space: pre; opacity: 1;\" transform=\"translate(485,0)\">150</text></g><g class=\"xtick\"><text text-anchor=\"middle\" x=\"0\" y=\"440.4\" style=\"font-family: 'Open Sans', verdana, arial, sans-serif; font-size: 12px; fill: rgb(36, 36, 36); fill-opacity: 1; white-space: pre; opacity: 1;\" transform=\"translate(620,0)\">200</text></g></g><g class=\"yaxislayer-above\"><path class=\"ytick ticks crisp\" d=\"M79,0h-5\" transform=\"translate(0,403.7)\" style=\"stroke: rgb(68, 68, 68); stroke-opacity: 1; stroke-width: 1px;\"/><path class=\"ytick ticks crisp\" d=\"M79,0h-5\" transform=\"translate(0,360.62)\" style=\"stroke: rgb(68, 68, 68); stroke-opacity: 1; stroke-width: 1px;\"/><path class=\"ytick ticks crisp\" d=\"M79,0h-5\" transform=\"translate(0,317.53999999999996)\" style=\"stroke: rgb(68, 68, 68); stroke-opacity: 1; stroke-width: 1px;\"/><path class=\"ytick ticks crisp\" d=\"M79,0h-5\" transform=\"translate(0,274.46000000000004)\" style=\"stroke: rgb(68, 68, 68); stroke-opacity: 1; stroke-width: 1px;\"/><path class=\"ytick ticks crisp\" d=\"M79,0h-5\" transform=\"translate(0,231.39)\" style=\"stroke: rgb(68, 68, 68); stroke-opacity: 1; stroke-width: 1px;\"/><path class=\"ytick ticks crisp\" d=\"M79,0h-5\" transform=\"translate(0,188.31)\" style=\"stroke: rgb(68, 68, 68); stroke-opacity: 1; stroke-width: 1px;\"/><path class=\"ytick ticks crisp\" d=\"M79,0h-5\" transform=\"translate(0,145.23)\" style=\"stroke: rgb(68, 68, 68); stroke-opacity: 1; stroke-width: 1px;\"/><path class=\"ytick ticks crisp\" d=\"M79,0h-5\" transform=\"translate(0,102.16)\" style=\"stroke: rgb(68, 68, 68); stroke-opacity: 1; stroke-width: 1px;\"/><g class=\"ytick\"><text text-anchor=\"end\" x=\"71.6\" y=\"4.199999999999999\" transform=\"translate(0,403.7)\" style=\"font-family: 'Open Sans', verdana, arial, sans-serif; font-size: 12px; fill: rgb(36, 36, 36); fill-opacity: 1; white-space: pre; opacity: 1;\">0</text></g><g class=\"ytick\"><text text-anchor=\"end\" x=\"71.6\" y=\"4.199999999999999\" style=\"font-family: 'Open Sans', verdana, arial, sans-serif; font-size: 12px; fill: rgb(36, 36, 36); fill-opacity: 1; white-space: pre; opacity: 1;\" transform=\"translate(0,360.62)\">0.5</text></g><g class=\"ytick\"><text text-anchor=\"end\" x=\"71.6\" y=\"4.199999999999999\" style=\"font-family: 'Open Sans', verdana, arial, sans-serif; font-size: 12px; fill: rgb(36, 36, 36); fill-opacity: 1; white-space: pre; opacity: 1;\" transform=\"translate(0,317.53999999999996)\">1</text></g><g class=\"ytick\"><text text-anchor=\"end\" x=\"71.6\" y=\"4.199999999999999\" style=\"font-family: 'Open Sans', verdana, arial, sans-serif; font-size: 12px; fill: rgb(36, 36, 36); fill-opacity: 1; white-space: pre; opacity: 1;\" transform=\"translate(0,274.46000000000004)\">1.5</text></g><g class=\"ytick\"><text text-anchor=\"end\" x=\"71.6\" y=\"4.199999999999999\" style=\"font-family: 'Open Sans', verdana, arial, sans-serif; font-size: 12px; fill: rgb(36, 36, 36); fill-opacity: 1; white-space: pre; opacity: 1;\" transform=\"translate(0,231.39)\">2</text></g><g class=\"ytick\"><text text-anchor=\"end\" x=\"71.6\" y=\"4.199999999999999\" style=\"font-family: 'Open Sans', verdana, arial, sans-serif; font-size: 12px; fill: rgb(36, 36, 36); fill-opacity: 1; white-space: pre; opacity: 1;\" transform=\"translate(0,188.31)\">2.5</text></g><g class=\"ytick\"><text text-anchor=\"end\" x=\"71.6\" y=\"4.199999999999999\" style=\"font-family: 'Open Sans', verdana, arial, sans-serif; font-size: 12px; fill: rgb(36, 36, 36); fill-opacity: 1; white-space: pre; opacity: 1;\" transform=\"translate(0,145.23)\">3</text></g><g class=\"ytick\"><text text-anchor=\"end\" x=\"71.6\" y=\"4.199999999999999\" style=\"font-family: 'Open Sans', verdana, arial, sans-serif; font-size: 12px; fill: rgb(36, 36, 36); fill-opacity: 1; white-space: pre; opacity: 1;\" transform=\"translate(0,102.16)\">3.5</text></g></g><g class=\"overaxes-above\"/></g></g><g class=\"polarlayer\"/><g class=\"smithlayer\"/><g class=\"ternarylayer\"/><g class=\"geolayer\"/><g class=\"funnelarealayer\"/><g class=\"pielayer\"/><g class=\"iciclelayer\"/><g class=\"treemaplayer\"/><g class=\"sunburstlayer\"/><g class=\"glimages\"/><defs id=\"topdefs-6f3baa\"><g class=\"clips\"/></defs><g class=\"layer-above\"><g class=\"imagelayer\"/><g class=\"shapelayer\"/></g><g class=\"infolayer\"><g class=\"g-gtitle\"/><g class=\"g-xtitle\"><text class=\"xtitle\" x=\"350\" y=\"467.70625\" text-anchor=\"middle\" style=\"opacity: 1; font-family: 'Open Sans', verdana, arial, sans-serif; font-size: 14px; fill: rgb(36, 36, 36); fill-opacity: 1; white-space: pre;\">t (ns)</text></g><g class=\"g-ytitle\"><text class=\"ytitle\" transform=\"rotate(-90,35.50625,260)\" x=\"35.50625\" y=\"260\" text-anchor=\"middle\" style=\"opacity: 1; font-family: 'Open Sans', verdana, arial, sans-serif; font-size: 14px; fill: rgb(36, 36, 36); fill-opacity: 1; white-space: pre;\">y (m)</text></g></g></svg>"
      ]
     },
     "metadata": {},
     "output_type": "display_data"
    }
   ],
   "source": [
    "fig = go.Figure()\n",
    "\n",
    "fig.add_trace( go.Scatter(x=t_eval/ns, y=y, mode='lines', line_width=3, line_color=\"blue\"))\n",
    "\n",
    "fig.update_xaxes(title_text=\"t (ns)\")\n",
    "fig.update_yaxes(title_text=\"y (m)\")\n",
    "\n",
    "fig.show()"
   ]
  },
  {
   "cell_type": "code",
   "execution_count": 16,
   "id": "former-shower",
   "metadata": {},
   "outputs": [
    {
     "data": {
      "image/svg+xml": [
       "<svg class=\"main-svg\" xmlns=\"http://www.w3.org/2000/svg\" xmlns:xlink=\"http://www.w3.org/1999/xlink\" width=\"700\" height=\"500\" style=\"\" viewBox=\"0 0 700 500\"><rect x=\"0\" y=\"0\" width=\"700\" height=\"500\" style=\"fill: rgb(255, 255, 255); fill-opacity: 1;\"/><defs id=\"defs-6a651b\"><g class=\"clips\"><clipPath id=\"clip6a651bxyplot\" class=\"plotclip\"><rect width=\"540\" height=\"320\"/></clipPath><clipPath class=\"axesclip\" id=\"clip6a651bx\"><rect x=\"80\" y=\"0\" width=\"540\" height=\"500\"/></clipPath><clipPath class=\"axesclip\" id=\"clip6a651by\"><rect x=\"0\" y=\"100\" width=\"700\" height=\"320\"/></clipPath><clipPath class=\"axesclip\" id=\"clip6a651bxy\"><rect x=\"80\" y=\"100\" width=\"540\" height=\"320\"/></clipPath></g><g class=\"gradients\"/><g class=\"patterns\"/></defs><g class=\"bglayer\"/><g class=\"layer-below\"><g class=\"imagelayer\"/><g class=\"shapelayer\"/></g><g class=\"cartesianlayer\"><g class=\"subplot xy\"><g class=\"layer-subplot\"><g class=\"shapelayer\"/><g class=\"imagelayer\"/></g><g class=\"minor-gridlayer\"><g class=\"x\"/><g class=\"y\"/></g><g class=\"gridlayer\"><g class=\"x\"/><g class=\"y\"/></g><g class=\"zerolinelayer\"/><g class=\"layer-between\"><g class=\"shapelayer\"/><g class=\"imagelayer\"/></g><path class=\"xlines-below\"/><path class=\"ylines-below\"/><g class=\"overlines-below\"/><g class=\"xaxislayer-below\"/><g class=\"yaxislayer-below\"/><g class=\"overaxes-below\"/><g class=\"overplot\"><g class=\"xy\" transform=\"translate(80,100)\" clip-path=\"url(#clip6a651bxyplot)\"><g class=\"scatterlayer mlayer\"><g class=\"trace scatter traceeb9632\" style=\"stroke-miterlimit: 2; opacity: 1;\"><g class=\"fills\"/><g class=\"errorbars\"/><g class=\"lines\"><path class=\"js-line\" d=\"M270.02,303.7L290.26,302.26L300.26,300.48L319.74,294.82L329.13,290.97L346.98,281.35L355.35,275.62L370.78,262.46L377.76,255.09L390.08,238.97L395.35,230.29L404,211.94L407.34,202.35L411.93,182.6L413.18,172.53L413.52,152.25L412.61,142.14L408.68,122.24L405.66,112.55L397.62,93.92L392.64,85.07L380.88,68.56L374.15,60.96L359.17,47.29L351,41.27L333.47,31.06L324.21,26.9L304.92,20.6L294.99,18.48L274.82,16.37L264.68,16.39L244.51,18.57L234.6,20.72L215.34,27.09L206.09,31.28L188.6,41.57L180.45,47.61L165.51,61.34L158.81,68.96L147.1,85.52L142.15,94.37L134.18,113.03L131.2,122.73L127.34,142.65L126.47,152.77L126.88,173.05L128.16,183.11L132.82,202.85L136.18,212.42L144.89,230.75L150.19,239.4L162.57,255.48L169.58,262.83L185.05,275.94L193.44,281.65L211.32,291.22L220.72,295.04L240.22,300.63L250.21,302.39L270.46,303.76L280.6,303.37L300.68,300.45L310.51,297.94L329.52,290.87L338.6,286.35L355.71,275.44L363.64,269.11L378.06,254.84L384.49,246.98L395.59,230L400.22,220.96L407.5,202.04L410.13,192.24L413.27,172.2L413.78,162.06L412.63,141.81L410.99,131.79L405.61,112.22L401.91,102.78L392.54,84.79L386.93,76.33L374,60.71L366.74,53.62L350.8,41.07L342.21,35.66L323.98,26.74L314.44,23.27L294.76,18.37L284.71,16.98L264.44,16.33L254.32,17.08L234.36,20.71L224.62,23.57L205.87,31.33L196.95,36.17L180.25,47.69L172.55,54.3L158.65,69.06L152.51,77.14L142.01,94.5L137.71,103.69L131.1,122.88L128.83,132.77L126.4,152.91L126.26,163.06L128.11,183.25L130.1,193.2L136.16,212.56L140.2,221.87L150.2,239.53L156.11,247.78L169.6,262.94L177.11,269.76L193.47,281.75L202.24,286.84L220.76,295.12L230.41,298.26L250.26,302.46L260.36,303.49L280.65,303.42L290.74,302.32L310.56,297.99L320.18,294.79L338.65,286.4L347.39,281.25L363.68,269.15L371.15,262.27L384.53,247.02L390.38,238.73L400.26,221.01L404.24,211.68L410.18,192.29L412.11,182.33L413.84,162.11L413.63,151.96L411.06,131.83L408.73,121.95L402,102.82L397.64,93.66L387.04,76.37L380.85,68.32L366.85,53.64L359.11,47.08L342.33,35.67L333.38,30.88L314.59,23.24L304.83,20.44L284.86,16.93L274.74,16.24L254.47,17L244.42,18.45L224.76,23.47L215.24,27L197.07,36.03L188.51,41.48L172.65,54.12L165.43,61.24L152.57,76.93L147.01,85.42L137.74,103.47L134.08,112.94L128.81,132.54L127.23,142.56L126.19,162.81L126.74,172.94L129.98,192.97L132.65,202.76L140.03,221.66L144.71,230.67L155.9,247.6L162.35,255.43L176.84,269.62L184.8,275.92L201.94,286.75L211.04,291.24L230.09,298.23L239.94,300.7L260.03,303.53L270.18,303.88L290.41,302.43L300.39,300.64L319.87,294.98L329.26,291.13L347.11,281.5L355.49,275.76L370.92,262.58L377.9,255.21L390.22,239.1L395.5,230.43L404.15,212.09L407.49,202.51L412.11,182.75L413.36,172.68L413.71,152.39L412.82,142.28L408.91,122.37L405.91,112.68L397.91,94.04L392.95,85.19L381.21,68.65L374.49,61.04L359.53,47.33L351.36,41.3L333.86,31.04L324.61,26.86L305.35,20.5L295.44,18.36L275.27,16.19L265.12,16.18L244.93,18.3L235.01,20.42L215.72,26.73L206.47,30.89L188.95,41.1L180.77,47.11L165.78,60.78L159.04,68.37L147.26,84.89L142.27,93.73L134.22,112.36L131.2,122.04L127.24,141.93L126.32,152.04L126.62,172.32L127.84,182.39L132.4,202.16L135.72,211.76L144.34,230.13L149.59,238.82L161.86,254.96L168.82,262.35L184.21,275.56L192.56,281.32L210.39,291.01L219.77,294.89L239.24,300.61L249.23,302.43L269.45,303.94L279.59,303.63L299.69,300.86L309.54,298.42L328.6,291.49L337.73,287.04L354.92,276.25L362.9,269.98L377.44,255.83L383.92,248.03L395.16,231.15L399.87,222.16L407.32,203.29L410.03,193.51L413.34,173.48L413.94,163.35L412.98,143.09L411.43,133.06L406.25,113.45L402.63,103.97L393.44,85.89L387.91,77.37L375.12,61.62L367.92,54.46L352.11,41.74L343.58,36.25L325.46,27.14L315.97,23.56L296.33,18.46L286.3,16.95L266.02,16.09L255.89,16.73L235.89,20.14L226.12,22.89L207.29,30.42L198.31,35.16L181.48,46.47L173.7,52.99L159.61,67.59L153.38,75.6L142.67,92.84L138.25,101.98L131.4,121.07L129,130.93L126.31,151.03L126.03,161.18L127.63,181.4L129.49,191.38L135.3,210.83L139.21,220.19L148.97,237.98L154.76,246.31L168.02,261.65L175.43,268.58L191.63,280.8L200.34,286.02L218.75,294.56L228.35,297.84L248.13,302.33L258.21,303.52L278.49,303.76L288.59,302.81L308.48,298.79L318.16,295.73L336.76,287.61L345.58,282.6L362.06,270.76L369.63,264.01L383.26,248.99L389.24,240.79L399.42,223.24L403.55,213.97L409.8,194.66L411.9,184.73L413.97,164.55L413.93,154.4L411.72,134.24L409.55,124.33L403.16,105.07L398.96,95.83L388.66,78.35L382.61,70.19L368.87,55.26L361.25,48.56L344.7,36.85L335.84,31.89L317.19,23.91L307.49,20.93L287.58,17.05L277.46,16.17L257.17,16.55L247.1,17.81L227.36,22.43L217.78,25.78L199.44,34.44L190.77,39.72L182.49,45.6\" style=\"vector-effect: none; fill: none; stroke: rgb(0, 0, 255); stroke-opacity: 1; stroke-width: 3px; opacity: 1;\"/></g><g class=\"points\"/><g class=\"text\"/></g></g></g></g><path class=\"xlines-above crisp\" d=\"M79,420.5H620\" style=\"fill: none; stroke-width: 1px; stroke: rgb(36, 36, 36); stroke-opacity: 1;\"/><path class=\"ylines-above crisp\" d=\"M79.5,100V420\" style=\"fill: none; stroke-width: 1px; stroke: rgb(36, 36, 36); stroke-opacity: 1;\"/><g class=\"overlines-above\"/><g class=\"xaxislayer-above\"><path class=\"xtick ticks crisp\" d=\"M0,421v5\" transform=\"translate(91.56,0)\" style=\"stroke: rgb(68, 68, 68); stroke-opacity: 1; stroke-width: 1px;\"/><path class=\"xtick ticks crisp\" d=\"M0,421v5\" transform=\"translate(177.70999999999998,0)\" style=\"stroke: rgb(68, 68, 68); stroke-opacity: 1; stroke-width: 1px;\"/><path class=\"xtick ticks crisp\" d=\"M0,421v5\" transform=\"translate(263.87,0)\" style=\"stroke: rgb(68, 68, 68); stroke-opacity: 1; stroke-width: 1px;\"/><path class=\"xtick ticks crisp\" d=\"M0,421v5\" transform=\"translate(350.02,0)\" style=\"stroke: rgb(68, 68, 68); stroke-opacity: 1; stroke-width: 1px;\"/><path class=\"xtick ticks crisp\" d=\"M0,421v5\" transform=\"translate(436.18,0)\" style=\"stroke: rgb(68, 68, 68); stroke-opacity: 1; stroke-width: 1px;\"/><path class=\"xtick ticks crisp\" d=\"M0,421v5\" transform=\"translate(522.3299999999999,0)\" style=\"stroke: rgb(68, 68, 68); stroke-opacity: 1; stroke-width: 1px;\"/><path class=\"xtick ticks crisp\" d=\"M0,421v5\" transform=\"translate(608.48,0)\" style=\"stroke: rgb(68, 68, 68); stroke-opacity: 1; stroke-width: 1px;\"/><g class=\"xtick\"><text text-anchor=\"middle\" x=\"0\" y=\"440.4\" transform=\"translate(91.56,0)\" style=\"font-family: 'Open Sans', verdana, arial, sans-serif; font-size: 12px; fill: rgb(36, 36, 36); fill-opacity: 1; white-space: pre; opacity: 1;\">−3</text></g><g class=\"xtick\"><text text-anchor=\"middle\" x=\"0\" y=\"440.4\" style=\"font-family: 'Open Sans', verdana, arial, sans-serif; font-size: 12px; fill: rgb(36, 36, 36); fill-opacity: 1; white-space: pre; opacity: 1;\" transform=\"translate(177.70999999999998,0)\">−2</text></g><g class=\"xtick\"><text text-anchor=\"middle\" x=\"0\" y=\"440.4\" style=\"font-family: 'Open Sans', verdana, arial, sans-serif; font-size: 12px; fill: rgb(36, 36, 36); fill-opacity: 1; white-space: pre; opacity: 1;\" transform=\"translate(263.87,0)\">−1</text></g><g class=\"xtick\"><text text-anchor=\"middle\" x=\"0\" y=\"440.4\" style=\"font-family: 'Open Sans', verdana, arial, sans-serif; font-size: 12px; fill: rgb(36, 36, 36); fill-opacity: 1; white-space: pre; opacity: 1;\" transform=\"translate(350.02,0)\">0</text></g><g class=\"xtick\"><text text-anchor=\"middle\" x=\"0\" y=\"440.4\" style=\"font-family: 'Open Sans', verdana, arial, sans-serif; font-size: 12px; fill: rgb(36, 36, 36); fill-opacity: 1; white-space: pre; opacity: 1;\" transform=\"translate(436.18,0)\">1</text></g><g class=\"xtick\"><text text-anchor=\"middle\" x=\"0\" y=\"440.4\" style=\"font-family: 'Open Sans', verdana, arial, sans-serif; font-size: 12px; fill: rgb(36, 36, 36); fill-opacity: 1; white-space: pre; opacity: 1;\" transform=\"translate(522.3299999999999,0)\">2</text></g><g class=\"xtick\"><text text-anchor=\"middle\" x=\"0\" y=\"440.4\" style=\"font-family: 'Open Sans', verdana, arial, sans-serif; font-size: 12px; fill: rgb(36, 36, 36); fill-opacity: 1; white-space: pre; opacity: 1;\" transform=\"translate(608.48,0)\">3</text></g></g><g class=\"yaxislayer-above\"><path class=\"ytick ticks crisp\" d=\"M79,0h-5\" transform=\"translate(0,403.7)\" style=\"stroke: rgb(68, 68, 68); stroke-opacity: 1; stroke-width: 1px;\"/><path class=\"ytick ticks crisp\" d=\"M79,0h-5\" transform=\"translate(0,360.62)\" style=\"stroke: rgb(68, 68, 68); stroke-opacity: 1; stroke-width: 1px;\"/><path class=\"ytick ticks crisp\" d=\"M79,0h-5\" transform=\"translate(0,317.53999999999996)\" style=\"stroke: rgb(68, 68, 68); stroke-opacity: 1; stroke-width: 1px;\"/><path class=\"ytick ticks crisp\" d=\"M79,0h-5\" transform=\"translate(0,274.46000000000004)\" style=\"stroke: rgb(68, 68, 68); stroke-opacity: 1; stroke-width: 1px;\"/><path class=\"ytick ticks crisp\" d=\"M79,0h-5\" transform=\"translate(0,231.39)\" style=\"stroke: rgb(68, 68, 68); stroke-opacity: 1; stroke-width: 1px;\"/><path class=\"ytick ticks crisp\" d=\"M79,0h-5\" transform=\"translate(0,188.31)\" style=\"stroke: rgb(68, 68, 68); stroke-opacity: 1; stroke-width: 1px;\"/><path class=\"ytick ticks crisp\" d=\"M79,0h-5\" transform=\"translate(0,145.23)\" style=\"stroke: rgb(68, 68, 68); stroke-opacity: 1; stroke-width: 1px;\"/><path class=\"ytick ticks crisp\" d=\"M79,0h-5\" transform=\"translate(0,102.16)\" style=\"stroke: rgb(68, 68, 68); stroke-opacity: 1; stroke-width: 1px;\"/><g class=\"ytick\"><text text-anchor=\"end\" x=\"71.6\" y=\"4.199999999999999\" transform=\"translate(0,403.7)\" style=\"font-family: 'Open Sans', verdana, arial, sans-serif; font-size: 12px; fill: rgb(36, 36, 36); fill-opacity: 1; white-space: pre; opacity: 1;\">0</text></g><g class=\"ytick\"><text text-anchor=\"end\" x=\"71.6\" y=\"4.199999999999999\" style=\"font-family: 'Open Sans', verdana, arial, sans-serif; font-size: 12px; fill: rgb(36, 36, 36); fill-opacity: 1; white-space: pre; opacity: 1;\" transform=\"translate(0,360.62)\">0.5</text></g><g class=\"ytick\"><text text-anchor=\"end\" x=\"71.6\" y=\"4.199999999999999\" style=\"font-family: 'Open Sans', verdana, arial, sans-serif; font-size: 12px; fill: rgb(36, 36, 36); fill-opacity: 1; white-space: pre; opacity: 1;\" transform=\"translate(0,317.53999999999996)\">1</text></g><g class=\"ytick\"><text text-anchor=\"end\" x=\"71.6\" y=\"4.199999999999999\" style=\"font-family: 'Open Sans', verdana, arial, sans-serif; font-size: 12px; fill: rgb(36, 36, 36); fill-opacity: 1; white-space: pre; opacity: 1;\" transform=\"translate(0,274.46000000000004)\">1.5</text></g><g class=\"ytick\"><text text-anchor=\"end\" x=\"71.6\" y=\"4.199999999999999\" style=\"font-family: 'Open Sans', verdana, arial, sans-serif; font-size: 12px; fill: rgb(36, 36, 36); fill-opacity: 1; white-space: pre; opacity: 1;\" transform=\"translate(0,231.39)\">2</text></g><g class=\"ytick\"><text text-anchor=\"end\" x=\"71.6\" y=\"4.199999999999999\" style=\"font-family: 'Open Sans', verdana, arial, sans-serif; font-size: 12px; fill: rgb(36, 36, 36); fill-opacity: 1; white-space: pre; opacity: 1;\" transform=\"translate(0,188.31)\">2.5</text></g><g class=\"ytick\"><text text-anchor=\"end\" x=\"71.6\" y=\"4.199999999999999\" style=\"font-family: 'Open Sans', verdana, arial, sans-serif; font-size: 12px; fill: rgb(36, 36, 36); fill-opacity: 1; white-space: pre; opacity: 1;\" transform=\"translate(0,145.23)\">3</text></g><g class=\"ytick\"><text text-anchor=\"end\" x=\"71.6\" y=\"4.199999999999999\" style=\"font-family: 'Open Sans', verdana, arial, sans-serif; font-size: 12px; fill: rgb(36, 36, 36); fill-opacity: 1; white-space: pre; opacity: 1;\" transform=\"translate(0,102.16)\">3.5</text></g></g><g class=\"overaxes-above\"/></g></g><g class=\"polarlayer\"/><g class=\"smithlayer\"/><g class=\"ternarylayer\"/><g class=\"geolayer\"/><g class=\"funnelarealayer\"/><g class=\"pielayer\"/><g class=\"iciclelayer\"/><g class=\"treemaplayer\"/><g class=\"sunburstlayer\"/><g class=\"glimages\"/><defs id=\"topdefs-6a651b\"><g class=\"clips\"/></defs><g class=\"layer-above\"><g class=\"imagelayer\"/><g class=\"shapelayer\"/></g><g class=\"infolayer\"><g class=\"g-gtitle\"/><g class=\"g-xtitle\"><text class=\"xtitle\" x=\"350\" y=\"467.70625\" text-anchor=\"middle\" style=\"opacity: 1; font-family: 'Open Sans', verdana, arial, sans-serif; font-size: 14px; fill: rgb(36, 36, 36); fill-opacity: 1; white-space: pre;\">x (m)</text></g><g class=\"g-ytitle\"><text class=\"ytitle\" transform=\"rotate(-90,35.50625,260)\" x=\"35.50625\" y=\"260\" text-anchor=\"middle\" style=\"opacity: 1; font-family: 'Open Sans', verdana, arial, sans-serif; font-size: 14px; fill: rgb(36, 36, 36); fill-opacity: 1; white-space: pre;\">y (m)</text></g></g></svg>"
      ]
     },
     "metadata": {},
     "output_type": "display_data"
    }
   ],
   "source": [
    "fig = go.Figure()\n",
    "\n",
    "fig.add_trace( go.Scatter(x=x, y=y, mode='lines', line_width=3, line_color=\"blue\"))\n",
    "\n",
    "fig.update_xaxes(title_text=\"x (m)\")\n",
    "fig.update_yaxes(title_text=\"y (m)\", scaleanchor = \"x\", scaleratio = 1)\n",
    "\n",
    "fig.show()"
   ]
  },
  {
   "cell_type": "markdown",
   "id": "arctic-mauritius",
   "metadata": {},
   "source": [
    "Check if the [Larmor radius](https://en.wikipedia.org/wiki/Gyroradius) agrees with the theory:"
   ]
  },
  {
   "cell_type": "code",
   "execution_count": 17,
   "id": "statewide-hands",
   "metadata": {},
   "outputs": [
    {
     "data": {
      "text/plain": [
       "-1.6678204759907602"
      ]
     },
     "execution_count": 17,
     "metadata": {},
     "output_type": "execute_result"
    }
   ],
   "source": [
    "Bx, By, Bz = B(0,0,0,0) # T\n",
    "\n",
    "R = px[0]/(q*Bz) # m\n",
    "R"
   ]
  },
  {
   "cell_type": "code",
   "execution_count": 18,
   "id": "great-parent",
   "metadata": {},
   "outputs": [
    {
     "data": {
      "image/svg+xml": [
       "<svg class=\"main-svg\" xmlns=\"http://www.w3.org/2000/svg\" xmlns:xlink=\"http://www.w3.org/1999/xlink\" width=\"700\" height=\"500\" style=\"\" viewBox=\"0 0 700 500\"><rect x=\"0\" y=\"0\" width=\"700\" height=\"500\" style=\"fill: rgb(255, 255, 255); fill-opacity: 1;\"/><defs id=\"defs-4a747d\"><g class=\"clips\"><clipPath id=\"clip4a747dxyplot\" class=\"plotclip\"><rect width=\"515\" height=\"320\"/></clipPath><clipPath class=\"axesclip\" id=\"clip4a747dx\"><rect x=\"80\" y=\"0\" width=\"515\" height=\"500\"/></clipPath><clipPath class=\"axesclip\" id=\"clip4a747dy\"><rect x=\"0\" y=\"100\" width=\"700\" height=\"320\"/></clipPath><clipPath class=\"axesclip\" id=\"clip4a747dxy\"><rect x=\"80\" y=\"100\" width=\"515\" height=\"320\"/></clipPath></g><g class=\"gradients\"/><g class=\"patterns\"/></defs><g class=\"bglayer\"/><g class=\"layer-below\"><g class=\"imagelayer\"/><g class=\"shapelayer\"/></g><g class=\"cartesianlayer\"><g class=\"subplot xy\"><g class=\"layer-subplot\"><g class=\"shapelayer\"/><g class=\"imagelayer\"/></g><g class=\"minor-gridlayer\"><g class=\"x\"/><g class=\"y\"/></g><g class=\"gridlayer\"><g class=\"x\"/><g class=\"y\"/></g><g class=\"zerolinelayer\"/><g class=\"layer-between\"><g class=\"shapelayer\"/><g class=\"imagelayer\"/></g><path class=\"xlines-below\"/><path class=\"ylines-below\"/><g class=\"overlines-below\"/><g class=\"xaxislayer-below\"/><g class=\"yaxislayer-below\"/><g class=\"overaxes-below\"/><g class=\"overplot\"><g class=\"xy\" transform=\"translate(80,100)\" clip-path=\"url(#clip4a747dxyplot)\"><g class=\"scatterlayer mlayer\"><g class=\"trace scatter trace315981\" style=\"stroke-miterlimit: 2; opacity: 1;\"><g class=\"fills\"/><g class=\"errorbars\"/><g class=\"lines\"><path class=\"js-line\" d=\"M257.52,303.7L277.76,302.26L287.76,300.48L307.24,294.82L316.63,290.97L334.48,281.35L342.85,275.62L358.28,262.46L365.26,255.09L377.58,238.97L382.85,230.29L391.5,211.94L394.84,202.35L399.43,182.6L400.68,172.53L401.02,152.25L400.11,142.14L396.18,122.24L393.16,112.55L385.12,93.92L380.14,85.07L368.38,68.56L361.65,60.96L346.67,47.29L338.5,41.27L320.97,31.06L311.71,26.9L292.42,20.6L282.49,18.48L262.32,16.37L252.18,16.39L232.01,18.57L222.1,20.72L202.84,27.09L193.59,31.28L176.1,41.57L167.95,47.61L153.01,61.34L146.31,68.96L134.6,85.52L129.65,94.37L121.68,113.03L118.7,122.73L114.84,142.65L113.97,152.77L114.38,173.05L115.66,183.11L120.32,202.85L123.68,212.42L132.39,230.75L137.69,239.4L150.07,255.48L157.08,262.83L172.55,275.94L180.94,281.65L198.82,291.22L208.22,295.04L227.72,300.63L237.71,302.39L257.96,303.76L268.1,303.37L288.18,300.45L298.01,297.94L317.02,290.87L326.1,286.35L343.21,275.44L351.14,269.11L365.56,254.84L371.99,246.98L383.09,230L387.72,220.96L395,202.04L397.63,192.24L400.77,172.2L401.28,162.06L400.13,141.81L398.49,131.79L393.11,112.22L389.41,102.78L380.04,84.79L374.43,76.33L361.5,60.71L354.24,53.62L338.3,41.07L329.71,35.66L311.48,26.74L301.94,23.27L282.26,18.37L272.21,16.98L251.94,16.33L241.82,17.08L221.86,20.71L212.12,23.57L193.37,31.33L184.45,36.17L167.75,47.69L160.05,54.3L146.15,69.06L140.01,77.14L129.51,94.5L125.21,103.69L118.6,122.88L116.33,132.77L113.9,152.91L113.76,163.06L115.61,183.25L117.6,193.2L123.66,212.56L127.7,221.87L137.7,239.53L143.61,247.78L157.1,262.94L164.61,269.76L180.97,281.75L189.74,286.84L208.26,295.12L217.91,298.26L237.76,302.46L247.86,303.49L268.15,303.42L278.24,302.32L298.06,297.99L307.68,294.79L326.15,286.4L334.89,281.25L351.18,269.15L358.65,262.27L372.03,247.02L377.88,238.73L387.76,221.01L391.74,211.68L397.68,192.29L399.61,182.33L401.34,162.11L401.13,151.96L398.56,131.83L396.23,121.95L389.5,102.82L385.14,93.66L374.54,76.37L368.35,68.32L354.35,53.64L346.61,47.08L329.83,35.67L320.88,30.88L302.09,23.24L292.33,20.44L272.36,16.93L262.24,16.24L241.97,17L231.92,18.45L212.26,23.47L202.74,27L184.57,36.03L176.01,41.48L160.15,54.12L152.93,61.24L140.07,76.93L134.51,85.42L125.24,103.47L121.58,112.94L116.31,132.54L114.73,142.56L113.69,162.81L114.24,172.94L117.48,192.97L120.15,202.76L127.53,221.66L132.21,230.67L143.4,247.6L149.85,255.43L164.34,269.62L172.3,275.92L189.44,286.75L198.54,291.24L217.59,298.23L227.44,300.7L247.53,303.53L257.68,303.88L277.91,302.43L287.89,300.64L307.37,294.98L316.76,291.13L334.61,281.5L342.99,275.76L358.42,262.58L365.4,255.21L377.72,239.1L383,230.43L391.65,212.09L394.99,202.51L399.61,182.75L400.86,172.68L401.21,152.39L400.32,142.28L396.41,122.37L393.41,112.68L385.41,94.04L380.45,85.19L368.71,68.65L361.99,61.04L347.03,47.33L338.86,41.3L321.36,31.04L312.11,26.86L292.85,20.5L282.94,18.36L262.77,16.19L252.62,16.18L232.43,18.3L222.51,20.42L203.22,26.73L193.97,30.89L176.45,41.1L168.27,47.11L153.28,60.78L146.54,68.37L134.76,84.89L129.77,93.73L121.72,112.36L118.7,122.04L114.74,141.93L113.82,152.04L114.12,172.32L115.34,182.39L119.9,202.16L123.22,211.76L131.84,230.13L137.09,238.82L149.36,254.96L156.32,262.35L171.71,275.56L180.06,281.32L197.89,291.01L207.27,294.89L226.74,300.61L236.73,302.43L256.95,303.94L267.09,303.63L287.19,300.86L297.04,298.42L316.1,291.49L325.23,287.04L342.42,276.25L350.4,269.98L364.94,255.83L371.42,248.03L382.66,231.15L387.37,222.16L394.82,203.29L397.53,193.51L400.84,173.48L401.44,163.35L400.48,143.09L398.93,133.06L393.75,113.45L390.13,103.97L380.94,85.89L375.41,77.37L362.62,61.62L355.42,54.46L339.61,41.74L331.08,36.25L312.96,27.14L303.47,23.56L283.83,18.46L273.8,16.95L253.52,16.09L243.39,16.73L223.39,20.14L213.62,22.89L194.79,30.42L185.81,35.16L168.98,46.47L161.2,52.99L147.11,67.59L140.88,75.6L130.17,92.84L125.75,101.98L118.9,121.07L116.5,130.93L113.81,151.03L113.53,161.18L115.13,181.4L116.99,191.38L122.8,210.83L126.71,220.19L136.47,237.98L142.26,246.31L155.52,261.65L162.93,268.58L179.13,280.8L187.84,286.02L206.25,294.56L215.85,297.84L235.63,302.33L245.71,303.52L265.99,303.76L276.09,302.81L295.98,298.79L305.66,295.73L324.26,287.61L333.08,282.6L349.56,270.76L357.13,264.01L370.76,248.99L376.74,240.79L386.92,223.24L391.05,213.97L397.3,194.66L399.4,184.73L401.47,164.55L401.43,154.4L399.22,134.24L397.05,124.33L390.66,105.07L386.46,95.83L376.16,78.35L370.11,70.19L356.37,55.26L348.75,48.56L332.2,36.85L323.34,31.89L304.69,23.91L294.99,20.93L275.08,17.05L264.96,16.17L244.67,16.55L234.6,17.81L214.86,22.43L205.28,25.78L186.94,34.44L178.27,39.72L169.99,45.6\" style=\"vector-effect: none; fill: none; stroke: rgb(0, 0, 255); stroke-opacity: 1; stroke-width: 3px; opacity: 1;\"/></g><g class=\"points\"/><g class=\"text\"/></g><g class=\"trace scatter trace267a4f\" style=\"stroke-miterlimit: 2; opacity: 1;\"><g class=\"fills\"/><g class=\"errorbars\"/><g class=\"lines\"><path class=\"js-line\" d=\"M257.52,303.7L257.52,16.32\" style=\"vector-effect: none; fill: none; stroke: rgb(0, 0, 0); stroke-opacity: 1; stroke-width: 3px; opacity: 1;\"/></g><g class=\"points\"/><g class=\"text\"/></g></g></g></g><path class=\"xlines-above crisp\" d=\"M79,420.5H595\" style=\"fill: none; stroke-width: 1px; stroke: rgb(36, 36, 36); stroke-opacity: 1;\"/><path class=\"ylines-above crisp\" d=\"M79.5,100V420\" style=\"fill: none; stroke-width: 1px; stroke: rgb(36, 36, 36); stroke-opacity: 1;\"/><g class=\"overlines-above\"/><g class=\"xaxislayer-above\"><path class=\"xtick ticks crisp\" d=\"M0,421v5\" transform=\"translate(165.20999999999998,0)\" style=\"stroke: rgb(68, 68, 68); stroke-opacity: 1; stroke-width: 1px;\"/><path class=\"xtick ticks crisp\" d=\"M0,421v5\" transform=\"translate(251.37,0)\" style=\"stroke: rgb(68, 68, 68); stroke-opacity: 1; stroke-width: 1px;\"/><path class=\"xtick ticks crisp\" d=\"M0,421v5\" transform=\"translate(337.52,0)\" style=\"stroke: rgb(68, 68, 68); stroke-opacity: 1; stroke-width: 1px;\"/><path class=\"xtick ticks crisp\" d=\"M0,421v5\" transform=\"translate(423.68,0)\" style=\"stroke: rgb(68, 68, 68); stroke-opacity: 1; stroke-width: 1px;\"/><path class=\"xtick ticks crisp\" d=\"M0,421v5\" transform=\"translate(509.83,0)\" style=\"stroke: rgb(68, 68, 68); stroke-opacity: 1; stroke-width: 1px;\"/><g class=\"xtick\"><text text-anchor=\"middle\" x=\"0\" y=\"440.4\" transform=\"translate(165.20999999999998,0)\" style=\"font-family: 'Open Sans', verdana, arial, sans-serif; font-size: 12px; fill: rgb(36, 36, 36); fill-opacity: 1; white-space: pre; opacity: 1;\">−2</text></g><g class=\"xtick\"><text text-anchor=\"middle\" x=\"0\" y=\"440.4\" style=\"font-family: 'Open Sans', verdana, arial, sans-serif; font-size: 12px; fill: rgb(36, 36, 36); fill-opacity: 1; white-space: pre; opacity: 1;\" transform=\"translate(251.37,0)\">−1</text></g><g class=\"xtick\"><text text-anchor=\"middle\" x=\"0\" y=\"440.4\" style=\"font-family: 'Open Sans', verdana, arial, sans-serif; font-size: 12px; fill: rgb(36, 36, 36); fill-opacity: 1; white-space: pre; opacity: 1;\" transform=\"translate(337.52,0)\">0</text></g><g class=\"xtick\"><text text-anchor=\"middle\" x=\"0\" y=\"440.4\" style=\"font-family: 'Open Sans', verdana, arial, sans-serif; font-size: 12px; fill: rgb(36, 36, 36); fill-opacity: 1; white-space: pre; opacity: 1;\" transform=\"translate(423.68,0)\">1</text></g><g class=\"xtick\"><text text-anchor=\"middle\" x=\"0\" y=\"440.4\" style=\"font-family: 'Open Sans', verdana, arial, sans-serif; font-size: 12px; fill: rgb(36, 36, 36); fill-opacity: 1; white-space: pre; opacity: 1;\" transform=\"translate(509.83,0)\">2</text></g></g><g class=\"yaxislayer-above\"><path class=\"ytick ticks crisp\" d=\"M79,0h-5\" transform=\"translate(0,403.7)\" style=\"stroke: rgb(68, 68, 68); stroke-opacity: 1; stroke-width: 1px;\"/><path class=\"ytick ticks crisp\" d=\"M79,0h-5\" transform=\"translate(0,360.62)\" style=\"stroke: rgb(68, 68, 68); stroke-opacity: 1; stroke-width: 1px;\"/><path class=\"ytick ticks crisp\" d=\"M79,0h-5\" transform=\"translate(0,317.53999999999996)\" style=\"stroke: rgb(68, 68, 68); stroke-opacity: 1; stroke-width: 1px;\"/><path class=\"ytick ticks crisp\" d=\"M79,0h-5\" transform=\"translate(0,274.46000000000004)\" style=\"stroke: rgb(68, 68, 68); stroke-opacity: 1; stroke-width: 1px;\"/><path class=\"ytick ticks crisp\" d=\"M79,0h-5\" transform=\"translate(0,231.39)\" style=\"stroke: rgb(68, 68, 68); stroke-opacity: 1; stroke-width: 1px;\"/><path class=\"ytick ticks crisp\" d=\"M79,0h-5\" transform=\"translate(0,188.31)\" style=\"stroke: rgb(68, 68, 68); stroke-opacity: 1; stroke-width: 1px;\"/><path class=\"ytick ticks crisp\" d=\"M79,0h-5\" transform=\"translate(0,145.23)\" style=\"stroke: rgb(68, 68, 68); stroke-opacity: 1; stroke-width: 1px;\"/><path class=\"ytick ticks crisp\" d=\"M79,0h-5\" transform=\"translate(0,102.16)\" style=\"stroke: rgb(68, 68, 68); stroke-opacity: 1; stroke-width: 1px;\"/><g class=\"ytick\"><text text-anchor=\"end\" x=\"71.6\" y=\"4.199999999999999\" transform=\"translate(0,403.7)\" style=\"font-family: 'Open Sans', verdana, arial, sans-serif; font-size: 12px; fill: rgb(36, 36, 36); fill-opacity: 1; white-space: pre; opacity: 1;\">0</text></g><g class=\"ytick\"><text text-anchor=\"end\" x=\"71.6\" y=\"4.199999999999999\" style=\"font-family: 'Open Sans', verdana, arial, sans-serif; font-size: 12px; fill: rgb(36, 36, 36); fill-opacity: 1; white-space: pre; opacity: 1;\" transform=\"translate(0,360.62)\">0.5</text></g><g class=\"ytick\"><text text-anchor=\"end\" x=\"71.6\" y=\"4.199999999999999\" style=\"font-family: 'Open Sans', verdana, arial, sans-serif; font-size: 12px; fill: rgb(36, 36, 36); fill-opacity: 1; white-space: pre; opacity: 1;\" transform=\"translate(0,317.53999999999996)\">1</text></g><g class=\"ytick\"><text text-anchor=\"end\" x=\"71.6\" y=\"4.199999999999999\" style=\"font-family: 'Open Sans', verdana, arial, sans-serif; font-size: 12px; fill: rgb(36, 36, 36); fill-opacity: 1; white-space: pre; opacity: 1;\" transform=\"translate(0,274.46000000000004)\">1.5</text></g><g class=\"ytick\"><text text-anchor=\"end\" x=\"71.6\" y=\"4.199999999999999\" style=\"font-family: 'Open Sans', verdana, arial, sans-serif; font-size: 12px; fill: rgb(36, 36, 36); fill-opacity: 1; white-space: pre; opacity: 1;\" transform=\"translate(0,231.39)\">2</text></g><g class=\"ytick\"><text text-anchor=\"end\" x=\"71.6\" y=\"4.199999999999999\" style=\"font-family: 'Open Sans', verdana, arial, sans-serif; font-size: 12px; fill: rgb(36, 36, 36); fill-opacity: 1; white-space: pre; opacity: 1;\" transform=\"translate(0,188.31)\">2.5</text></g><g class=\"ytick\"><text text-anchor=\"end\" x=\"71.6\" y=\"4.199999999999999\" style=\"font-family: 'Open Sans', verdana, arial, sans-serif; font-size: 12px; fill: rgb(36, 36, 36); fill-opacity: 1; white-space: pre; opacity: 1;\" transform=\"translate(0,145.23)\">3</text></g><g class=\"ytick\"><text text-anchor=\"end\" x=\"71.6\" y=\"4.199999999999999\" style=\"font-family: 'Open Sans', verdana, arial, sans-serif; font-size: 12px; fill: rgb(36, 36, 36); fill-opacity: 1; white-space: pre; opacity: 1;\" transform=\"translate(0,102.16)\">3.5</text></g></g><g class=\"overaxes-above\"/></g></g><g class=\"polarlayer\"/><g class=\"smithlayer\"/><g class=\"ternarylayer\"/><g class=\"geolayer\"/><g class=\"funnelarealayer\"/><g class=\"pielayer\"/><g class=\"iciclelayer\"/><g class=\"treemaplayer\"/><g class=\"sunburstlayer\"/><g class=\"glimages\"/><defs id=\"topdefs-4a747d\"><g class=\"clips\"/><clipPath id=\"legend4a747d\"><rect width=\"83\" height=\"48\" x=\"0\" y=\"0\"/></clipPath></defs><g class=\"layer-above\"><g class=\"imagelayer\"/><g class=\"shapelayer\"/></g><g class=\"infolayer\"><g class=\"legend\" pointer-events=\"all\" transform=\"translate(605.3,100)\"><rect class=\"bg\" shape-rendering=\"crispEdges\" style=\"stroke: rgb(68, 68, 68); stroke-opacity: 1; fill: rgb(255, 255, 255); fill-opacity: 1; stroke-width: 0px;\" width=\"83\" height=\"48\" x=\"0\" y=\"0\"/><g class=\"scrollbox\" transform=\"\" clip-path=\"url(#legend4a747d)\"><g class=\"groups\"><g class=\"traces\" transform=\"translate(0,14.5)\" style=\"opacity: 1;\"><text class=\"legendtext\" text-anchor=\"start\" x=\"40\" y=\"4.680000000000001\" style=\"font-family: 'Open Sans', verdana, arial, sans-serif; font-size: 12px; fill: rgb(36, 36, 36); fill-opacity: 1; white-space: pre;\">trace 0</text><g class=\"layers\" style=\"opacity: 1;\"><g class=\"legendfill\"/><g class=\"legendlines\"><path class=\"js-line\" d=\"M5,0h30\" style=\"fill: none; stroke: rgb(0, 0, 255); stroke-opacity: 1; stroke-width: 3px;\"/></g><g class=\"legendsymbols\"><g class=\"legendpoints\"/></g></g><rect class=\"legendtoggle\" x=\"0\" y=\"-9.5\" width=\"77.015625\" height=\"19\" style=\"fill: rgb(0, 0, 0); fill-opacity: 0;\"/></g><g class=\"traces\" transform=\"translate(0,33.5)\" style=\"opacity: 1;\"><text class=\"legendtext\" text-anchor=\"start\" x=\"40\" y=\"4.680000000000001\" style=\"font-family: 'Open Sans', verdana, arial, sans-serif; font-size: 12px; fill: rgb(36, 36, 36); fill-opacity: 1; white-space: pre;\">2R</text><g class=\"layers\" style=\"opacity: 1;\"><g class=\"legendfill\"/><g class=\"legendlines\"><path class=\"js-line\" d=\"M5,0h30\" style=\"fill: none; stroke: rgb(0, 0, 0); stroke-opacity: 1; stroke-width: 3px;\"/></g><g class=\"legendsymbols\"><g class=\"legendpoints\"/></g></g><rect class=\"legendtoggle\" x=\"0\" y=\"-9.5\" width=\"77.015625\" height=\"19\" style=\"fill: rgb(0, 0, 0); fill-opacity: 0;\"/></g></g></g><rect class=\"scrollbar\" rx=\"20\" ry=\"3\" width=\"0\" height=\"0\" style=\"fill: rgb(128, 139, 164); fill-opacity: 1;\" x=\"0\" y=\"0\"/></g><g class=\"g-gtitle\"/><g class=\"g-xtitle\"><text class=\"xtitle\" x=\"337.5\" y=\"467.70625\" text-anchor=\"middle\" style=\"opacity: 1; font-family: 'Open Sans', verdana, arial, sans-serif; font-size: 14px; fill: rgb(36, 36, 36); fill-opacity: 1; white-space: pre;\">x (m)</text></g><g class=\"g-ytitle\"><text class=\"ytitle\" transform=\"rotate(-90,35.50625,260)\" x=\"35.50625\" y=\"260\" text-anchor=\"middle\" style=\"opacity: 1; font-family: 'Open Sans', verdana, arial, sans-serif; font-size: 14px; fill: rgb(36, 36, 36); fill-opacity: 1; white-space: pre;\">y (m)</text></g></g></svg>"
      ]
     },
     "metadata": {},
     "output_type": "display_data"
    }
   ],
   "source": [
    "fig.add_trace( go.Scatter(x=[0,0], y=[0,2*np.abs(R)], mode='lines', line_width=3, line_color=\"black\", name='2R'))\n",
    "fig.show()"
   ]
  },
  {
   "cell_type": "code",
   "execution_count": 19,
   "id": "timely-cycle",
   "metadata": {},
   "outputs": [
    {
     "data": {
      "text/plain": [
       "'/data/shared/Acc_Course_2025/2025.02.20_General_Tracking'"
      ]
     },
     "execution_count": 19,
     "metadata": {},
     "output_type": "execute_result"
    }
   ],
   "source": [
    "pwd"
   ]
  },
  {
   "cell_type": "code",
   "execution_count": 20,
   "id": "612d8953-d318-42a2-a2a0-506b9895686d",
   "metadata": {},
   "outputs": [],
   "source": [
    "%load_ext watermark"
   ]
  },
  {
   "cell_type": "code",
   "execution_count": 21,
   "id": "applicable-dependence",
   "metadata": {},
   "outputs": [
    {
     "name": "stdout",
     "output_type": "stream",
     "text": [
      "Python implementation: CPython\n",
      "Python version       : 3.12.2\n",
      "IPython version      : 8.27.0\n",
      "\n",
      "conda environment: n/a\n",
      "\n",
      "Compiler    : GCC 12.3.0\n",
      "OS          : Linux\n",
      "Release     : 6.11.0-19-generic\n",
      "Machine     : x86_64\n",
      "Processor   : x86_64\n",
      "CPU cores   : 20\n",
      "Architecture: 64bit\n",
      "\n",
      "json   : 2.0.9\n",
      "sys    : 3.12.2 | packaged by conda-forge | (main, Feb 16 2024, 20:50:58) [GCC 12.3.0]\n",
      "IPython: 8.27.0\n",
      "scipy  : 1.13.1\n",
      "plotly : 5.24.1\n",
      "numpy  : 1.26.4\n",
      "\n"
     ]
    }
   ],
   "source": [
    "%watermark --iversions --conda --machine --python"
   ]
  },
  {
   "cell_type": "code",
   "execution_count": 22,
   "id": "psychological-garage",
   "metadata": {},
   "outputs": [
    {
     "name": "stdout",
     "output_type": "stream",
     "text": [
      "[NbConvertApp] Converting notebook general_tracking.ipynb to HTML\n",
      "[NbConvertApp] WARNING | Alternative text is missing on 3 image(s).\n",
      "[NbConvertApp] Writing 362509 bytes to general_tracking.html\n"
     ]
    }
   ],
   "source": [
    "!jupyter nbconvert --to HTML general_tracking.ipynb"
   ]
  },
  {
   "cell_type": "code",
   "execution_count": null,
   "id": "5e2c7092-14e2-48d1-a013-c17b061482b5",
   "metadata": {},
   "outputs": [],
   "source": []
  }
 ],
 "metadata": {
  "kernelspec": {
   "display_name": "Python 3 (ipykernel)",
   "language": "python",
   "name": "python3"
  },
  "language_info": {
   "codemirror_mode": {
    "name": "ipython",
    "version": 3
   },
   "file_extension": ".py",
   "mimetype": "text/x-python",
   "name": "python",
   "nbconvert_exporter": "python",
   "pygments_lexer": "ipython3",
   "version": "3.12.2"
  }
 },
 "nbformat": 4,
 "nbformat_minor": 5
}
