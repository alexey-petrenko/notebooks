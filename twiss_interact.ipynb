{
 "cells": [
  {
   "cell_type": "markdown",
   "metadata": {},
   "source": [
    "## Find beamline optical functions interactively using [Elegant](https://ops.aps.anl.gov/manuals/elegant_latest/elegant.html)"
   ]
  },
  {
   "cell_type": "markdown",
   "metadata": {},
   "source": [
    "[A. Petrenko](https://www.inp.nsk.su/~petrenko/) (Novosibirsk, 2023)"
   ]
  },
  {
   "cell_type": "code",
   "execution_count": 1,
   "metadata": {},
   "outputs": [],
   "source": [
    "import numpy as np\n",
    "import pandas as pd\n",
    "import os\n",
    "import glob\n",
    "from io import StringIO"
   ]
  },
  {
   "cell_type": "markdown",
   "metadata": {},
   "source": [
    "<a href=https://ops.aps.anl.gov/manuals/elegant_latest/elegant.html>Elegant</a> lattice file:"
   ]
  },
  {
   "cell_type": "code",
   "execution_count": 2,
   "metadata": {},
   "outputs": [
    {
     "name": "stdout",
     "output_type": "stream",
     "text": [
      "D10 : DRIFT, L=1.0\n",
      "\n",
      "Q10  : QUAD,  L=0.2, K1=-3\n",
      "DQ10 : DRIFT, L=0.3\n",
      "Q20  : QUAD,  L=0.2, K1=5\n",
      "DQ20 : DRIFT, L=0.3\n",
      "Q30  : QUAD,  L=0.2, K1=-2.5\n",
      "\n",
      "Triplet10 : LINE=(Q10,DQ10,Q20,DQ20,Q30)\n",
      "\n",
      "D20 : DRIFT, L=0.5\n",
      "\n",
      "B10: SBEND, L=0.8, angle=0.35\n",
      "DB10: DRIFT, L=1.0\n",
      "QdogF: QUAD, L=0.2, K1=+3\n",
      "DQdogF: DRIFT, L=1.0\n",
      "QdogD: QUAD, L=0.2, K1=-1\n",
      "B20: B10, angle=-0.35\n",
      "\n",
      "DOGLEG : LINE=(B10,DB10,QdogF,DQdogF,QdogD,DQdogF,QdogF,DB10,B20)\n",
      "\n",
      "D30 : DRIFT, L=0.5\n",
      "\n",
      "Q40  : QUAD,  L=0.2, K1=-3\n",
      "DQ40 : DRIFT, L=0.3\n",
      "Q50  : QUAD,  L=0.2, K1=5\n",
      "DQ50 : DRIFT, L=0.3\n",
      "Q60  : QUAD,  L=0.2, K1=-2.5\n",
      "\n",
      "Triplet20 : LINE=(Q40,DQ40,Q50,DQ50,Q60)\n",
      "\n",
      "DFF : DRIFT, L=2.0\n",
      "\n",
      "machine : LINE=(D10,Triplet10,D20,DOGLEG,D30,Triplet20,DFF)\n"
     ]
    }
   ],
   "source": [
    "with open(\"machine.lte\", \"r\") as f:\n",
    "    print(f.read())"
   ]
  },
  {
   "cell_type": "code",
   "execution_count": 3,
   "metadata": {},
   "outputs": [
    {
     "name": "stdout",
     "output_type": "stream",
     "text": [
      "&divide_elements\n",
      "    name = *\n",
      "    maximum_length = 0.05\n",
      "&end\n",
      "\n",
      "&run_setup\n",
      "    lattice = machine.lte\n",
      "    magnets = results/beamline.mag\n",
      "    parameters = results/beamline.par\n",
      "    p_central_mev = 100.0\n",
      "    use_beamline = machine\n",
      "&end\n",
      "\n",
      "&load_parameters\n",
      "    filename = parameters2load.sdds\n",
      "    change_defined_values = 1\n",
      "    verbose = 1\n",
      "    allow_missing_files = 1  \n",
      "&end\n",
      "\n",
      "&twiss_output\n",
      "    filename = results/twiss.twi\n",
      "    matched = 0\n",
      "    beta_x  =  30.0\n",
      "    beta_y  =  30.0\n",
      "&end\n",
      "\n",
      "&run_control &end\n",
      "\n",
      "&bunched_beam &end\n",
      "\n",
      "&track &end\n",
      "\n",
      "!back_tracking:\n",
      "\n",
      "&run_setup\n",
      "    lattice = machine.lte\n",
      "    p_central_mev = 100.0\n",
      "    use_beamline = machine\n",
      "    back_tracking = 1\n",
      "&end\n",
      "\n",
      "&load_parameters\n",
      "    filename = parameters2load.sdds\n",
      "    change_defined_values = 1\n",
      "    verbose = 1\n",
      "    allow_missing_files = 1  \n",
      "&end\n",
      "\n",
      "&twiss_output\n",
      "    filename = results/twiss_backwards.twi\n",
      "    matched = 0\n",
      "    beta_x  =  0.2\n",
      "    beta_y  =  0.2\n",
      "&end\n",
      "\n",
      "&run_control &end\n",
      "\n",
      "&bunched_beam &end\n",
      "\n",
      "&track &end\n",
      "\n"
     ]
    }
   ],
   "source": [
    "with open(\"twiss.ele\", \"r\") as f:\n",
    "    print(f.read())"
   ]
  },
  {
   "cell_type": "markdown",
   "metadata": {},
   "source": [
    "Empty the 'results/' folder:"
   ]
  },
  {
   "cell_type": "code",
   "execution_count": 4,
   "metadata": {},
   "outputs": [],
   "source": [
    "if not os.path.exists(\"results/\"): os.mkdir(\"results/\")\n",
    "# empty the \"results\" folder:\n",
    "for f in glob.glob('results/*'): os.remove(f)"
   ]
  },
  {
   "cell_type": "markdown",
   "metadata": {},
   "source": [
    "Run Elegant"
   ]
  },
  {
   "cell_type": "code",
   "execution_count": 5,
   "metadata": {},
   "outputs": [
    {
     "name": "stdout",
     "output_type": "stream",
     "text": [
      "CPU times: user 6 μs, sys: 1e+03 ns, total: 7 μs\n",
      "Wall time: 13.8 μs\n",
      "\n",
      "Finished tracking.\n",
      "End of input data encountered.\n",
      "statistics:    ET:  00:00:0.076 CP:    0.06 BIO:0 DIO:0 PF:0 MEM:7414\n",
      "=====================================================================================\n",
      "Thanks for using elegant.  Please cite the following reference in your publications:\n",
      "  M. Borland, \"elegant: A Flexible SDDS-Compliant Code for Accelerator Simulation,\"\n",
      "  Advanced Photon Source LS-287, September 2000.\n",
      "If you use a modified version, please indicate this in all publications.\n",
      "=====================================================================================\n"
     ]
    }
   ],
   "source": [
    "%time\n",
    "out = !elegant twiss.ele\n",
    "print(\"\\n\".join(out[-10:]))"
   ]
  },
  {
   "cell_type": "code",
   "execution_count": 6,
   "metadata": {},
   "outputs": [],
   "source": [
    "# read SDDS-file into pandas dataframe\n",
    "def sdds2df(sdds_file, columns=\"all\"):\n",
    "    if columns==\"all\":\n",
    "        columns = !sddsquery $sdds_file -columnlist\n",
    "    col_str = \"-col=\" + \",\".join(columns)\n",
    "    out = !sdds2stream $sdds_file $col_str -pipe=out\n",
    "    DATA = StringIO(\"\\n\".join(out))\n",
    "    df = pd.read_csv(DATA, names=columns, sep=r'\\s+')\n",
    "    return df"
   ]
  },
  {
   "cell_type": "code",
   "execution_count": 7,
   "metadata": {},
   "outputs": [],
   "source": [
    "df_mag = sdds2df('results/beamline.mag')"
   ]
  },
  {
   "cell_type": "code",
   "execution_count": 8,
   "metadata": {},
   "outputs": [
    {
     "data": {
      "text/html": [
       "<div>\n",
       "<style scoped>\n",
       "    .dataframe tbody tr th:only-of-type {\n",
       "        vertical-align: middle;\n",
       "    }\n",
       "\n",
       "    .dataframe tbody tr th {\n",
       "        vertical-align: top;\n",
       "    }\n",
       "\n",
       "    .dataframe thead th {\n",
       "        text-align: right;\n",
       "    }\n",
       "</style>\n",
       "<table border=\"1\" class=\"dataframe\">\n",
       "  <thead>\n",
       "    <tr style=\"text-align: right;\">\n",
       "      <th></th>\n",
       "      <th>ElementName</th>\n",
       "      <th>ElementType</th>\n",
       "      <th>s</th>\n",
       "      <th>Profile</th>\n",
       "    </tr>\n",
       "  </thead>\n",
       "  <tbody>\n",
       "    <tr>\n",
       "      <th>806</th>\n",
       "      <td>DFF</td>\n",
       "      <td>DRIF</td>\n",
       "      <td>12.55</td>\n",
       "      <td>0.0</td>\n",
       "    </tr>\n",
       "    <tr>\n",
       "      <th>807</th>\n",
       "      <td>DFF</td>\n",
       "      <td>DRIF</td>\n",
       "      <td>12.55</td>\n",
       "      <td>0.0</td>\n",
       "    </tr>\n",
       "    <tr>\n",
       "      <th>808</th>\n",
       "      <td>DFF</td>\n",
       "      <td>DRIF</td>\n",
       "      <td>12.60</td>\n",
       "      <td>0.0</td>\n",
       "    </tr>\n",
       "  </tbody>\n",
       "</table>\n",
       "</div>"
      ],
      "text/plain": [
       "    ElementName ElementType      s  Profile\n",
       "806         DFF        DRIF  12.55      0.0\n",
       "807         DFF        DRIF  12.55      0.0\n",
       "808         DFF        DRIF  12.60      0.0"
      ]
     },
     "execution_count": 8,
     "metadata": {},
     "output_type": "execute_result"
    }
   ],
   "source": [
    "df_mag.tail(3)"
   ]
  },
  {
   "cell_type": "code",
   "execution_count": 9,
   "metadata": {},
   "outputs": [],
   "source": [
    "import plotly.io as pio\n",
    "import plotly.graph_objects as go\n",
    "from plotly.subplots import make_subplots"
   ]
  },
  {
   "cell_type": "code",
   "execution_count": 10,
   "metadata": {},
   "outputs": [],
   "source": [
    "pio.templates.default = pio.templates[\"simple_white\"]"
   ]
  },
  {
   "cell_type": "code",
   "execution_count": 11,
   "metadata": {},
   "outputs": [],
   "source": [
    "mag = go.Scatter(\n",
    "    x=df_mag.s, y=df_mag.Profile, mode='lines', line_width=2, line_color=\"gray\",\n",
    "    hovertext=df_mag.ElementName, hoverinfo=\"text\", showlegend=False\n",
    ")"
   ]
  },
  {
   "cell_type": "markdown",
   "metadata": {},
   "source": [
    "Reading Twiss output table:"
   ]
  },
  {
   "cell_type": "code",
   "execution_count": 12,
   "metadata": {},
   "outputs": [
    {
     "data": {
      "text/html": [
       "<div>\n",
       "<style scoped>\n",
       "    .dataframe tbody tr th:only-of-type {\n",
       "        vertical-align: middle;\n",
       "    }\n",
       "\n",
       "    .dataframe tbody tr th {\n",
       "        vertical-align: top;\n",
       "    }\n",
       "\n",
       "    .dataframe thead th {\n",
       "        text-align: right;\n",
       "    }\n",
       "</style>\n",
       "<table border=\"1\" class=\"dataframe\">\n",
       "  <thead>\n",
       "    <tr style=\"text-align: right;\">\n",
       "      <th></th>\n",
       "      <th>s</th>\n",
       "      <th>betax</th>\n",
       "      <th>alphax</th>\n",
       "      <th>psix</th>\n",
       "      <th>etax</th>\n",
       "      <th>etaxp</th>\n",
       "      <th>xAperture</th>\n",
       "      <th>betay</th>\n",
       "      <th>alphay</th>\n",
       "      <th>psiy</th>\n",
       "      <th>etay</th>\n",
       "      <th>etayp</th>\n",
       "      <th>yAperture</th>\n",
       "      <th>pCentral0</th>\n",
       "      <th>ElementName</th>\n",
       "      <th>ElementOccurence</th>\n",
       "      <th>ElementType</th>\n",
       "      <th>ChamberShape</th>\n",
       "    </tr>\n",
       "  </thead>\n",
       "  <tbody>\n",
       "    <tr>\n",
       "      <th>250</th>\n",
       "      <td>12.50</td>\n",
       "      <td>5305.286126</td>\n",
       "      <td>-1743.020732</td>\n",
       "      <td>6.405294</td>\n",
       "      <td>-0.069750</td>\n",
       "      <td>-0.022518</td>\n",
       "      <td>10.0</td>\n",
       "      <td>60.490975</td>\n",
       "      <td>-87.385705</td>\n",
       "      <td>4.326396</td>\n",
       "      <td>0.0</td>\n",
       "      <td>0.0</td>\n",
       "      <td>10.0</td>\n",
       "      <td>195.695076</td>\n",
       "      <td>DFF</td>\n",
       "      <td>38</td>\n",
       "      <td>DRIF</td>\n",
       "      <td>?</td>\n",
       "    </tr>\n",
       "    <tr>\n",
       "      <th>251</th>\n",
       "      <td>12.55</td>\n",
       "      <td>5481.019848</td>\n",
       "      <td>-1771.653705</td>\n",
       "      <td>6.405303</td>\n",
       "      <td>-0.070876</td>\n",
       "      <td>-0.022518</td>\n",
       "      <td>10.0</td>\n",
       "      <td>69.545182</td>\n",
       "      <td>-93.698433</td>\n",
       "      <td>4.327167</td>\n",
       "      <td>0.0</td>\n",
       "      <td>0.0</td>\n",
       "      <td>10.0</td>\n",
       "      <td>195.695076</td>\n",
       "      <td>DFF</td>\n",
       "      <td>39</td>\n",
       "      <td>DRIF</td>\n",
       "      <td>?</td>\n",
       "    </tr>\n",
       "    <tr>\n",
       "      <th>252</th>\n",
       "      <td>12.60</td>\n",
       "      <td>5659.616867</td>\n",
       "      <td>-1800.286678</td>\n",
       "      <td>6.405312</td>\n",
       "      <td>-0.072002</td>\n",
       "      <td>-0.022518</td>\n",
       "      <td>10.0</td>\n",
       "      <td>79.230661</td>\n",
       "      <td>-100.011161</td>\n",
       "      <td>4.327840</td>\n",
       "      <td>0.0</td>\n",
       "      <td>0.0</td>\n",
       "      <td>10.0</td>\n",
       "      <td>195.695076</td>\n",
       "      <td>DFF</td>\n",
       "      <td>40</td>\n",
       "      <td>DRIF</td>\n",
       "      <td>?</td>\n",
       "    </tr>\n",
       "  </tbody>\n",
       "</table>\n",
       "</div>"
      ],
      "text/plain": [
       "         s        betax       alphax      psix      etax     etaxp  xAperture  \\\n",
       "250  12.50  5305.286126 -1743.020732  6.405294 -0.069750 -0.022518       10.0   \n",
       "251  12.55  5481.019848 -1771.653705  6.405303 -0.070876 -0.022518       10.0   \n",
       "252  12.60  5659.616867 -1800.286678  6.405312 -0.072002 -0.022518       10.0   \n",
       "\n",
       "         betay      alphay      psiy  etay  etayp  yAperture   pCentral0  \\\n",
       "250  60.490975  -87.385705  4.326396   0.0    0.0       10.0  195.695076   \n",
       "251  69.545182  -93.698433  4.327167   0.0    0.0       10.0  195.695076   \n",
       "252  79.230661 -100.011161  4.327840   0.0    0.0       10.0  195.695076   \n",
       "\n",
       "    ElementName  ElementOccurence ElementType ChamberShape  \n",
       "250         DFF                38        DRIF            ?  \n",
       "251         DFF                39        DRIF            ?  \n",
       "252         DFF                40        DRIF            ?  "
      ]
     },
     "execution_count": 12,
     "metadata": {},
     "output_type": "execute_result"
    }
   ],
   "source": [
    "df = sdds2df('results/twiss.twi')\n",
    "df.tail(3)"
   ]
  },
  {
   "cell_type": "code",
   "execution_count": 13,
   "metadata": {},
   "outputs": [
    {
     "data": {
      "text/html": [
       "<div>\n",
       "<style scoped>\n",
       "    .dataframe tbody tr th:only-of-type {\n",
       "        vertical-align: middle;\n",
       "    }\n",
       "\n",
       "    .dataframe tbody tr th {\n",
       "        vertical-align: top;\n",
       "    }\n",
       "\n",
       "    .dataframe thead th {\n",
       "        text-align: right;\n",
       "    }\n",
       "</style>\n",
       "<table border=\"1\" class=\"dataframe\">\n",
       "  <thead>\n",
       "    <tr style=\"text-align: right;\">\n",
       "      <th></th>\n",
       "      <th>s</th>\n",
       "      <th>betax</th>\n",
       "      <th>alphax</th>\n",
       "      <th>psix</th>\n",
       "      <th>etax</th>\n",
       "      <th>etaxp</th>\n",
       "      <th>xAperture</th>\n",
       "      <th>betay</th>\n",
       "      <th>alphay</th>\n",
       "      <th>psiy</th>\n",
       "      <th>etay</th>\n",
       "      <th>etayp</th>\n",
       "      <th>yAperture</th>\n",
       "      <th>pCentral0</th>\n",
       "      <th>ElementName</th>\n",
       "      <th>ElementOccurence</th>\n",
       "      <th>ElementType</th>\n",
       "      <th>ChamberShape</th>\n",
       "    </tr>\n",
       "  </thead>\n",
       "  <tbody>\n",
       "    <tr>\n",
       "      <th>250</th>\n",
       "      <td>0.10</td>\n",
       "      <td>11972.797566</td>\n",
       "      <td>3342.303138</td>\n",
       "      <td>-7.790154</td>\n",
       "      <td>0.024029</td>\n",
       "      <td>-0.005234</td>\n",
       "      <td>10.0</td>\n",
       "      <td>10838.953153</td>\n",
       "      <td>146.160313</td>\n",
       "      <td>-4.464131</td>\n",
       "      <td>0.0</td>\n",
       "      <td>0.0</td>\n",
       "      <td>10.0</td>\n",
       "      <td>195.695076</td>\n",
       "      <td>D10</td>\n",
       "      <td>3</td>\n",
       "      <td>DRIF</td>\n",
       "      <td>?</td>\n",
       "    </tr>\n",
       "    <tr>\n",
       "      <th>251</th>\n",
       "      <td>0.05</td>\n",
       "      <td>12309.360457</td>\n",
       "      <td>3388.954688</td>\n",
       "      <td>-7.790158</td>\n",
       "      <td>0.024291</td>\n",
       "      <td>-0.005234</td>\n",
       "      <td>10.0</td>\n",
       "      <td>10853.574112</td>\n",
       "      <td>146.258865</td>\n",
       "      <td>-4.464136</td>\n",
       "      <td>0.0</td>\n",
       "      <td>0.0</td>\n",
       "      <td>10.0</td>\n",
       "      <td>195.695076</td>\n",
       "      <td>D10</td>\n",
       "      <td>2</td>\n",
       "      <td>DRIF</td>\n",
       "      <td>?</td>\n",
       "    </tr>\n",
       "    <tr>\n",
       "      <th>252</th>\n",
       "      <td>0.00</td>\n",
       "      <td>12650.588504</td>\n",
       "      <td>3435.606237</td>\n",
       "      <td>-7.790162</td>\n",
       "      <td>0.024553</td>\n",
       "      <td>-0.005234</td>\n",
       "      <td>10.0</td>\n",
       "      <td>10868.204926</td>\n",
       "      <td>146.357416</td>\n",
       "      <td>-4.464140</td>\n",
       "      <td>0.0</td>\n",
       "      <td>0.0</td>\n",
       "      <td>10.0</td>\n",
       "      <td>195.695076</td>\n",
       "      <td>D10</td>\n",
       "      <td>1</td>\n",
       "      <td>DRIF</td>\n",
       "      <td>?</td>\n",
       "    </tr>\n",
       "  </tbody>\n",
       "</table>\n",
       "</div>"
      ],
      "text/plain": [
       "        s         betax       alphax      psix      etax     etaxp  xAperture  \\\n",
       "250  0.10  11972.797566  3342.303138 -7.790154  0.024029 -0.005234       10.0   \n",
       "251  0.05  12309.360457  3388.954688 -7.790158  0.024291 -0.005234       10.0   \n",
       "252  0.00  12650.588504  3435.606237 -7.790162  0.024553 -0.005234       10.0   \n",
       "\n",
       "            betay      alphay      psiy  etay  etayp  yAperture   pCentral0  \\\n",
       "250  10838.953153  146.160313 -4.464131   0.0    0.0       10.0  195.695076   \n",
       "251  10853.574112  146.258865 -4.464136   0.0    0.0       10.0  195.695076   \n",
       "252  10868.204926  146.357416 -4.464140   0.0    0.0       10.0  195.695076   \n",
       "\n",
       "    ElementName  ElementOccurence ElementType ChamberShape  \n",
       "250         D10                 3        DRIF            ?  \n",
       "251         D10                 2        DRIF            ?  \n",
       "252         D10                 1        DRIF            ?  "
      ]
     },
     "execution_count": 13,
     "metadata": {},
     "output_type": "execute_result"
    }
   ],
   "source": [
    "dfback = sdds2df('results/twiss_backwards.twi')\n",
    "dfback.tail(3)"
   ]
  },
  {
   "cell_type": "code",
   "execution_count": 14,
   "metadata": {},
   "outputs": [
    {
     "data": {
      "image/svg+xml": [
       "<svg class=\"main-svg\" xmlns=\"http://www.w3.org/2000/svg\" xmlns:xlink=\"http://www.w3.org/1999/xlink\" width=\"700\" height=\"750\" style=\"\" viewBox=\"0 0 700 750\"><rect x=\"0\" y=\"0\" width=\"700\" height=\"750\" style=\"fill: rgb(255, 255, 255); fill-opacity: 1;\"/><defs id=\"defs-e51951\"><g class=\"clips\"><clipPath id=\"clipe51951xyplot\" class=\"plotclip\"><rect width=\"484\" height=\"205.2\"/></clipPath><clipPath id=\"clipe51951xy2plot\" class=\"plotclip\"><rect width=\"484\" height=\"205.20000000000002\"/></clipPath><clipPath id=\"clipe51951xy3plot\" class=\"plotclip\"><rect width=\"484\" height=\"45.60000000000001\"/></clipPath><clipPath class=\"axesclip\" id=\"clipe51951x\"><rect x=\"80\" y=\"0\" width=\"484\" height=\"750\"/></clipPath><clipPath class=\"axesclip\" id=\"clipe51951y\"><rect x=\"0\" y=\"100\" width=\"700\" height=\"205.2\"/></clipPath><clipPath class=\"axesclip\" id=\"clipe51951xy\"><rect x=\"80\" y=\"100\" width=\"484\" height=\"205.2\"/></clipPath><clipPath class=\"axesclip\" id=\"clipe51951y2\"><rect x=\"0\" y=\"362.2\" width=\"700\" height=\"205.20000000000002\"/></clipPath><clipPath class=\"axesclip\" id=\"clipe51951xy2\"><rect x=\"80\" y=\"362.2\" width=\"484\" height=\"205.20000000000002\"/></clipPath><clipPath class=\"axesclip\" id=\"clipe51951y3\"><rect x=\"0\" y=\"624.4\" width=\"700\" height=\"45.60000000000001\"/></clipPath><clipPath class=\"axesclip\" id=\"clipe51951xy3\"><rect x=\"80\" y=\"624.4\" width=\"484\" height=\"45.60000000000001\"/></clipPath></g><g class=\"gradients\"/><g class=\"patterns\"/></defs><g class=\"bglayer\"/><g class=\"layer-below\"><g class=\"imagelayer\"/><g class=\"shapelayer\"/></g><g class=\"cartesianlayer\"><g class=\"subplot xy\"><g class=\"layer-subplot\"><g class=\"shapelayer\"/><g class=\"imagelayer\"/></g><g class=\"minor-gridlayer\"><g class=\"x\"/><g class=\"y\"/></g><g class=\"gridlayer\"><g class=\"x\"><path class=\"xgrid crisp\" transform=\"translate(156.82999999999998,0)\" d=\"M0,100v205.2\" style=\"stroke: rgb(232, 232, 232); stroke-opacity: 1; stroke-width: 1px;\"/><path class=\"xgrid crisp\" transform=\"translate(233.65,0)\" d=\"M0,100v205.2\" style=\"stroke: rgb(232, 232, 232); stroke-opacity: 1; stroke-width: 1px;\"/><path class=\"xgrid crisp\" transform=\"translate(310.48,0)\" d=\"M0,100v205.2\" style=\"stroke: rgb(232, 232, 232); stroke-opacity: 1; stroke-width: 1px;\"/><path class=\"xgrid crisp\" transform=\"translate(387.3,0)\" d=\"M0,100v205.2\" style=\"stroke: rgb(232, 232, 232); stroke-opacity: 1; stroke-width: 1px;\"/><path class=\"xgrid crisp\" transform=\"translate(464.13,0)\" d=\"M0,100v205.2\" style=\"stroke: rgb(232, 232, 232); stroke-opacity: 1; stroke-width: 1px;\"/><path class=\"xgrid crisp\" transform=\"translate(540.95,0)\" d=\"M0,100v205.2\" style=\"stroke: rgb(232, 232, 232); stroke-opacity: 1; stroke-width: 1px;\"/></g><g class=\"y\"><path class=\"ygrid crisp\" transform=\"translate(0,246.57)\" d=\"M80,0h484\" style=\"stroke: rgb(232, 232, 232); stroke-opacity: 1; stroke-width: 1px;\"/><path class=\"ygrid crisp\" transform=\"translate(0,187.94)\" d=\"M80,0h484\" style=\"stroke: rgb(232, 232, 232); stroke-opacity: 1; stroke-width: 1px;\"/><path class=\"ygrid crisp\" transform=\"translate(0,129.31)\" d=\"M80,0h484\" style=\"stroke: rgb(232, 232, 232); stroke-opacity: 1; stroke-width: 1px;\"/></g></g><g class=\"zerolinelayer\"/><g class=\"layer-between\"><g class=\"shapelayer\"/><g class=\"imagelayer\"/></g><path class=\"xlines-below\"/><path class=\"ylines-below\"/><g class=\"overlines-below\"/><g class=\"xaxislayer-below\"/><g class=\"yaxislayer-below\"/><g class=\"overaxes-below\"/><g class=\"overplot\"><g class=\"xy\" transform=\"translate(80,100)\" clip-path=\"url(#clipe51951xyplot)\"><g class=\"scatterlayer mlayer\"><g class=\"trace scatter traceb78b5544-707a-4178-ba33-ee4041c26445\" style=\"stroke-miterlimit: 2; opacity: 1;\"><g class=\"fills\"/><g class=\"errorbars\"/><g class=\"lines\"><path class=\"js-line\" d=\"M0,117.26L38.41,117.16L40.33,116.49L42.25,114.47L44.17,111.05L49.94,94.33L51.86,88.18L59.54,63.7L61.46,62.13L63.38,64.12L65.3,69.57L76.83,108.85L78.75,114.17L82.59,121.12L84.51,122.93L119.08,146.28L121,147.84L155.57,176.55L157.49,177.89L170.94,186.35L172.86,187.42L176.7,190.72L178.62,193.05L184.38,200.08L186.3,201.79L190.14,204.13L192.06,204.78L195.9,204.99L197.83,204.57L201.67,202.66L203.59,201.17L207.43,197.12L209.35,194.57L215.11,184.77L217.03,180.79L222.79,166.38L224.71,160.47L230.48,139.11L232.4,131.02L240.08,93.97L242,83.53L249.68,37.12L251.6,24.34L266.97,-88.95L268.89,-88.28L270.81,-76.22L284.25,83.77L286.17,101.68L291.94,146.85L293.86,159.04L297.7,179.15L299.62,187.06L303.46,198.59L305.38,202.21L307.3,204.41L309.22,205.17L311.14,204.5L313.06,202.41L316.9,193.96L318.83,187.61L322.67,170.75L324.59,160.27L330.35,120.85L332.27,105.14L338.03,50.71L339.95,30.25L366.84,-443.3L368.76,-536.26L394.7009789454424,-4104L484,-4104\" style=\"vector-effect: none; fill: none; stroke: rgb(255, 0, 0); stroke-opacity: 1; stroke-width: 3px; opacity: 1;\"/></g><g class=\"points\"/><g class=\"text\"/></g><g class=\"trace scatter trace7133f32e-12f5-41ca-9603-cd409f162d1b\" style=\"stroke-miterlimit: 2; opacity: 1;\"><g class=\"fills\"/><g class=\"errorbars\"/><g class=\"lines\"><path class=\"js-line\" d=\"M0,117.26L40.33,117.81L42.25,119.75L46.1,127.27L48.02,132.05L57.62,153.69L59.54,156.95L61.46,158.93L63.38,159.72L67.22,158.44L69.14,157.5L78.75,152.98L80.67,152.97L84.51,154.87L86.43,156.43L103.71,169.36L105.63,170.67L122.92,181.29L124.84,182.35L140.21,189.85L142.13,190.67L157.49,196.34L159.41,196.93L172.86,200.37L174.78,200.66L180.54,200.42L182.46,200.03L197.83,196.11L199.75,195.51L215.11,189.89L217.03,189.08L228.56,184.9L230.48,184.35L257.37,175.6L259.29,174.91L266.97,171.38L268.89,168.59L270.81,164.18L272.73,157.8L278.49,132.54L280.41,122.92L288.1,78.49L290.02,65.89L311.14,-112.19L313.06,-131.96L363,-843.69L370.68,-709.23L372.6,-652.31L386.05,-364.49L395.65,-396.99L397.57,-404.95L401.41,-413.89L403.33,-400.66L405.25,-373.88L422.54,-36.37L424.46,-7.39L430.22,68.42L432.14,90L437.9,143.61L439.83,157.78L443.67,180.57L445.59,189.19L449.43,200.87L451.35,203.94L453.27,205.15L455.19,204.52L457.11,202.03L459.03,197.7L462.87,183.48L464.79,173.59L468.63,148.26L470.56,132.83L476.32,75.41L478.24,52.57L484,-27.06\" style=\"vector-effect: none; fill: none; stroke: rgb(0, 0, 255); stroke-opacity: 1; stroke-width: 3px; opacity: 1;\"/></g><g class=\"points\"/><g class=\"text\"/></g><g class=\"trace scatter tracecc054a3d-fa72-416e-a1b5-ab53292f2c1e\" style=\"stroke-miterlimit: 2; opacity: 0.4;\"><g class=\"fills\"/><g class=\"errorbars\"/><g class=\"lines\"><path class=\"js-line\" d=\"M484,204.61L476.32,204.03L474.4,203.7L464.79,200.95L462.87,200.18L453.27,195.23L451.35,194.02L441.75,186.88L439.83,185.23L430.22,175.89L428.3,173.8L416.78,159.73L414.86,157.12L407.17,145.99L405.25,142.31L401.41,129.89L399.49,120.56L391.81,73.1L389.89,59.59L386.05,32.54L384.13,23.25L382.21,17.98L380.29,16.98L368.76,23.87L366.84,22.88L364.92,17.58L363,7.73L339.95,-244.67L338.03,-270L270.81,-1173.51L265.05,-881.88L263.13,-728.47L251.6,-52.94L249.68,18.82L245.84,127.37L243.92,164.14L242,189.26L240.08,202.71L238.16,204.5L236.24,194.62L234.32,173.08L232.4,139.88L228.56,38.49L226.63,-29.7L193.4982188331634,-4104L167.43838396331537,-4104L161.33,-2741.58L159.41,-2366.11L142.13,-137.89L140.21,-18.2L136.37,144.45L134.44,187.41L132.52,204.79L130.6,196.58L128.68,162.79L126.76,103.5L122.92,-91.12L121,-226.07L108.19806984579446,-4104L0,-4104\" style=\"vector-effect: none; fill: none; stroke: rgb(255, 0, 0); stroke-opacity: 1; stroke-dasharray: 9px, 9px; stroke-width: 2px; opacity: 1;\"/></g><g class=\"points\"/><g class=\"text\"/></g><g class=\"trace scatter tracec82d516f-0b91-4c18-a21d-2bb1ca209123\" style=\"stroke-miterlimit: 2; opacity: 0.4;\"><g class=\"fills\"/><g class=\"errorbars\"/><g class=\"lines\"><path class=\"js-line\" d=\"M484,204.61L476.32,204.03L474.4,203.7L464.79,200.95L462.87,200.18L453.27,195.23L451.35,194.02L441.75,186.88L439.83,185.23L430.22,175.89L428.3,173.8L416.78,159.73L414.86,157.12L405.25,143.72L403.33,142.84L401.41,143.39L399.49,145.34L387.97,160.05L386.05,161.8L384.13,162.52L382.21,162.26L378.37,159.2L376.44,157.37L366.84,148.32L364.92,148.29L363,149.58L361.08,152.13L351.48,166.7L349.56,169.33L339.95,181.07L338.03,183.13L328.43,192.04L326.51,193.54L318.83,198.6L316.9,199.63L309.22,202.8L307.3,203.36L299.62,204.65L297.7,204.74L290.02,204.14L288.1,203.76L280.41,201.28L278.49,200.42L270.81,195.89L268.89,193.96L265.05,187.9L263.13,183.67L257.37,168.22L255.44,162.14L249.68,141.13L247.76,133.2L240.08,96.84L238.16,86.59L230.48,40.97L228.56,28.4L176.7,-354.8L174.78,-426.3L154.1961943802123,-4104L0,-4104\" style=\"vector-effect: none; fill: none; stroke: rgb(0, 0, 255); stroke-opacity: 1; stroke-dasharray: 9px, 9px; stroke-width: 2px; opacity: 1;\"/></g><g class=\"points\"/><g class=\"text\"/></g></g></g></g><path class=\"xlines-above crisp\" d=\"M79,305.7H564\" style=\"fill: none; stroke-width: 1px; stroke: rgb(36, 36, 36); stroke-opacity: 1;\"/><path class=\"ylines-above crisp\" d=\"M79.5,100V305.2\" style=\"fill: none; stroke-width: 1px; stroke: rgb(36, 36, 36); stroke-opacity: 1;\"/><g class=\"overlines-above\"/><g class=\"xaxislayer-above\"><path class=\"xtick ticks crisp\" d=\"M0,306.2v5\" transform=\"translate(80,0)\" style=\"stroke: rgb(68, 68, 68); stroke-opacity: 1; stroke-width: 1px;\"/><path class=\"xtick ticks crisp\" d=\"M0,306.2v5\" transform=\"translate(156.82999999999998,0)\" style=\"stroke: rgb(68, 68, 68); stroke-opacity: 1; stroke-width: 1px;\"/><path class=\"xtick ticks crisp\" d=\"M0,306.2v5\" transform=\"translate(233.65,0)\" style=\"stroke: rgb(68, 68, 68); stroke-opacity: 1; stroke-width: 1px;\"/><path class=\"xtick ticks crisp\" d=\"M0,306.2v5\" transform=\"translate(310.48,0)\" style=\"stroke: rgb(68, 68, 68); stroke-opacity: 1; stroke-width: 1px;\"/><path class=\"xtick ticks crisp\" d=\"M0,306.2v5\" transform=\"translate(387.3,0)\" style=\"stroke: rgb(68, 68, 68); stroke-opacity: 1; stroke-width: 1px;\"/><path class=\"xtick ticks crisp\" d=\"M0,306.2v5\" transform=\"translate(464.13,0)\" style=\"stroke: rgb(68, 68, 68); stroke-opacity: 1; stroke-width: 1px;\"/><path class=\"xtick ticks crisp\" d=\"M0,306.2v5\" transform=\"translate(540.95,0)\" style=\"stroke: rgb(68, 68, 68); stroke-opacity: 1; stroke-width: 1px;\"/><g class=\"xtick\"><text text-anchor=\"middle\" x=\"0\" y=\"325.59999999999997\" transform=\"translate(80,0)\" style=\"font-family: 'Open Sans', verdana, arial, sans-serif; font-size: 12px; fill: rgb(36, 36, 36); fill-opacity: 1; white-space: pre; opacity: 1;\">0</text></g><g class=\"xtick\"><text text-anchor=\"middle\" x=\"0\" y=\"325.59999999999997\" style=\"font-family: 'Open Sans', verdana, arial, sans-serif; font-size: 12px; fill: rgb(36, 36, 36); fill-opacity: 1; white-space: pre; opacity: 1;\" transform=\"translate(156.82999999999998,0)\">2</text></g><g class=\"xtick\"><text text-anchor=\"middle\" x=\"0\" y=\"325.59999999999997\" style=\"font-family: 'Open Sans', verdana, arial, sans-serif; font-size: 12px; fill: rgb(36, 36, 36); fill-opacity: 1; white-space: pre; opacity: 1;\" transform=\"translate(233.65,0)\">4</text></g><g class=\"xtick\"><text text-anchor=\"middle\" x=\"0\" y=\"325.59999999999997\" style=\"font-family: 'Open Sans', verdana, arial, sans-serif; font-size: 12px; fill: rgb(36, 36, 36); fill-opacity: 1; white-space: pre; opacity: 1;\" transform=\"translate(310.48,0)\">6</text></g><g class=\"xtick\"><text text-anchor=\"middle\" x=\"0\" y=\"325.59999999999997\" style=\"font-family: 'Open Sans', verdana, arial, sans-serif; font-size: 12px; fill: rgb(36, 36, 36); fill-opacity: 1; white-space: pre; opacity: 1;\" transform=\"translate(387.3,0)\">8</text></g><g class=\"xtick\"><text text-anchor=\"middle\" x=\"0\" y=\"325.59999999999997\" style=\"font-family: 'Open Sans', verdana, arial, sans-serif; font-size: 12px; fill: rgb(36, 36, 36); fill-opacity: 1; white-space: pre; opacity: 1;\" transform=\"translate(464.13,0)\">10</text></g><g class=\"xtick\"><text text-anchor=\"middle\" x=\"0\" y=\"325.59999999999997\" style=\"font-family: 'Open Sans', verdana, arial, sans-serif; font-size: 12px; fill: rgb(36, 36, 36); fill-opacity: 1; white-space: pre; opacity: 1;\" transform=\"translate(540.95,0)\">12</text></g></g><g class=\"yaxislayer-above\"><path class=\"ytick ticks crisp\" d=\"M79,0h-5\" transform=\"translate(0,305.2)\" style=\"stroke: rgb(68, 68, 68); stroke-opacity: 1; stroke-width: 1px;\"/><path class=\"ytick ticks crisp\" d=\"M79,0h-5\" transform=\"translate(0,246.57)\" style=\"stroke: rgb(68, 68, 68); stroke-opacity: 1; stroke-width: 1px;\"/><path class=\"ytick ticks crisp\" d=\"M79,0h-5\" transform=\"translate(0,187.94)\" style=\"stroke: rgb(68, 68, 68); stroke-opacity: 1; stroke-width: 1px;\"/><path class=\"ytick ticks crisp\" d=\"M79,0h-5\" transform=\"translate(0,129.31)\" style=\"stroke: rgb(68, 68, 68); stroke-opacity: 1; stroke-width: 1px;\"/><g class=\"ytick\"><text text-anchor=\"end\" x=\"71.6\" y=\"4.199999999999999\" transform=\"translate(0,305.2)\" style=\"font-family: 'Open Sans', verdana, arial, sans-serif; font-size: 12px; fill: rgb(36, 36, 36); fill-opacity: 1; white-space: pre; opacity: 1;\">0</text></g><g class=\"ytick\"><text text-anchor=\"end\" x=\"71.6\" y=\"4.199999999999999\" style=\"font-family: 'Open Sans', verdana, arial, sans-serif; font-size: 12px; fill: rgb(36, 36, 36); fill-opacity: 1; white-space: pre; opacity: 1;\" transform=\"translate(0,246.57)\">20</text></g><g class=\"ytick\"><text text-anchor=\"end\" x=\"71.6\" y=\"4.199999999999999\" style=\"font-family: 'Open Sans', verdana, arial, sans-serif; font-size: 12px; fill: rgb(36, 36, 36); fill-opacity: 1; white-space: pre; opacity: 1;\" transform=\"translate(0,187.94)\">40</text></g><g class=\"ytick\"><text text-anchor=\"end\" x=\"71.6\" y=\"4.199999999999999\" style=\"font-family: 'Open Sans', verdana, arial, sans-serif; font-size: 12px; fill: rgb(36, 36, 36); fill-opacity: 1; white-space: pre; opacity: 1;\" transform=\"translate(0,129.31)\">60</text></g></g><g class=\"overaxes-above\"/></g><g class=\"subplot xy2\"><g class=\"layer-subplot\"><g class=\"shapelayer\"/><g class=\"imagelayer\"/></g><g class=\"minor-gridlayer\"><g class=\"x\"/><g class=\"y2\"/></g><g class=\"gridlayer\"><g class=\"x\"><path class=\"xgrid crisp\" transform=\"translate(156.82999999999998,0)\" d=\"M0,362.2v205.20000000000002\" style=\"stroke: rgb(232, 232, 232); stroke-opacity: 1; stroke-width: 1px;\"/><path class=\"xgrid crisp\" transform=\"translate(233.65,0)\" d=\"M0,362.2v205.20000000000002\" style=\"stroke: rgb(232, 232, 232); stroke-opacity: 1; stroke-width: 1px;\"/><path class=\"xgrid crisp\" transform=\"translate(310.48,0)\" d=\"M0,362.2v205.20000000000002\" style=\"stroke: rgb(232, 232, 232); stroke-opacity: 1; stroke-width: 1px;\"/><path class=\"xgrid crisp\" transform=\"translate(387.3,0)\" d=\"M0,362.2v205.20000000000002\" style=\"stroke: rgb(232, 232, 232); stroke-opacity: 1; stroke-width: 1px;\"/><path class=\"xgrid crisp\" transform=\"translate(464.13,0)\" d=\"M0,362.2v205.20000000000002\" style=\"stroke: rgb(232, 232, 232); stroke-opacity: 1; stroke-width: 1px;\"/><path class=\"xgrid crisp\" transform=\"translate(540.95,0)\" d=\"M0,362.2v205.20000000000002\" style=\"stroke: rgb(232, 232, 232); stroke-opacity: 1; stroke-width: 1px;\"/></g><g class=\"y2\"><path class=\"y2grid crisp\" transform=\"translate(0,516.1)\" d=\"M80,0h484\" style=\"stroke: rgb(232, 232, 232); stroke-opacity: 1; stroke-width: 1px;\"/><path class=\"y2grid crisp\" transform=\"translate(0,464.79999999999995)\" d=\"M80,0h484\" style=\"stroke: rgb(232, 232, 232); stroke-opacity: 1; stroke-width: 1px;\"/><path class=\"y2grid crisp\" transform=\"translate(0,413.5)\" d=\"M80,0h484\" style=\"stroke: rgb(232, 232, 232); stroke-opacity: 1; stroke-width: 1px;\"/></g></g><g class=\"zerolinelayer\"/><g class=\"layer-between\"><g class=\"shapelayer\"/><g class=\"imagelayer\"/></g><path class=\"xlines-below\"/><path class=\"ylines-below\"/><g class=\"overlines-below\"/><g class=\"xaxislayer-below\"/><g class=\"yaxislayer-below\"/><g class=\"overaxes-below\"/><g class=\"overplot\"><g class=\"xy2\" transform=\"translate(80,362.2)\" clip-path=\"url(#clipe51951xy2plot)\"><g class=\"scatterlayer mlayer\"><g class=\"trace scatter traceccfe770a-3d4c-4047-bb23-685c15a0f299\" style=\"stroke-miterlimit: 2; opacity: 1;\"><g class=\"fills\"/><g class=\"errorbars\"/><g class=\"lines\"><path class=\"js-line\" d=\"M0,102.6L109.48,102.1L111.4,101.7L119.08,99.02L121,98.07L128.68,93.18L130.6,91.69L144.05,79.59L145.97,77.83L174.78,51.93L176.7,51.66L178.62,52.38L180.54,54.09L266.97,152.2L268.89,152.94L270.81,152.69L272.73,151.46L318.83,111.15L320.75,109.92L328.43,106.08L330.35,105.39L338.03,103.76L339.95,103.63L366.84,104.2L368.76,104.3L395.65,105.16L397.57,105.15L414.86,105.83L416.78,105.94L484,109.99\" style=\"vector-effect: none; fill: none; stroke: rgb(255, 0, 0); stroke-opacity: 1; stroke-width: 3px; opacity: 1;\"/></g><g class=\"points\"/><g class=\"text\"/></g><g class=\"trace scatter trace2426c79e-b05a-4531-b7f0-001e6aca7c82\" style=\"stroke-miterlimit: 2; opacity: 1;\"><g class=\"fills\"/><g class=\"errorbars\"/><g class=\"lines\"><path class=\"js-line\" d=\"M0,102.6L484,102.6\" style=\"vector-effect: none; fill: none; stroke: rgb(0, 0, 255); stroke-opacity: 1; stroke-width: 3px; opacity: 1;\"/></g><g class=\"points\"/><g class=\"text\"/></g><g class=\"trace scatter tracea55b8b22-51d9-4cec-b64a-ed088a51ca8e\" style=\"stroke-miterlimit: 2; opacity: 0.4;\"><g class=\"fills\"/><g class=\"errorbars\"/><g class=\"lines\"><path class=\"js-line\" d=\"M484,102.6L336.11,103.1L334.19,103.5L326.51,106.18L324.59,107.13L316.9,112.02L314.98,113.51L301.54,125.61L299.62,127.37L270.81,153.27L268.89,153.54L266.97,152.82L265.05,151.11L178.62,53L176.7,52.26L174.78,52.51L172.86,53.74L126.76,94.05L124.84,95.28L117.16,99.12L115.24,99.81L107.56,101.44L105.63,101.57L78.75,101.04L76.83,100.96L48.02,100.58L46.1,100.61L11.52,100.24L9.6,100.22L0,100.08\" style=\"vector-effect: none; fill: none; stroke: rgb(255, 0, 0); stroke-opacity: 1; stroke-dasharray: 9px, 9px; stroke-width: 2px; opacity: 1;\"/></g><g class=\"points\"/><g class=\"text\"/></g><g class=\"trace scatter trace6ad45f40-3746-4eb6-bcb7-1e77d42b57f1\" style=\"stroke-miterlimit: 2; opacity: 0.4;\"><g class=\"fills\"/><g class=\"errorbars\"/><g class=\"lines\"><path class=\"js-line\" d=\"M484,102.6L0,102.6\" style=\"vector-effect: none; fill: none; stroke: rgb(0, 0, 255); stroke-opacity: 1; stroke-dasharray: 9px, 9px; stroke-width: 2px; opacity: 1;\"/></g><g class=\"points\"/><g class=\"text\"/></g></g></g></g><path class=\"xlines-above crisp\" d=\"M0,0\" style=\"fill: none;\"/><path class=\"ylines-above crisp\" d=\"M79.5,362.2V567.4\" style=\"fill: none; stroke-width: 1px; stroke: rgb(36, 36, 36); stroke-opacity: 1;\"/><g class=\"overlines-above\"/><g class=\"xaxislayer-above\"/><g class=\"yaxislayer-above\"><path class=\"y2tick ticks crisp\" d=\"M79,0h-5\" transform=\"translate(0,567.4)\" style=\"stroke: rgb(68, 68, 68); stroke-opacity: 1; stroke-width: 1px;\"/><path class=\"y2tick ticks crisp\" d=\"M79,0h-5\" transform=\"translate(0,516.1)\" style=\"stroke: rgb(68, 68, 68); stroke-opacity: 1; stroke-width: 1px;\"/><path class=\"y2tick ticks crisp\" d=\"M79,0h-5\" transform=\"translate(0,464.79999999999995)\" style=\"stroke: rgb(68, 68, 68); stroke-opacity: 1; stroke-width: 1px;\"/><path class=\"y2tick ticks crisp\" d=\"M79,0h-5\" transform=\"translate(0,413.5)\" style=\"stroke: rgb(68, 68, 68); stroke-opacity: 1; stroke-width: 1px;\"/><path class=\"y2tick ticks crisp\" d=\"M79,0h-5\" transform=\"translate(0,362.2)\" style=\"stroke: rgb(68, 68, 68); stroke-opacity: 1; stroke-width: 1px;\"/><g class=\"y2tick\"><text text-anchor=\"end\" x=\"71.6\" y=\"4.199999999999999\" transform=\"translate(0,567.4)\" style=\"font-family: 'Open Sans', verdana, arial, sans-serif; font-size: 12px; fill: rgb(36, 36, 36); fill-opacity: 1; white-space: pre; opacity: 1;\">−1</text></g><g class=\"y2tick\"><text text-anchor=\"end\" x=\"71.6\" y=\"4.199999999999999\" style=\"font-family: 'Open Sans', verdana, arial, sans-serif; font-size: 12px; fill: rgb(36, 36, 36); fill-opacity: 1; white-space: pre; opacity: 1;\" transform=\"translate(0,516.1)\">−0.5</text></g><g class=\"y2tick\"><text text-anchor=\"end\" x=\"71.6\" y=\"4.199999999999999\" style=\"font-family: 'Open Sans', verdana, arial, sans-serif; font-size: 12px; fill: rgb(36, 36, 36); fill-opacity: 1; white-space: pre; opacity: 1;\" transform=\"translate(0,464.79999999999995)\">0</text></g><g class=\"y2tick\"><text text-anchor=\"end\" x=\"71.6\" y=\"4.199999999999999\" style=\"font-family: 'Open Sans', verdana, arial, sans-serif; font-size: 12px; fill: rgb(36, 36, 36); fill-opacity: 1; white-space: pre; opacity: 1;\" transform=\"translate(0,413.5)\">0.5</text></g><g class=\"y2tick\"><text text-anchor=\"end\" x=\"71.6\" y=\"4.199999999999999\" style=\"font-family: 'Open Sans', verdana, arial, sans-serif; font-size: 12px; fill: rgb(36, 36, 36); fill-opacity: 1; white-space: pre; opacity: 1;\" transform=\"translate(0,362.2)\">1</text></g></g><g class=\"overaxes-above\"/></g><g class=\"subplot xy3\"><g class=\"layer-subplot\"><g class=\"shapelayer\"/><g class=\"imagelayer\"/></g><g class=\"minor-gridlayer\"><g class=\"x\"/><g class=\"y3\"/></g><g class=\"gridlayer\"><g class=\"x\"><path class=\"xgrid crisp\" transform=\"translate(156.82999999999998,0)\" d=\"M0,624.4v45.60000000000001\" style=\"stroke: rgb(232, 232, 232); stroke-opacity: 1; stroke-width: 1px;\"/><path class=\"xgrid crisp\" transform=\"translate(233.65,0)\" d=\"M0,624.4v45.60000000000001\" style=\"stroke: rgb(232, 232, 232); stroke-opacity: 1; stroke-width: 1px;\"/><path class=\"xgrid crisp\" transform=\"translate(310.48,0)\" d=\"M0,624.4v45.60000000000001\" style=\"stroke: rgb(232, 232, 232); stroke-opacity: 1; stroke-width: 1px;\"/><path class=\"xgrid crisp\" transform=\"translate(387.3,0)\" d=\"M0,624.4v45.60000000000001\" style=\"stroke: rgb(232, 232, 232); stroke-opacity: 1; stroke-width: 1px;\"/><path class=\"xgrid crisp\" transform=\"translate(464.13,0)\" d=\"M0,624.4v45.60000000000001\" style=\"stroke: rgb(232, 232, 232); stroke-opacity: 1; stroke-width: 1px;\"/><path class=\"xgrid crisp\" transform=\"translate(540.95,0)\" d=\"M0,624.4v45.60000000000001\" style=\"stroke: rgb(232, 232, 232); stroke-opacity: 1; stroke-width: 1px;\"/></g><g class=\"y3\"/></g><g class=\"zerolinelayer\"/><g class=\"layer-between\"><g class=\"shapelayer\"/><g class=\"imagelayer\"/></g><path class=\"xlines-below\"/><path class=\"ylines-below\"/><g class=\"overlines-below\"/><g class=\"xaxislayer-below\"/><g class=\"yaxislayer-below\"/><g class=\"overaxes-below\"/><g class=\"overplot\"><g class=\"xy3\" transform=\"translate(80,624.4)\" clip-path=\"url(#clipe51951xy3plot)\"><g class=\"scatterlayer mlayer\"><g class=\"trace scatter trace99d4ac4c-6b21-48b3-a232-f4efc910d151\" style=\"stroke-miterlimit: 2; opacity: 1;\"><g class=\"fills\"/><g class=\"errorbars\"/><g class=\"lines\"><path class=\"js-line\" d=\"M0,22.8L38.41,22.8L38.41,22.8L38.41,43.32L40.33,43.32L40.33,22.8L38.41,22.8L40.33,22.8L40.33,43.32L42.25,43.32L42.25,22.8L40.33,22.8L42.25,22.8L42.25,43.32L44.17,43.32L44.17,22.8L42.25,22.8L44.17,22.8L44.17,43.32L46.1,43.32L46.1,22.8L44.17,22.8L57.62,22.8L57.62,22.8L57.62,2.28L59.54,2.28L59.54,22.8L57.62,22.8L59.54,22.8L59.54,2.28L61.46,2.28L61.46,22.8L59.54,22.8L61.46,22.8L61.46,2.28L63.38,2.28L63.38,22.8L61.46,22.8L63.38,22.8L63.38,2.28L65.3,2.28L65.3,22.8L63.38,22.8L76.83,22.8L76.83,22.8L76.83,43.32L78.75,43.32L78.75,22.8L76.83,22.8L78.75,22.8L78.75,43.32L80.67,43.32L80.67,22.8L78.75,22.8L80.67,22.8L80.67,43.32L82.59,43.32L82.59,22.8L80.67,22.8L82.59,22.8L82.59,43.32L84.51,43.32L84.51,22.8L82.59,22.8L103.71,22.8L103.71,22.8L103.71,15.96L105.63,15.96L105.63,22.8L103.71,22.8L105.63,22.8L105.63,15.96L107.56,15.96L107.56,22.8L105.63,22.8L107.56,22.8L107.56,15.96L109.48,15.96L109.48,22.8L107.56,22.8L109.48,22.8L109.48,15.96L111.4,15.96L111.4,22.8L109.48,22.8L111.4,22.8L111.4,15.96L113.32,15.96L113.32,22.8L111.4,22.8L113.32,22.8L113.32,15.96L115.24,15.96L115.24,22.8L113.32,22.8L115.24,22.8L115.24,15.96L117.16,15.96L117.16,22.8L115.24,22.8L117.16,22.8L117.16,15.96L119.08,15.96L119.08,22.8L117.16,22.8L119.08,22.8L119.08,15.96L121,15.96L121,22.8L119.08,22.8L121,22.8L121,15.96L122.92,15.96L122.92,22.8L121,22.8L122.92,22.8L122.92,15.96L124.84,15.96L124.84,22.8L122.92,22.8L124.84,22.8L124.84,15.96L126.76,15.96L126.76,22.8L124.84,22.8L126.76,22.8L126.76,15.96L128.68,15.96L128.68,22.8L126.76,22.8L128.68,22.8L128.68,15.96L130.6,15.96L130.6,22.8L128.68,22.8L130.6,22.8L130.6,15.96L132.52,15.96L132.52,22.8L130.6,22.8L132.52,22.8L132.52,15.96L134.44,15.96L134.44,22.8L132.52,22.8L172.86,22.8L172.86,22.8L172.86,2.28L174.78,2.28L174.78,22.8L172.86,22.8L174.78,22.8L174.78,2.28L176.7,2.28L176.7,22.8L174.78,22.8L176.7,22.8L176.7,2.28L178.62,2.28L178.62,22.8L176.7,22.8L178.62,22.8L178.62,2.28L180.54,2.28L180.54,22.8L178.62,22.8L218.95,22.8L218.95,22.8L218.95,43.32L220.87,43.32L220.87,22.8L218.95,22.8L220.87,22.8L220.87,43.32L222.79,43.32L222.79,22.8L220.87,22.8L222.79,22.8L222.79,43.32L224.71,43.32L224.71,22.8L222.79,22.8L224.71,22.8L224.71,43.32L226.63,43.32L226.63,22.8L224.71,22.8L265.05,22.8L265.05,22.8L265.05,2.28L266.97,2.28L266.97,22.8L265.05,22.8L266.97,22.8L266.97,2.28L268.89,2.28L268.89,22.8L266.97,22.8L268.89,22.8L268.89,2.28L270.81,2.28L270.81,22.8L268.89,22.8L270.81,22.8L270.81,2.28L272.73,2.28L272.73,22.8L270.81,22.8L311.14,22.8L311.14,22.8L311.14,29.64L313.06,29.64L313.06,22.8L311.14,22.8L313.06,22.8L313.06,29.64L314.98,29.64L314.98,22.8L313.06,22.8L314.98,22.8L314.98,29.64L316.9,29.64L316.9,22.8L314.98,22.8L316.9,22.8L316.9,29.64L318.83,29.64L318.83,22.8L316.9,22.8L318.83,22.8L318.83,29.64L320.75,29.64L320.75,22.8L318.83,22.8L320.75,22.8L320.75,29.64L322.67,29.64L322.67,22.8L320.75,22.8L322.67,22.8L322.67,29.64L324.59,29.64L324.59,22.8L322.67,22.8L324.59,22.8L324.59,29.64L326.51,29.64L326.51,22.8L324.59,22.8L326.51,22.8L326.51,29.64L328.43,29.64L328.43,22.8L326.51,22.8L328.43,22.8L328.43,29.64L330.35,29.64L330.35,22.8L328.43,22.8L330.35,22.8L330.35,29.64L332.27,29.64L332.27,22.8L330.35,22.8L332.27,22.8L332.27,29.64L334.19,29.64L334.19,22.8L332.27,22.8L334.19,22.8L334.19,29.64L336.11,29.64L336.11,22.8L334.19,22.8L336.11,22.8L336.11,29.64L338.03,29.64L338.03,22.8L336.11,22.8L338.03,22.8L338.03,29.64L339.95,29.64L339.95,22.8L338.03,22.8L339.95,22.8L339.95,29.64L341.87,29.64L341.87,22.8L339.95,22.8L361.08,22.8L361.08,22.8L361.08,43.32L363,43.32L363,22.8L361.08,22.8L363,22.8L363,43.32L364.92,43.32L364.92,22.8L363,22.8L364.92,22.8L364.92,43.32L366.84,43.32L366.84,22.8L364.92,22.8L366.84,22.8L366.84,43.32L368.76,43.32L368.76,22.8L366.84,22.8L380.29,22.8L380.29,22.8L380.29,2.28L382.21,2.28L382.21,22.8L380.29,22.8L382.21,22.8L382.21,2.28L384.13,2.28L384.13,22.8L382.21,22.8L384.13,22.8L384.13,2.28L386.05,2.28L386.05,22.8L384.13,22.8L386.05,22.8L386.05,2.28L387.97,2.28L387.97,22.8L386.05,22.8L399.49,22.8L399.49,22.8L399.49,43.32L401.41,43.32L401.41,22.8L399.49,22.8L401.41,22.8L401.41,43.32L403.33,43.32L403.33,22.8L401.41,22.8L403.33,22.8L403.33,43.32L405.25,43.32L405.25,22.8L403.33,22.8L405.25,22.8L405.25,43.32L407.17,43.32L407.17,22.8L405.25,22.8L484,22.8\" style=\"vector-effect: none; fill: none; stroke: rgb(128, 128, 128); stroke-opacity: 1; stroke-width: 2px; opacity: 1;\"/></g><g class=\"points\"/><g class=\"text\"/></g></g></g></g><path class=\"xlines-above crisp\" d=\"M0,0\" style=\"fill: none;\"/><path class=\"ylines-above crisp\" d=\"M0,0\" style=\"fill: none;\"/><g class=\"overlines-above\"/><g class=\"xaxislayer-above\"/><g class=\"yaxislayer-above\"/><g class=\"overaxes-above\"/></g></g><g class=\"polarlayer\"/><g class=\"smithlayer\"/><g class=\"ternarylayer\"/><g class=\"geolayer\"/><g class=\"funnelarealayer\"/><g class=\"pielayer\"/><g class=\"iciclelayer\"/><g class=\"treemaplayer\"/><g class=\"sunburstlayer\"/><g class=\"glimages\"/><defs id=\"topdefs-e51951\"><g class=\"clips\"/><clipPath id=\"legende51951\"><rect width=\"114\" height=\"162\" x=\"0\" y=\"0\"/></clipPath></defs><g class=\"layer-above\"><g class=\"imagelayer\"/><g class=\"shapelayer\"/></g><g class=\"infolayer\"><g class=\"legend\" pointer-events=\"all\" transform=\"translate(573.6800000000001,100)\"><rect class=\"bg\" shape-rendering=\"crispEdges\" style=\"stroke: rgb(68, 68, 68); stroke-opacity: 1; fill: rgb(255, 255, 255); fill-opacity: 1; stroke-width: 0px;\" width=\"114\" height=\"162\" x=\"0\" y=\"0\"/><g class=\"scrollbox\" transform=\"\" clip-path=\"url(#legende51951)\"><g class=\"groups\"><g class=\"traces\" transform=\"translate(0,14.5)\" style=\"opacity: 1;\"><text class=\"legendtext\" text-anchor=\"start\" x=\"40\" y=\"4.680000000000001\" style=\"font-family: 'Open Sans', verdana, arial, sans-serif; font-size: 12px; fill: rgb(36, 36, 36); fill-opacity: 1; white-space: pre;\">beta_x</text><g class=\"layers\" style=\"opacity: 1;\"><g class=\"legendfill\"/><g class=\"legendlines\"><path class=\"js-line\" d=\"M5,0h30\" style=\"fill: none; stroke: rgb(255, 0, 0); stroke-opacity: 1; stroke-width: 3px;\"/></g><g class=\"legendsymbols\"><g class=\"legendpoints\"/></g></g><rect class=\"legendtoggle\" x=\"0\" y=\"-9.5\" width=\"108.046875\" height=\"19\" style=\"fill: rgb(0, 0, 0); fill-opacity: 0;\"/></g><g class=\"traces\" transform=\"translate(0,33.5)\" style=\"opacity: 1;\"><text class=\"legendtext\" text-anchor=\"start\" x=\"40\" y=\"4.680000000000001\" style=\"font-family: 'Open Sans', verdana, arial, sans-serif; font-size: 12px; fill: rgb(36, 36, 36); fill-opacity: 1; white-space: pre;\">beta_y</text><g class=\"layers\" style=\"opacity: 1;\"><g class=\"legendfill\"/><g class=\"legendlines\"><path class=\"js-line\" d=\"M5,0h30\" style=\"fill: none; stroke: rgb(0, 0, 255); stroke-opacity: 1; stroke-width: 3px;\"/></g><g class=\"legendsymbols\"><g class=\"legendpoints\"/></g></g><rect class=\"legendtoggle\" x=\"0\" y=\"-9.5\" width=\"108.046875\" height=\"19\" style=\"fill: rgb(0, 0, 0); fill-opacity: 0;\"/></g><g class=\"traces\" transform=\"translate(0,52.5)\" style=\"opacity: 1;\"><text class=\"legendtext\" text-anchor=\"start\" x=\"40\" y=\"4.680000000000001\" style=\"font-family: 'Open Sans', verdana, arial, sans-serif; font-size: 12px; fill: rgb(36, 36, 36); fill-opacity: 1; white-space: pre;\">back. beta_x</text><g class=\"layers\" style=\"opacity: 0.4;\"><g class=\"legendfill\"/><g class=\"legendlines\"><path class=\"js-line\" d=\"M5,0h30\" style=\"fill: none; stroke: rgb(255, 0, 0); stroke-opacity: 1; stroke-dasharray: 9px, 9px; stroke-width: 2px;\"/></g><g class=\"legendsymbols\"><g class=\"legendpoints\"/></g></g><rect class=\"legendtoggle\" x=\"0\" y=\"-9.5\" width=\"108.046875\" height=\"19\" style=\"fill: rgb(0, 0, 0); fill-opacity: 0;\"/></g><g class=\"traces\" transform=\"translate(0,71.5)\" style=\"opacity: 1;\"><text class=\"legendtext\" text-anchor=\"start\" x=\"40\" y=\"4.680000000000001\" style=\"font-family: 'Open Sans', verdana, arial, sans-serif; font-size: 12px; fill: rgb(36, 36, 36); fill-opacity: 1; white-space: pre;\">back. beta_y</text><g class=\"layers\" style=\"opacity: 0.4;\"><g class=\"legendfill\"/><g class=\"legendlines\"><path class=\"js-line\" d=\"M5,0h30\" style=\"fill: none; stroke: rgb(0, 0, 255); stroke-opacity: 1; stroke-dasharray: 9px, 9px; stroke-width: 2px;\"/></g><g class=\"legendsymbols\"><g class=\"legendpoints\"/></g></g><rect class=\"legendtoggle\" x=\"0\" y=\"-9.5\" width=\"108.046875\" height=\"19\" style=\"fill: rgb(0, 0, 0); fill-opacity: 0;\"/></g><g class=\"traces\" transform=\"translate(0,90.5)\" style=\"opacity: 1;\"><text class=\"legendtext\" text-anchor=\"start\" x=\"40\" y=\"4.680000000000001\" style=\"font-family: 'Open Sans', verdana, arial, sans-serif; font-size: 12px; fill: rgb(36, 36, 36); fill-opacity: 1; white-space: pre;\">D_x</text><g class=\"layers\" style=\"opacity: 1;\"><g class=\"legendfill\"/><g class=\"legendlines\"><path class=\"js-line\" d=\"M5,0h30\" style=\"fill: none; stroke: rgb(255, 0, 0); stroke-opacity: 1; stroke-width: 3px;\"/></g><g class=\"legendsymbols\"><g class=\"legendpoints\"/></g></g><rect class=\"legendtoggle\" x=\"0\" y=\"-9.5\" width=\"108.046875\" height=\"19\" style=\"fill: rgb(0, 0, 0); fill-opacity: 0;\"/></g><g class=\"traces\" transform=\"translate(0,109.5)\" style=\"opacity: 1;\"><text class=\"legendtext\" text-anchor=\"start\" x=\"40\" y=\"4.680000000000001\" style=\"font-family: 'Open Sans', verdana, arial, sans-serif; font-size: 12px; fill: rgb(36, 36, 36); fill-opacity: 1; white-space: pre;\">D_y</text><g class=\"layers\" style=\"opacity: 1;\"><g class=\"legendfill\"/><g class=\"legendlines\"><path class=\"js-line\" d=\"M5,0h30\" style=\"fill: none; stroke: rgb(0, 0, 255); stroke-opacity: 1; stroke-width: 3px;\"/></g><g class=\"legendsymbols\"><g class=\"legendpoints\"/></g></g><rect class=\"legendtoggle\" x=\"0\" y=\"-9.5\" width=\"108.046875\" height=\"19\" style=\"fill: rgb(0, 0, 0); fill-opacity: 0;\"/></g><g class=\"traces\" transform=\"translate(0,128.5)\" style=\"opacity: 1;\"><text class=\"legendtext\" text-anchor=\"start\" x=\"40\" y=\"4.680000000000001\" style=\"font-family: 'Open Sans', verdana, arial, sans-serif; font-size: 12px; fill: rgb(36, 36, 36); fill-opacity: 1; white-space: pre;\">back. D_x</text><g class=\"layers\" style=\"opacity: 0.4;\"><g class=\"legendfill\"/><g class=\"legendlines\"><path class=\"js-line\" d=\"M5,0h30\" style=\"fill: none; stroke: rgb(255, 0, 0); stroke-opacity: 1; stroke-dasharray: 9px, 9px; stroke-width: 2px;\"/></g><g class=\"legendsymbols\"><g class=\"legendpoints\"/></g></g><rect class=\"legendtoggle\" x=\"0\" y=\"-9.5\" width=\"108.046875\" height=\"19\" style=\"fill: rgb(0, 0, 0); fill-opacity: 0;\"/></g><g class=\"traces\" transform=\"translate(0,147.5)\" style=\"opacity: 1;\"><text class=\"legendtext\" text-anchor=\"start\" x=\"40\" y=\"4.680000000000001\" style=\"font-family: 'Open Sans', verdana, arial, sans-serif; font-size: 12px; fill: rgb(36, 36, 36); fill-opacity: 1; white-space: pre;\">back. D_y</text><g class=\"layers\" style=\"opacity: 0.4;\"><g class=\"legendfill\"/><g class=\"legendlines\"><path class=\"js-line\" d=\"M5,0h30\" style=\"fill: none; stroke: rgb(0, 0, 255); stroke-opacity: 1; stroke-dasharray: 9px, 9px; stroke-width: 2px;\"/></g><g class=\"legendsymbols\"><g class=\"legendpoints\"/></g></g><rect class=\"legendtoggle\" x=\"0\" y=\"-9.5\" width=\"108.046875\" height=\"19\" style=\"fill: rgb(0, 0, 0); fill-opacity: 0;\"/></g></g></g><rect class=\"scrollbar\" rx=\"20\" ry=\"3\" width=\"0\" height=\"0\" style=\"fill: rgb(128, 139, 164); fill-opacity: 1;\" x=\"0\" y=\"0\"/></g><g class=\"g-gtitle\"/><g class=\"g-xtitle\"><text class=\"xtitle\" x=\"322\" y=\"352.909375\" text-anchor=\"middle\" style=\"opacity: 1; font-family: 'Open Sans', verdana, arial, sans-serif; font-size: 14px; fill: rgb(36, 36, 36); fill-opacity: 1; white-space: pre;\">s (m)</text></g><g class=\"g-ytitle\"><text class=\"ytitle\" transform=\"rotate(-90,38.85,202.6)\" x=\"38.85\" y=\"202.6\" text-anchor=\"middle\" style=\"opacity: 1; font-family: 'Open Sans', verdana, arial, sans-serif; font-size: 14px; fill: rgb(36, 36, 36); fill-opacity: 1; white-space: pre;\">beta_x,y (m)</text></g><g class=\"g-y2title\"><text class=\"y2title\" transform=\"rotate(-90,28.50625,464.8)\" x=\"28.50625\" y=\"464.8\" text-anchor=\"middle\" style=\"opacity: 1; font-family: 'Open Sans', verdana, arial, sans-serif; font-size: 14px; fill: rgb(36, 36, 36); fill-opacity: 1; white-space: pre;\">D_x,y (m)</text></g></g></svg>"
      ]
     },
     "metadata": {},
     "output_type": "display_data"
    }
   ],
   "source": [
    "fig = make_subplots(rows=3, shared_xaxes=True, row_heights=[0.9/2, 0.9/2, 0.1])\n",
    "\n",
    "fw = go.FigureWidget(fig)\n",
    "\n",
    "fw.add_trace( go.Scatter(x=df.s, y=df.betax, mode='lines', line={'width':3, \"color\":\"red\"},  name='beta_x'), row=1, col=1 ) # 0\n",
    "fw.add_trace( go.Scatter(x=df.s, y=df.betay, mode='lines', line={'width':3, \"color\":\"blue\"}, name='beta_y'), row=1, col=1 ) # 1\n",
    "\n",
    "fw.add_trace( go.Scatter(x=dfback.s, y=dfback.betax, mode='lines',\n",
    "                         line={'width':2, \"color\":\"red\", \"dash\":\"dash\"},  opacity=0.4, name='back. beta_x'), row=1, col=1 ) # 2\n",
    "fw.add_trace( go.Scatter(x=dfback.s, y=dfback.betay, mode='lines',\n",
    "                         line={'width':2, \"color\":\"blue\", \"dash\":\"dash\"}, opacity=0.4, name='back. beta_y'), row=1, col=1 ) # 3\n",
    "\n",
    "fw.update_yaxes(title_text=\"beta_x,y (m)\", showgrid=True, range=(0,70), row=1, col=1)\n",
    "\n",
    "fw.add_trace( go.Scatter(x=df.s, y=df.etax,  mode='lines', line={'width':3, \"color\":\"red\"},  name='D_x'), row=2, col=1) # 4\n",
    "fw.add_trace( go.Scatter(x=df.s, y=df.etay,  mode='lines', line={'width':3, \"color\":\"blue\"}, name='D_y'), row=2, col=1) # 5\n",
    "\n",
    "fw.add_trace( go.Scatter(x=dfback.s, y=dfback.etax, mode='lines',\n",
    "                         line={'width':2, \"color\":\"red\", \"dash\":\"dash\"},  opacity=0.4, name='back. D_x'), row=2, col=1 ) # 6\n",
    "fw.add_trace( go.Scatter(x=dfback.s, y=dfback.etay, mode='lines',\n",
    "                         line={'width':2, \"color\":\"blue\", \"dash\":\"dash\"}, opacity=0.4, name=r'back. D_y'), row=2, col=1 ) # 7\n",
    "\n",
    "fw.update_yaxes(title_text=\"D_x,y (m)\", showgrid=True, range=(-1,+1), row=2, col=1)\n",
    "\n",
    "fw.update_xaxes(title_text=\"s (m)\", showticklabels=True, showgrid=True, row=1, col=1)\n",
    "#fw.update_xaxes(title_text=\"s (m)\", showticklabels=True, showgrid=True, row=2, col=1)\n",
    "\n",
    "fw.add_trace(mag, row=3, col=1)\n",
    "\n",
    "fw.update_traces(xaxis='x')\n",
    "fw.update_layout(xaxis3={'visible': False}, yaxis3={'visible': False}, hovermode='x unified')\n",
    "\n",
    "fw.update_layout(height=750)\n",
    "\n",
    "fw.show(renderer=\"svg\")"
   ]
  },
  {
   "cell_type": "markdown",
   "metadata": {},
   "source": [
    "We need a function to change an arbitrary beamline parameter."
   ]
  },
  {
   "cell_type": "markdown",
   "metadata": {},
   "source": [
    "Here is the structure of the beamline parameter file:"
   ]
  },
  {
   "cell_type": "code",
   "execution_count": 15,
   "metadata": {},
   "outputs": [
    {
     "data": {
      "text/html": [
       "<div>\n",
       "<style scoped>\n",
       "    .dataframe tbody tr th:only-of-type {\n",
       "        vertical-align: middle;\n",
       "    }\n",
       "\n",
       "    .dataframe tbody tr th {\n",
       "        vertical-align: top;\n",
       "    }\n",
       "\n",
       "    .dataframe thead th {\n",
       "        text-align: right;\n",
       "    }\n",
       "</style>\n",
       "<table border=\"1\" class=\"dataframe\">\n",
       "  <thead>\n",
       "    <tr style=\"text-align: right;\">\n",
       "      <th></th>\n",
       "      <th>ElementName</th>\n",
       "      <th>ElementParameter</th>\n",
       "      <th>ParameterValue</th>\n",
       "      <th>ParameterValueString</th>\n",
       "      <th>ElementType</th>\n",
       "      <th>ElementOccurence</th>\n",
       "      <th>ElementGroup</th>\n",
       "    </tr>\n",
       "  </thead>\n",
       "  <tbody>\n",
       "    <tr>\n",
       "      <th>369</th>\n",
       "      <td>Q60</td>\n",
       "      <td>I3M</td>\n",
       "      <td>0.0</td>\n",
       "      <td>NaN</td>\n",
       "      <td>QUAD</td>\n",
       "      <td>1</td>\n",
       "      <td>NaN</td>\n",
       "    </tr>\n",
       "    <tr>\n",
       "      <th>370</th>\n",
       "      <td>Q60</td>\n",
       "      <td>LAMBDA2M</td>\n",
       "      <td>0.0</td>\n",
       "      <td>NaN</td>\n",
       "      <td>QUAD</td>\n",
       "      <td>1</td>\n",
       "      <td>NaN</td>\n",
       "    </tr>\n",
       "    <tr>\n",
       "      <th>371</th>\n",
       "      <td>Q60</td>\n",
       "      <td>RADIAL</td>\n",
       "      <td>0.0</td>\n",
       "      <td>NaN</td>\n",
       "      <td>QUAD</td>\n",
       "      <td>1</td>\n",
       "      <td>NaN</td>\n",
       "    </tr>\n",
       "    <tr>\n",
       "      <th>372</th>\n",
       "      <td>Q60</td>\n",
       "      <td>MALIGN_METHOD</td>\n",
       "      <td>0.0</td>\n",
       "      <td>NaN</td>\n",
       "      <td>QUAD</td>\n",
       "      <td>1</td>\n",
       "      <td>NaN</td>\n",
       "    </tr>\n",
       "    <tr>\n",
       "      <th>373</th>\n",
       "      <td>DFF</td>\n",
       "      <td>L</td>\n",
       "      <td>2.0</td>\n",
       "      <td>NaN</td>\n",
       "      <td>DRIF</td>\n",
       "      <td>1</td>\n",
       "      <td>NaN</td>\n",
       "    </tr>\n",
       "    <tr>\n",
       "      <th>374</th>\n",
       "      <td>DFF</td>\n",
       "      <td>ORDER</td>\n",
       "      <td>0.0</td>\n",
       "      <td>NaN</td>\n",
       "      <td>DRIF</td>\n",
       "      <td>1</td>\n",
       "      <td>NaN</td>\n",
       "    </tr>\n",
       "  </tbody>\n",
       "</table>\n",
       "</div>"
      ],
      "text/plain": [
       "    ElementName ElementParameter  ParameterValue ParameterValueString  \\\n",
       "369         Q60              I3M             0.0                  NaN   \n",
       "370         Q60         LAMBDA2M             0.0                  NaN   \n",
       "371         Q60           RADIAL             0.0                  NaN   \n",
       "372         Q60    MALIGN_METHOD             0.0                  NaN   \n",
       "373         DFF                L             2.0                  NaN   \n",
       "374         DFF            ORDER             0.0                  NaN   \n",
       "\n",
       "    ElementType  ElementOccurence  ElementGroup  \n",
       "369        QUAD                 1           NaN  \n",
       "370        QUAD                 1           NaN  \n",
       "371        QUAD                 1           NaN  \n",
       "372        QUAD                 1           NaN  \n",
       "373        DRIF                 1           NaN  \n",
       "374        DRIF                 1           NaN  "
      ]
     },
     "execution_count": 15,
     "metadata": {},
     "output_type": "execute_result"
    }
   ],
   "source": [
    "sdds2df(\"results/beamline.par\").tail(6)"
   ]
  },
  {
   "cell_type": "code",
   "execution_count": 16,
   "metadata": {},
   "outputs": [],
   "source": [
    "def change_par(ElementName, ElementParameter, ParameterValue):\n",
    "    # Create sdds-file with this parameter value:\n",
    "    !sddsprocess \"results/beamline.par\" -pipe=out \\\n",
    "        -match=col,ElementName=$ElementName \\\n",
    "        -match=col,ElementParameter=$ElementParameter \\\n",
    "        -filter=col,ElementOccurence,1,1 \\\n",
    "        -redefine=col,ParameterValue,$ParameterValue | \\\n",
    "     sddsconvert -ascii -pipe=in \"parameters2load.tmp\"\n",
    "\n",
    "    # Update the existing parameters2load file:\n",
    "    if not os.path.exists(\"parameters2load.sdds\"):\n",
    "        os.rename(\"parameters2load.tmp\", \"parameters2load.sdds\")\n",
    "    else:\n",
    "        match_str=f\"{ElementName}_{ElementParameter}_{1}\"\n",
    "        # remove the previous value (if any)\n",
    "        !sddsprocess \"parameters2load.sdds\" -pipe=out \\\n",
    "            -print,col,match_str,%s_%s_%i,ElementName,ElementParameter,ElementOccurence | \\\n",
    "         sddsprocess -pipe=in \"parameters2load.tmp2\" -noWarnings \\\n",
    "            -match,col,match_str=$match_str,!\n",
    "        \n",
    "        # put the new value row on top:\n",
    "        !sddscombine \"parameters2load.tmp\" \"parameters2load.tmp2\" -pipe=out -merge | \\\n",
    "         sddsconvert -ascii -pipe=in \"parameters2load.sdds\" -del=col,match_str\n",
    "        \n",
    "        os.remove(\"parameters2load.tmp\")\n",
    "        os.remove(\"parameters2load.tmp2\")\n",
    "        \n",
    "#change_par(\"Q20\", \"K1\", 7.0)"
   ]
  },
  {
   "cell_type": "code",
   "execution_count": 17,
   "metadata": {},
   "outputs": [],
   "source": [
    "from ipywidgets import interact"
   ]
  },
  {
   "cell_type": "code",
   "execution_count": 18,
   "metadata": {},
   "outputs": [
    {
     "data": {
      "text/plain": [
       "5.0"
      ]
     },
     "execution_count": 18,
     "metadata": {},
     "output_type": "execute_result"
    }
   ],
   "source": [
    "def element_par(ElementName, ElementParameter, ElementOccurence=1, filename=\"results/beamline.par\"):\n",
    "    out = !sddsprocess $filename -pipe=out \\\n",
    "        -match=col,ElementName=$ElementName \\\n",
    "        -match=col,ElementParameter=$ElementParameter \\\n",
    "        -filter=col,ElementOccurence,$ElementOccurence,$ElementOccurence | \\\n",
    "     sdds2stream -pipe=in -col=ParameterValue\n",
    "\n",
    "    try:\n",
    "        return float(out[0])\n",
    "    except ValueError:\n",
    "        return out[0]\n",
    "\n",
    "element_par(\"Q20\",\"K1\")"
   ]
  },
  {
   "cell_type": "code",
   "execution_count": 19,
   "metadata": {},
   "outputs": [],
   "source": [
    "def update_figure():\n",
    "    # empty the \"results\" folder:\n",
    "    for f in glob.glob('results/*'): os.remove(f)\n",
    "\n",
    "    !elegant twiss.ele > results/output.txt\n",
    "    \n",
    "    df = sdds2df('results/twiss.twi')\n",
    "    dfback = sdds2df('results/twiss_backwards.twi')\n",
    "    fw.data[0].y = df.betax\n",
    "    fw.data[1].y = df.betay\n",
    "    fw.data[2].y = dfback.betax\n",
    "    fw.data[3].y = dfback.betay\n",
    "\n",
    "    fw.data[4].y = df.etax\n",
    "    fw.data[5].y = df.etay\n",
    "    fw.data[6].y = dfback.etax\n",
    "    fw.data[7].y = dfback.etay"
   ]
  },
  {
   "cell_type": "markdown",
   "metadata": {},
   "source": [
    "Setup achromat first:"
   ]
  },
  {
   "cell_type": "code",
   "execution_count": 20,
   "metadata": {},
   "outputs": [
    {
     "data": {
      "application/vnd.jupyter.widget-view+json": {
       "model_id": "3168a7c6023948f9943f2b193fcbdbe9",
       "version_major": 2,
       "version_minor": 0
      },
      "text/plain": [
       "interactive(children=(FloatSlider(value=7.860000000000001, description='QDOGF', max=10.0, step=0.02), Output()…"
      ]
     },
     "metadata": {},
     "output_type": "display_data"
    }
   ],
   "source": [
    "@interact(QDOGF=(0,10,0.02))\n",
    "def update_parameters(QDOGF=element_par(\"QDOGF\",\"K1\")):\n",
    "    \n",
    "    change_par(\"QDOGF\", \"K1\", QDOGF)\n",
    "    \n",
    "    update_figure()"
   ]
  },
  {
   "cell_type": "code",
   "execution_count": 21,
   "metadata": {},
   "outputs": [
    {
     "data": {
      "application/vnd.jupyter.widget-view+json": {
       "model_id": "5e788ce43c034460a76d8e7593bb12b5",
       "version_major": 2,
       "version_minor": 0
      },
      "text/plain": [
       "FigureWidget({\n",
       "    'data': [{'line': {'color': 'red', 'width': 3},\n",
       "              'mode': 'lines',\n",
       "              'name': 'beta_x',\n",
       "              'type': 'scatter',\n",
       "              'uid': 'b78b5544-707a-4178-ba33-ee4041c26445',\n",
       "              'x': array([ 0.  ,  0.05,  0.1 , ..., 12.5 , 12.55, 12.6 ]),\n",
       "              'xaxis': 'x',\n",
       "              'y': array([  30.        ,   30.00008333,   30.00033333, ..., 5305.28612631,\n",
       "                          5481.01984817, 5659.61686732]),\n",
       "              'yaxis': 'y'},\n",
       "             {'line': {'color': 'blue', 'width': 3},\n",
       "              'mode': 'lines',\n",
       "              'name': 'beta_y',\n",
       "              'type': 'scatter',\n",
       "              'uid': '7133f32e-12f5-41ca-9603-cd409f162d1b',\n",
       "              'x': array([ 0.  ,  0.05,  0.1 , ..., 12.5 , 12.55, 12.6 ]),\n",
       "              'xaxis': 'x',\n",
       "              'y': array([30.        , 30.00008333, 30.00033333, ..., 60.49097462, 69.54518154,\n",
       "                          79.23066127]),\n",
       "              'yaxis': 'y'},\n",
       "             {'line': {'color': 'red', 'dash': 'dash', 'width': 2},\n",
       "              'mode': 'lines',\n",
       "              'name': 'back. beta_x',\n",
       "              'opacity': 0.4,\n",
       "              'type': 'scatter',\n",
       "              'uid': 'cc054a3d-fa72-416e-a1b5-ab53292f2c1e',\n",
       "              'x': array([12.6 , 12.55, 12.5 , ...,  0.1 ,  0.05,  0.  ]),\n",
       "              'xaxis': 'x',\n",
       "              'y': array([2.00000000e-01, 2.12500000e-01, 2.50000000e-01, ..., 1.19727976e+04,\n",
       "                          1.23093605e+04, 1.26505885e+04]),\n",
       "              'yaxis': 'y'},\n",
       "             {'line': {'color': 'blue', 'dash': 'dash', 'width': 2},\n",
       "              'mode': 'lines',\n",
       "              'name': 'back. beta_y',\n",
       "              'opacity': 0.4,\n",
       "              'type': 'scatter',\n",
       "              'uid': 'c82d516f-0b91-4c18-a21d-2bb1ca209123',\n",
       "              'x': array([12.6 , 12.55, 12.5 , ...,  0.1 ,  0.05,  0.  ]),\n",
       "              'xaxis': 'x',\n",
       "              'y': array([2.00000000e-01, 2.12500000e-01, 2.50000000e-01, ..., 1.08389532e+04,\n",
       "                          1.08535741e+04, 1.08682049e+04]),\n",
       "              'yaxis': 'y'},\n",
       "             {'line': {'color': 'red', 'width': 3},\n",
       "              'mode': 'lines',\n",
       "              'name': 'D_x',\n",
       "              'type': 'scatter',\n",
       "              'uid': 'ccfe770a-3d4c-4047-bb23-685c15a0f299',\n",
       "              'x': array([ 0.  ,  0.05,  0.1 , ..., 12.5 , 12.55, 12.6 ]),\n",
       "              'xaxis': 'x',\n",
       "              'y': array([ 0.        ,  0.        ,  0.        , ..., -0.06974977, -0.07087566,\n",
       "                          -0.07200154]),\n",
       "              'yaxis': 'y2'},\n",
       "             {'line': {'color': 'blue', 'width': 3},\n",
       "              'mode': 'lines',\n",
       "              'name': 'D_y',\n",
       "              'type': 'scatter',\n",
       "              'uid': '2426c79e-b05a-4531-b7f0-001e6aca7c82',\n",
       "              'x': array([ 0.  ,  0.05,  0.1 , ..., 12.5 , 12.55, 12.6 ]),\n",
       "              'xaxis': 'x',\n",
       "              'y': array([0., 0., 0., ..., 0., 0., 0.]),\n",
       "              'yaxis': 'y2'},\n",
       "             {'line': {'color': 'red', 'dash': 'dash', 'width': 2},\n",
       "              'mode': 'lines',\n",
       "              'name': 'back. D_x',\n",
       "              'opacity': 0.4,\n",
       "              'type': 'scatter',\n",
       "              'uid': 'a55b8b22-51d9-4cec-b64a-ed088a51ca8e',\n",
       "              'x': array([12.6 , 12.55, 12.5 , ...,  0.1 ,  0.05,  0.  ]),\n",
       "              'xaxis': 'x',\n",
       "              'y': array([0.        , 0.        , 0.        , ..., 0.02402929, 0.02429098,\n",
       "                          0.02455266]),\n",
       "              'yaxis': 'y2'},\n",
       "             {'line': {'color': 'blue', 'dash': 'dash', 'width': 2},\n",
       "              'mode': 'lines',\n",
       "              'name': 'back. D_y',\n",
       "              'opacity': 0.4,\n",
       "              'type': 'scatter',\n",
       "              'uid': '6ad45f40-3746-4eb6-bcb7-1e77d42b57f1',\n",
       "              'x': array([12.6 , 12.55, 12.5 , ...,  0.1 ,  0.05,  0.  ]),\n",
       "              'xaxis': 'x',\n",
       "              'y': array([0., 0., 0., ..., 0., 0., 0.]),\n",
       "              'yaxis': 'y2'},\n",
       "             {'hoverinfo': 'text',\n",
       "              'hovertext': array(['_BEGIN_', 'D10', 'D10', ..., 'DFF', 'DFF', 'DFF'], dtype=object),\n",
       "              'line': {'color': 'gray', 'width': 2},\n",
       "              'mode': 'lines',\n",
       "              'showlegend': False,\n",
       "              'type': 'scatter',\n",
       "              'uid': '99d4ac4c-6b21-48b3-a232-f4efc910d151',\n",
       "              'x': array([ 0.  ,  0.  ,  0.05, ..., 12.55, 12.55, 12.6 ]),\n",
       "              'xaxis': 'x',\n",
       "              'y': array([0., 0., 0., ..., 0., 0., 0.]),\n",
       "              'yaxis': 'y3'}],\n",
       "    'layout': {'height': 750,\n",
       "               'hovermode': 'x unified',\n",
       "               'template': '...',\n",
       "               'xaxis': {'anchor': 'y',\n",
       "                         'domain': [0.0, 1.0],\n",
       "                         'matches': 'x3',\n",
       "                         'showgrid': True,\n",
       "                         'showticklabels': True,\n",
       "                         'title': {'text': 's (m)'}},\n",
       "               'xaxis2': {'anchor': 'y2', 'domain': [0.0, 1.0], 'matches': 'x3', 'showticklabels': False},\n",
       "               'xaxis3': {'anchor': 'y3', 'domain': [0.0, 1.0], 'visible': False},\n",
       "               'yaxis': {'anchor': 'x',\n",
       "                         'domain': [0.64, 1.0],\n",
       "                         'range': [0, 70],\n",
       "                         'showgrid': True,\n",
       "                         'title': {'text': 'beta_x,y (m)'}},\n",
       "               'yaxis2': {'anchor': 'x2',\n",
       "                          'domain': [0.18, 0.54],\n",
       "                          'range': [-1, 1],\n",
       "                          'showgrid': True,\n",
       "                          'title': {'text': 'D_x,y (m)'}},\n",
       "               'yaxis3': {'anchor': 'x3', 'domain': [0.0, 0.08000000000000002], 'visible': False}}\n",
       "})"
      ]
     },
     "execution_count": 21,
     "metadata": {},
     "output_type": "execute_result"
    }
   ],
   "source": [
    "fw"
   ]
  },
  {
   "cell_type": "code",
   "execution_count": 22,
   "metadata": {},
   "outputs": [
    {
     "ename": "AssertionError",
     "evalue": "breakpoint",
     "output_type": "error",
     "traceback": [
      "\u001b[0;31m---------------------------------------------------------------------------\u001b[0m",
      "\u001b[0;31mAssertionError\u001b[0m                            Traceback (most recent call last)",
      "Cell \u001b[0;32mIn[22], line 1\u001b[0m\n\u001b[0;32m----> 1\u001b[0m \u001b[38;5;28;01massert\u001b[39;00m \u001b[38;5;28;01mFalse\u001b[39;00m, \u001b[38;5;124m\"\u001b[39m\u001b[38;5;124mbreakpoint\u001b[39m\u001b[38;5;124m\"\u001b[39m\n",
      "\u001b[0;31mAssertionError\u001b[0m: breakpoint"
     ]
    }
   ],
   "source": [
    "assert False, \"breakpoint\"\n",
    "\n",
    "# Comment the above cell and move on:\n",
    "# Jupyter Notebook: Cell -> Run All Below\n",
    "# Jupyter lab:      Run -> Run Selected Cell and All Below"
   ]
  },
  {
   "cell_type": "code",
   "execution_count": 23,
   "metadata": {},
   "outputs": [
    {
     "data": {
      "image/svg+xml": [
       "<svg class=\"main-svg\" xmlns=\"http://www.w3.org/2000/svg\" xmlns:xlink=\"http://www.w3.org/1999/xlink\" width=\"700\" height=\"750\" style=\"\" viewBox=\"0 0 700 750\"><rect x=\"0\" y=\"0\" width=\"700\" height=\"750\" style=\"fill: rgb(255, 255, 255); fill-opacity: 1;\"/><defs id=\"defs-7f7761\"><g class=\"clips\"><clipPath id=\"clip7f7761xyplot\" class=\"plotclip\"><rect width=\"484\" height=\"205.2\"/></clipPath><clipPath id=\"clip7f7761xy2plot\" class=\"plotclip\"><rect width=\"484\" height=\"205.20000000000002\"/></clipPath><clipPath id=\"clip7f7761xy3plot\" class=\"plotclip\"><rect width=\"484\" height=\"45.60000000000001\"/></clipPath><clipPath class=\"axesclip\" id=\"clip7f7761x\"><rect x=\"80\" y=\"0\" width=\"484\" height=\"750\"/></clipPath><clipPath class=\"axesclip\" id=\"clip7f7761y\"><rect x=\"0\" y=\"100\" width=\"700\" height=\"205.2\"/></clipPath><clipPath class=\"axesclip\" id=\"clip7f7761xy\"><rect x=\"80\" y=\"100\" width=\"484\" height=\"205.2\"/></clipPath><clipPath class=\"axesclip\" id=\"clip7f7761y2\"><rect x=\"0\" y=\"362.2\" width=\"700\" height=\"205.20000000000002\"/></clipPath><clipPath class=\"axesclip\" id=\"clip7f7761xy2\"><rect x=\"80\" y=\"362.2\" width=\"484\" height=\"205.20000000000002\"/></clipPath><clipPath class=\"axesclip\" id=\"clip7f7761y3\"><rect x=\"0\" y=\"624.4\" width=\"700\" height=\"45.60000000000001\"/></clipPath><clipPath class=\"axesclip\" id=\"clip7f7761xy3\"><rect x=\"80\" y=\"624.4\" width=\"484\" height=\"45.60000000000001\"/></clipPath></g><g class=\"gradients\"/><g class=\"patterns\"/></defs><g class=\"bglayer\"/><g class=\"layer-below\"><g class=\"imagelayer\"/><g class=\"shapelayer\"/></g><g class=\"cartesianlayer\"><g class=\"subplot xy\"><g class=\"layer-subplot\"><g class=\"shapelayer\"/><g class=\"imagelayer\"/></g><g class=\"minor-gridlayer\"><g class=\"x\"/><g class=\"y\"/></g><g class=\"gridlayer\"><g class=\"x\"><path class=\"xgrid crisp\" transform=\"translate(156.82999999999998,0)\" d=\"M0,100v205.2\" style=\"stroke: rgb(232, 232, 232); stroke-opacity: 1; stroke-width: 1px;\"/><path class=\"xgrid crisp\" transform=\"translate(233.65,0)\" d=\"M0,100v205.2\" style=\"stroke: rgb(232, 232, 232); stroke-opacity: 1; stroke-width: 1px;\"/><path class=\"xgrid crisp\" transform=\"translate(310.48,0)\" d=\"M0,100v205.2\" style=\"stroke: rgb(232, 232, 232); stroke-opacity: 1; stroke-width: 1px;\"/><path class=\"xgrid crisp\" transform=\"translate(387.3,0)\" d=\"M0,100v205.2\" style=\"stroke: rgb(232, 232, 232); stroke-opacity: 1; stroke-width: 1px;\"/><path class=\"xgrid crisp\" transform=\"translate(464.13,0)\" d=\"M0,100v205.2\" style=\"stroke: rgb(232, 232, 232); stroke-opacity: 1; stroke-width: 1px;\"/><path class=\"xgrid crisp\" transform=\"translate(540.95,0)\" d=\"M0,100v205.2\" style=\"stroke: rgb(232, 232, 232); stroke-opacity: 1; stroke-width: 1px;\"/></g><g class=\"y\"><path class=\"ygrid crisp\" transform=\"translate(0,246.57)\" d=\"M80,0h484\" style=\"stroke: rgb(232, 232, 232); stroke-opacity: 1; stroke-width: 1px;\"/><path class=\"ygrid crisp\" transform=\"translate(0,187.94)\" d=\"M80,0h484\" style=\"stroke: rgb(232, 232, 232); stroke-opacity: 1; stroke-width: 1px;\"/><path class=\"ygrid crisp\" transform=\"translate(0,129.31)\" d=\"M80,0h484\" style=\"stroke: rgb(232, 232, 232); stroke-opacity: 1; stroke-width: 1px;\"/></g></g><g class=\"zerolinelayer\"/><g class=\"layer-between\"><g class=\"shapelayer\"/><g class=\"imagelayer\"/></g><path class=\"xlines-below\"/><path class=\"ylines-below\"/><g class=\"overlines-below\"/><g class=\"xaxislayer-below\"/><g class=\"yaxislayer-below\"/><g class=\"overaxes-below\"/><g class=\"overplot\"><g class=\"xy\" transform=\"translate(80,100)\" clip-path=\"url(#clip7f7761xyplot)\"><g class=\"scatterlayer mlayer\"><g class=\"trace scatter traceb78b5544-707a-4178-ba33-ee4041c26445\" style=\"stroke-miterlimit: 2; opacity: 1;\"><g class=\"fills\"/><g class=\"errorbars\"/><g class=\"lines\"><path class=\"js-line\" d=\"M0,117.26L38.41,117.16L40.33,116.49L42.25,114.47L44.17,111.05L49.94,94.33L51.86,88.18L59.54,63.7L61.46,62.13L63.38,64.12L65.3,69.57L76.83,108.85L78.75,114.17L82.59,121.12L84.51,122.93L119.08,146.28L121,147.84L155.57,176.55L157.49,177.89L170.94,186.35L172.86,187.42L176.7,190.72L178.62,193.05L184.38,200.08L186.3,201.79L190.14,204.13L192.06,204.78L195.9,204.99L197.83,204.57L201.67,202.66L203.59,201.17L207.43,197.12L209.35,194.57L215.11,184.77L217.03,180.79L222.79,166.38L224.71,160.47L230.48,139.11L232.4,131.02L240.08,93.97L242,83.53L249.68,37.12L251.6,24.34L266.97,-88.95L268.89,-88.28L270.81,-76.22L284.25,83.77L286.17,101.68L291.94,146.85L293.86,159.04L297.7,179.15L299.62,187.06L303.46,198.59L305.38,202.21L307.3,204.41L309.22,205.17L311.14,204.5L313.06,202.41L316.9,193.96L318.83,187.61L322.67,170.75L324.59,160.27L330.35,120.85L332.27,105.14L338.03,50.71L339.95,30.25L366.84,-443.3L368.76,-536.26L394.7009789454424,-4104L484,-4104\" style=\"vector-effect: none; fill: none; stroke: rgb(255, 0, 0); stroke-opacity: 1; stroke-width: 3px; opacity: 1;\"/></g><g class=\"points\"/><g class=\"text\"/></g><g class=\"trace scatter trace7133f32e-12f5-41ca-9603-cd409f162d1b\" style=\"stroke-miterlimit: 2; opacity: 1;\"><g class=\"fills\"/><g class=\"errorbars\"/><g class=\"lines\"><path class=\"js-line\" d=\"M0,117.26L40.33,117.81L42.25,119.75L46.1,127.27L48.02,132.05L57.62,153.69L59.54,156.95L61.46,158.93L63.38,159.72L67.22,158.44L69.14,157.5L78.75,152.98L80.67,152.97L84.51,154.87L86.43,156.43L103.71,169.36L105.63,170.67L122.92,181.29L124.84,182.35L140.21,189.85L142.13,190.67L157.49,196.34L159.41,196.93L172.86,200.37L174.78,200.66L180.54,200.42L182.46,200.03L197.83,196.11L199.75,195.51L215.11,189.89L217.03,189.08L228.56,184.9L230.48,184.35L257.37,175.6L259.29,174.91L266.97,171.38L268.89,168.59L270.81,164.18L272.73,157.8L278.49,132.54L280.41,122.92L288.1,78.49L290.02,65.89L311.14,-112.19L313.06,-131.96L363,-843.69L370.68,-709.23L372.6,-652.31L386.05,-364.49L395.65,-396.99L397.57,-404.95L401.41,-413.89L403.33,-400.66L405.25,-373.88L422.54,-36.37L424.46,-7.39L430.22,68.42L432.14,90L437.9,143.61L439.83,157.78L443.67,180.57L445.59,189.19L449.43,200.87L451.35,203.94L453.27,205.15L455.19,204.52L457.11,202.03L459.03,197.7L462.87,183.48L464.79,173.59L468.63,148.26L470.56,132.83L476.32,75.41L478.24,52.57L484,-27.06\" style=\"vector-effect: none; fill: none; stroke: rgb(0, 0, 255); stroke-opacity: 1; stroke-width: 3px; opacity: 1;\"/></g><g class=\"points\"/><g class=\"text\"/></g><g class=\"trace scatter tracecc054a3d-fa72-416e-a1b5-ab53292f2c1e\" style=\"stroke-miterlimit: 2; opacity: 0.4;\"><g class=\"fills\"/><g class=\"errorbars\"/><g class=\"lines\"><path class=\"js-line\" d=\"M484,204.61L476.32,204.03L474.4,203.7L464.79,200.95L462.87,200.18L453.27,195.23L451.35,194.02L441.75,186.88L439.83,185.23L430.22,175.89L428.3,173.8L416.78,159.73L414.86,157.12L407.17,145.99L405.25,142.31L401.41,129.89L399.49,120.56L391.81,73.1L389.89,59.59L386.05,32.54L384.13,23.25L382.21,17.98L380.29,16.98L368.76,23.87L366.84,22.88L364.92,17.58L363,7.73L339.95,-244.67L338.03,-270L270.81,-1173.51L265.05,-881.88L263.13,-728.47L251.6,-52.94L249.68,18.82L245.84,127.37L243.92,164.14L242,189.26L240.08,202.71L238.16,204.5L236.24,194.62L234.32,173.08L232.4,139.88L228.56,38.49L226.63,-29.7L193.4982188331634,-4104L167.43838396331537,-4104L161.33,-2741.58L159.41,-2366.11L142.13,-137.89L140.21,-18.2L136.37,144.45L134.44,187.41L132.52,204.79L130.6,196.58L128.68,162.79L126.76,103.5L122.92,-91.12L121,-226.07L108.19806984579446,-4104L0,-4104\" style=\"vector-effect: none; fill: none; stroke: rgb(255, 0, 0); stroke-opacity: 1; stroke-dasharray: 9px, 9px; stroke-width: 2px; opacity: 1;\"/></g><g class=\"points\"/><g class=\"text\"/></g><g class=\"trace scatter tracec82d516f-0b91-4c18-a21d-2bb1ca209123\" style=\"stroke-miterlimit: 2; opacity: 0.4;\"><g class=\"fills\"/><g class=\"errorbars\"/><g class=\"lines\"><path class=\"js-line\" d=\"M484,204.61L476.32,204.03L474.4,203.7L464.79,200.95L462.87,200.18L453.27,195.23L451.35,194.02L441.75,186.88L439.83,185.23L430.22,175.89L428.3,173.8L416.78,159.73L414.86,157.12L405.25,143.72L403.33,142.84L401.41,143.39L399.49,145.34L387.97,160.05L386.05,161.8L384.13,162.52L382.21,162.26L378.37,159.2L376.44,157.37L366.84,148.32L364.92,148.29L363,149.58L361.08,152.13L351.48,166.7L349.56,169.33L339.95,181.07L338.03,183.13L328.43,192.04L326.51,193.54L318.83,198.6L316.9,199.63L309.22,202.8L307.3,203.36L299.62,204.65L297.7,204.74L290.02,204.14L288.1,203.76L280.41,201.28L278.49,200.42L270.81,195.89L268.89,193.96L265.05,187.9L263.13,183.67L257.37,168.22L255.44,162.14L249.68,141.13L247.76,133.2L240.08,96.84L238.16,86.59L230.48,40.97L228.56,28.4L176.7,-354.8L174.78,-426.3L154.1961943802123,-4104L0,-4104\" style=\"vector-effect: none; fill: none; stroke: rgb(0, 0, 255); stroke-opacity: 1; stroke-dasharray: 9px, 9px; stroke-width: 2px; opacity: 1;\"/></g><g class=\"points\"/><g class=\"text\"/></g></g></g></g><path class=\"xlines-above crisp\" d=\"M79,305.7H564\" style=\"fill: none; stroke-width: 1px; stroke: rgb(36, 36, 36); stroke-opacity: 1;\"/><path class=\"ylines-above crisp\" d=\"M79.5,100V305.2\" style=\"fill: none; stroke-width: 1px; stroke: rgb(36, 36, 36); stroke-opacity: 1;\"/><g class=\"overlines-above\"/><g class=\"xaxislayer-above\"><path class=\"xtick ticks crisp\" d=\"M0,306.2v5\" transform=\"translate(80,0)\" style=\"stroke: rgb(68, 68, 68); stroke-opacity: 1; stroke-width: 1px;\"/><path class=\"xtick ticks crisp\" d=\"M0,306.2v5\" transform=\"translate(156.82999999999998,0)\" style=\"stroke: rgb(68, 68, 68); stroke-opacity: 1; stroke-width: 1px;\"/><path class=\"xtick ticks crisp\" d=\"M0,306.2v5\" transform=\"translate(233.65,0)\" style=\"stroke: rgb(68, 68, 68); stroke-opacity: 1; stroke-width: 1px;\"/><path class=\"xtick ticks crisp\" d=\"M0,306.2v5\" transform=\"translate(310.48,0)\" style=\"stroke: rgb(68, 68, 68); stroke-opacity: 1; stroke-width: 1px;\"/><path class=\"xtick ticks crisp\" d=\"M0,306.2v5\" transform=\"translate(387.3,0)\" style=\"stroke: rgb(68, 68, 68); stroke-opacity: 1; stroke-width: 1px;\"/><path class=\"xtick ticks crisp\" d=\"M0,306.2v5\" transform=\"translate(464.13,0)\" style=\"stroke: rgb(68, 68, 68); stroke-opacity: 1; stroke-width: 1px;\"/><path class=\"xtick ticks crisp\" d=\"M0,306.2v5\" transform=\"translate(540.95,0)\" style=\"stroke: rgb(68, 68, 68); stroke-opacity: 1; stroke-width: 1px;\"/><g class=\"xtick\"><text text-anchor=\"middle\" x=\"0\" y=\"325.59999999999997\" transform=\"translate(80,0)\" style=\"font-family: 'Open Sans', verdana, arial, sans-serif; font-size: 12px; fill: rgb(36, 36, 36); fill-opacity: 1; white-space: pre; opacity: 1;\">0</text></g><g class=\"xtick\"><text text-anchor=\"middle\" x=\"0\" y=\"325.59999999999997\" style=\"font-family: 'Open Sans', verdana, arial, sans-serif; font-size: 12px; fill: rgb(36, 36, 36); fill-opacity: 1; white-space: pre; opacity: 1;\" transform=\"translate(156.82999999999998,0)\">2</text></g><g class=\"xtick\"><text text-anchor=\"middle\" x=\"0\" y=\"325.59999999999997\" style=\"font-family: 'Open Sans', verdana, arial, sans-serif; font-size: 12px; fill: rgb(36, 36, 36); fill-opacity: 1; white-space: pre; opacity: 1;\" transform=\"translate(233.65,0)\">4</text></g><g class=\"xtick\"><text text-anchor=\"middle\" x=\"0\" y=\"325.59999999999997\" style=\"font-family: 'Open Sans', verdana, arial, sans-serif; font-size: 12px; fill: rgb(36, 36, 36); fill-opacity: 1; white-space: pre; opacity: 1;\" transform=\"translate(310.48,0)\">6</text></g><g class=\"xtick\"><text text-anchor=\"middle\" x=\"0\" y=\"325.59999999999997\" style=\"font-family: 'Open Sans', verdana, arial, sans-serif; font-size: 12px; fill: rgb(36, 36, 36); fill-opacity: 1; white-space: pre; opacity: 1;\" transform=\"translate(387.3,0)\">8</text></g><g class=\"xtick\"><text text-anchor=\"middle\" x=\"0\" y=\"325.59999999999997\" style=\"font-family: 'Open Sans', verdana, arial, sans-serif; font-size: 12px; fill: rgb(36, 36, 36); fill-opacity: 1; white-space: pre; opacity: 1;\" transform=\"translate(464.13,0)\">10</text></g><g class=\"xtick\"><text text-anchor=\"middle\" x=\"0\" y=\"325.59999999999997\" style=\"font-family: 'Open Sans', verdana, arial, sans-serif; font-size: 12px; fill: rgb(36, 36, 36); fill-opacity: 1; white-space: pre; opacity: 1;\" transform=\"translate(540.95,0)\">12</text></g></g><g class=\"yaxislayer-above\"><path class=\"ytick ticks crisp\" d=\"M79,0h-5\" transform=\"translate(0,305.2)\" style=\"stroke: rgb(68, 68, 68); stroke-opacity: 1; stroke-width: 1px;\"/><path class=\"ytick ticks crisp\" d=\"M79,0h-5\" transform=\"translate(0,246.57)\" style=\"stroke: rgb(68, 68, 68); stroke-opacity: 1; stroke-width: 1px;\"/><path class=\"ytick ticks crisp\" d=\"M79,0h-5\" transform=\"translate(0,187.94)\" style=\"stroke: rgb(68, 68, 68); stroke-opacity: 1; stroke-width: 1px;\"/><path class=\"ytick ticks crisp\" d=\"M79,0h-5\" transform=\"translate(0,129.31)\" style=\"stroke: rgb(68, 68, 68); stroke-opacity: 1; stroke-width: 1px;\"/><g class=\"ytick\"><text text-anchor=\"end\" x=\"71.6\" y=\"4.199999999999999\" transform=\"translate(0,305.2)\" style=\"font-family: 'Open Sans', verdana, arial, sans-serif; font-size: 12px; fill: rgb(36, 36, 36); fill-opacity: 1; white-space: pre; opacity: 1;\">0</text></g><g class=\"ytick\"><text text-anchor=\"end\" x=\"71.6\" y=\"4.199999999999999\" style=\"font-family: 'Open Sans', verdana, arial, sans-serif; font-size: 12px; fill: rgb(36, 36, 36); fill-opacity: 1; white-space: pre; opacity: 1;\" transform=\"translate(0,246.57)\">20</text></g><g class=\"ytick\"><text text-anchor=\"end\" x=\"71.6\" y=\"4.199999999999999\" style=\"font-family: 'Open Sans', verdana, arial, sans-serif; font-size: 12px; fill: rgb(36, 36, 36); fill-opacity: 1; white-space: pre; opacity: 1;\" transform=\"translate(0,187.94)\">40</text></g><g class=\"ytick\"><text text-anchor=\"end\" x=\"71.6\" y=\"4.199999999999999\" style=\"font-family: 'Open Sans', verdana, arial, sans-serif; font-size: 12px; fill: rgb(36, 36, 36); fill-opacity: 1; white-space: pre; opacity: 1;\" transform=\"translate(0,129.31)\">60</text></g></g><g class=\"overaxes-above\"/></g><g class=\"subplot xy2\"><g class=\"layer-subplot\"><g class=\"shapelayer\"/><g class=\"imagelayer\"/></g><g class=\"minor-gridlayer\"><g class=\"x\"/><g class=\"y2\"/></g><g class=\"gridlayer\"><g class=\"x\"><path class=\"xgrid crisp\" transform=\"translate(156.82999999999998,0)\" d=\"M0,362.2v205.20000000000002\" style=\"stroke: rgb(232, 232, 232); stroke-opacity: 1; stroke-width: 1px;\"/><path class=\"xgrid crisp\" transform=\"translate(233.65,0)\" d=\"M0,362.2v205.20000000000002\" style=\"stroke: rgb(232, 232, 232); stroke-opacity: 1; stroke-width: 1px;\"/><path class=\"xgrid crisp\" transform=\"translate(310.48,0)\" d=\"M0,362.2v205.20000000000002\" style=\"stroke: rgb(232, 232, 232); stroke-opacity: 1; stroke-width: 1px;\"/><path class=\"xgrid crisp\" transform=\"translate(387.3,0)\" d=\"M0,362.2v205.20000000000002\" style=\"stroke: rgb(232, 232, 232); stroke-opacity: 1; stroke-width: 1px;\"/><path class=\"xgrid crisp\" transform=\"translate(464.13,0)\" d=\"M0,362.2v205.20000000000002\" style=\"stroke: rgb(232, 232, 232); stroke-opacity: 1; stroke-width: 1px;\"/><path class=\"xgrid crisp\" transform=\"translate(540.95,0)\" d=\"M0,362.2v205.20000000000002\" style=\"stroke: rgb(232, 232, 232); stroke-opacity: 1; stroke-width: 1px;\"/></g><g class=\"y2\"><path class=\"y2grid crisp\" transform=\"translate(0,516.1)\" d=\"M80,0h484\" style=\"stroke: rgb(232, 232, 232); stroke-opacity: 1; stroke-width: 1px;\"/><path class=\"y2grid crisp\" transform=\"translate(0,464.79999999999995)\" d=\"M80,0h484\" style=\"stroke: rgb(232, 232, 232); stroke-opacity: 1; stroke-width: 1px;\"/><path class=\"y2grid crisp\" transform=\"translate(0,413.5)\" d=\"M80,0h484\" style=\"stroke: rgb(232, 232, 232); stroke-opacity: 1; stroke-width: 1px;\"/></g></g><g class=\"zerolinelayer\"/><g class=\"layer-between\"><g class=\"shapelayer\"/><g class=\"imagelayer\"/></g><path class=\"xlines-below\"/><path class=\"ylines-below\"/><g class=\"overlines-below\"/><g class=\"xaxislayer-below\"/><g class=\"yaxislayer-below\"/><g class=\"overaxes-below\"/><g class=\"overplot\"><g class=\"xy2\" transform=\"translate(80,362.2)\" clip-path=\"url(#clip7f7761xy2plot)\"><g class=\"scatterlayer mlayer\"><g class=\"trace scatter traceccfe770a-3d4c-4047-bb23-685c15a0f299\" style=\"stroke-miterlimit: 2; opacity: 1;\"><g class=\"fills\"/><g class=\"errorbars\"/><g class=\"lines\"><path class=\"js-line\" d=\"M0,102.6L109.48,102.1L111.4,101.7L119.08,99.02L121,98.07L128.68,93.18L130.6,91.69L144.05,79.59L145.97,77.83L174.78,51.93L176.7,51.66L178.62,52.38L180.54,54.09L266.97,152.2L268.89,152.94L270.81,152.69L272.73,151.46L318.83,111.15L320.75,109.92L328.43,106.08L330.35,105.39L338.03,103.76L339.95,103.63L366.84,104.2L368.76,104.3L395.65,105.16L397.57,105.15L414.86,105.83L416.78,105.94L484,109.99\" style=\"vector-effect: none; fill: none; stroke: rgb(255, 0, 0); stroke-opacity: 1; stroke-width: 3px; opacity: 1;\"/></g><g class=\"points\"/><g class=\"text\"/></g><g class=\"trace scatter trace2426c79e-b05a-4531-b7f0-001e6aca7c82\" style=\"stroke-miterlimit: 2; opacity: 1;\"><g class=\"fills\"/><g class=\"errorbars\"/><g class=\"lines\"><path class=\"js-line\" d=\"M0,102.6L484,102.6\" style=\"vector-effect: none; fill: none; stroke: rgb(0, 0, 255); stroke-opacity: 1; stroke-width: 3px; opacity: 1;\"/></g><g class=\"points\"/><g class=\"text\"/></g><g class=\"trace scatter tracea55b8b22-51d9-4cec-b64a-ed088a51ca8e\" style=\"stroke-miterlimit: 2; opacity: 0.4;\"><g class=\"fills\"/><g class=\"errorbars\"/><g class=\"lines\"><path class=\"js-line\" d=\"M484,102.6L336.11,103.1L334.19,103.5L326.51,106.18L324.59,107.13L316.9,112.02L314.98,113.51L301.54,125.61L299.62,127.37L270.81,153.27L268.89,153.54L266.97,152.82L265.05,151.11L178.62,53L176.7,52.26L174.78,52.51L172.86,53.74L126.76,94.05L124.84,95.28L117.16,99.12L115.24,99.81L107.56,101.44L105.63,101.57L78.75,101.04L76.83,100.96L48.02,100.58L46.1,100.61L11.52,100.24L9.6,100.22L0,100.08\" style=\"vector-effect: none; fill: none; stroke: rgb(255, 0, 0); stroke-opacity: 1; stroke-dasharray: 9px, 9px; stroke-width: 2px; opacity: 1;\"/></g><g class=\"points\"/><g class=\"text\"/></g><g class=\"trace scatter trace6ad45f40-3746-4eb6-bcb7-1e77d42b57f1\" style=\"stroke-miterlimit: 2; opacity: 0.4;\"><g class=\"fills\"/><g class=\"errorbars\"/><g class=\"lines\"><path class=\"js-line\" d=\"M484,102.6L0,102.6\" style=\"vector-effect: none; fill: none; stroke: rgb(0, 0, 255); stroke-opacity: 1; stroke-dasharray: 9px, 9px; stroke-width: 2px; opacity: 1;\"/></g><g class=\"points\"/><g class=\"text\"/></g></g></g></g><path class=\"xlines-above crisp\" d=\"M0,0\" style=\"fill: none;\"/><path class=\"ylines-above crisp\" d=\"M79.5,362.2V567.4\" style=\"fill: none; stroke-width: 1px; stroke: rgb(36, 36, 36); stroke-opacity: 1;\"/><g class=\"overlines-above\"/><g class=\"xaxislayer-above\"/><g class=\"yaxislayer-above\"><path class=\"y2tick ticks crisp\" d=\"M79,0h-5\" transform=\"translate(0,567.4)\" style=\"stroke: rgb(68, 68, 68); stroke-opacity: 1; stroke-width: 1px;\"/><path class=\"y2tick ticks crisp\" d=\"M79,0h-5\" transform=\"translate(0,516.1)\" style=\"stroke: rgb(68, 68, 68); stroke-opacity: 1; stroke-width: 1px;\"/><path class=\"y2tick ticks crisp\" d=\"M79,0h-5\" transform=\"translate(0,464.79999999999995)\" style=\"stroke: rgb(68, 68, 68); stroke-opacity: 1; stroke-width: 1px;\"/><path class=\"y2tick ticks crisp\" d=\"M79,0h-5\" transform=\"translate(0,413.5)\" style=\"stroke: rgb(68, 68, 68); stroke-opacity: 1; stroke-width: 1px;\"/><path class=\"y2tick ticks crisp\" d=\"M79,0h-5\" transform=\"translate(0,362.2)\" style=\"stroke: rgb(68, 68, 68); stroke-opacity: 1; stroke-width: 1px;\"/><g class=\"y2tick\"><text text-anchor=\"end\" x=\"71.6\" y=\"4.199999999999999\" transform=\"translate(0,567.4)\" style=\"font-family: 'Open Sans', verdana, arial, sans-serif; font-size: 12px; fill: rgb(36, 36, 36); fill-opacity: 1; white-space: pre; opacity: 1;\">−1</text></g><g class=\"y2tick\"><text text-anchor=\"end\" x=\"71.6\" y=\"4.199999999999999\" style=\"font-family: 'Open Sans', verdana, arial, sans-serif; font-size: 12px; fill: rgb(36, 36, 36); fill-opacity: 1; white-space: pre; opacity: 1;\" transform=\"translate(0,516.1)\">−0.5</text></g><g class=\"y2tick\"><text text-anchor=\"end\" x=\"71.6\" y=\"4.199999999999999\" style=\"font-family: 'Open Sans', verdana, arial, sans-serif; font-size: 12px; fill: rgb(36, 36, 36); fill-opacity: 1; white-space: pre; opacity: 1;\" transform=\"translate(0,464.79999999999995)\">0</text></g><g class=\"y2tick\"><text text-anchor=\"end\" x=\"71.6\" y=\"4.199999999999999\" style=\"font-family: 'Open Sans', verdana, arial, sans-serif; font-size: 12px; fill: rgb(36, 36, 36); fill-opacity: 1; white-space: pre; opacity: 1;\" transform=\"translate(0,413.5)\">0.5</text></g><g class=\"y2tick\"><text text-anchor=\"end\" x=\"71.6\" y=\"4.199999999999999\" style=\"font-family: 'Open Sans', verdana, arial, sans-serif; font-size: 12px; fill: rgb(36, 36, 36); fill-opacity: 1; white-space: pre; opacity: 1;\" transform=\"translate(0,362.2)\">1</text></g></g><g class=\"overaxes-above\"/></g><g class=\"subplot xy3\"><g class=\"layer-subplot\"><g class=\"shapelayer\"/><g class=\"imagelayer\"/></g><g class=\"minor-gridlayer\"><g class=\"x\"/><g class=\"y3\"/></g><g class=\"gridlayer\"><g class=\"x\"><path class=\"xgrid crisp\" transform=\"translate(156.82999999999998,0)\" d=\"M0,624.4v45.60000000000001\" style=\"stroke: rgb(232, 232, 232); stroke-opacity: 1; stroke-width: 1px;\"/><path class=\"xgrid crisp\" transform=\"translate(233.65,0)\" d=\"M0,624.4v45.60000000000001\" style=\"stroke: rgb(232, 232, 232); stroke-opacity: 1; stroke-width: 1px;\"/><path class=\"xgrid crisp\" transform=\"translate(310.48,0)\" d=\"M0,624.4v45.60000000000001\" style=\"stroke: rgb(232, 232, 232); stroke-opacity: 1; stroke-width: 1px;\"/><path class=\"xgrid crisp\" transform=\"translate(387.3,0)\" d=\"M0,624.4v45.60000000000001\" style=\"stroke: rgb(232, 232, 232); stroke-opacity: 1; stroke-width: 1px;\"/><path class=\"xgrid crisp\" transform=\"translate(464.13,0)\" d=\"M0,624.4v45.60000000000001\" style=\"stroke: rgb(232, 232, 232); stroke-opacity: 1; stroke-width: 1px;\"/><path class=\"xgrid crisp\" transform=\"translate(540.95,0)\" d=\"M0,624.4v45.60000000000001\" style=\"stroke: rgb(232, 232, 232); stroke-opacity: 1; stroke-width: 1px;\"/></g><g class=\"y3\"/></g><g class=\"zerolinelayer\"/><g class=\"layer-between\"><g class=\"shapelayer\"/><g class=\"imagelayer\"/></g><path class=\"xlines-below\"/><path class=\"ylines-below\"/><g class=\"overlines-below\"/><g class=\"xaxislayer-below\"/><g class=\"yaxislayer-below\"/><g class=\"overaxes-below\"/><g class=\"overplot\"><g class=\"xy3\" transform=\"translate(80,624.4)\" clip-path=\"url(#clip7f7761xy3plot)\"><g class=\"scatterlayer mlayer\"><g class=\"trace scatter trace99d4ac4c-6b21-48b3-a232-f4efc910d151\" style=\"stroke-miterlimit: 2; opacity: 1;\"><g class=\"fills\"/><g class=\"errorbars\"/><g class=\"lines\"><path class=\"js-line\" d=\"M0,22.8L38.41,22.8L38.41,22.8L38.41,43.32L40.33,43.32L40.33,22.8L38.41,22.8L40.33,22.8L40.33,43.32L42.25,43.32L42.25,22.8L40.33,22.8L42.25,22.8L42.25,43.32L44.17,43.32L44.17,22.8L42.25,22.8L44.17,22.8L44.17,43.32L46.1,43.32L46.1,22.8L44.17,22.8L57.62,22.8L57.62,22.8L57.62,2.28L59.54,2.28L59.54,22.8L57.62,22.8L59.54,22.8L59.54,2.28L61.46,2.28L61.46,22.8L59.54,22.8L61.46,22.8L61.46,2.28L63.38,2.28L63.38,22.8L61.46,22.8L63.38,22.8L63.38,2.28L65.3,2.28L65.3,22.8L63.38,22.8L76.83,22.8L76.83,22.8L76.83,43.32L78.75,43.32L78.75,22.8L76.83,22.8L78.75,22.8L78.75,43.32L80.67,43.32L80.67,22.8L78.75,22.8L80.67,22.8L80.67,43.32L82.59,43.32L82.59,22.8L80.67,22.8L82.59,22.8L82.59,43.32L84.51,43.32L84.51,22.8L82.59,22.8L103.71,22.8L103.71,22.8L103.71,15.96L105.63,15.96L105.63,22.8L103.71,22.8L105.63,22.8L105.63,15.96L107.56,15.96L107.56,22.8L105.63,22.8L107.56,22.8L107.56,15.96L109.48,15.96L109.48,22.8L107.56,22.8L109.48,22.8L109.48,15.96L111.4,15.96L111.4,22.8L109.48,22.8L111.4,22.8L111.4,15.96L113.32,15.96L113.32,22.8L111.4,22.8L113.32,22.8L113.32,15.96L115.24,15.96L115.24,22.8L113.32,22.8L115.24,22.8L115.24,15.96L117.16,15.96L117.16,22.8L115.24,22.8L117.16,22.8L117.16,15.96L119.08,15.96L119.08,22.8L117.16,22.8L119.08,22.8L119.08,15.96L121,15.96L121,22.8L119.08,22.8L121,22.8L121,15.96L122.92,15.96L122.92,22.8L121,22.8L122.92,22.8L122.92,15.96L124.84,15.96L124.84,22.8L122.92,22.8L124.84,22.8L124.84,15.96L126.76,15.96L126.76,22.8L124.84,22.8L126.76,22.8L126.76,15.96L128.68,15.96L128.68,22.8L126.76,22.8L128.68,22.8L128.68,15.96L130.6,15.96L130.6,22.8L128.68,22.8L130.6,22.8L130.6,15.96L132.52,15.96L132.52,22.8L130.6,22.8L132.52,22.8L132.52,15.96L134.44,15.96L134.44,22.8L132.52,22.8L172.86,22.8L172.86,22.8L172.86,2.28L174.78,2.28L174.78,22.8L172.86,22.8L174.78,22.8L174.78,2.28L176.7,2.28L176.7,22.8L174.78,22.8L176.7,22.8L176.7,2.28L178.62,2.28L178.62,22.8L176.7,22.8L178.62,22.8L178.62,2.28L180.54,2.28L180.54,22.8L178.62,22.8L218.95,22.8L218.95,22.8L218.95,43.32L220.87,43.32L220.87,22.8L218.95,22.8L220.87,22.8L220.87,43.32L222.79,43.32L222.79,22.8L220.87,22.8L222.79,22.8L222.79,43.32L224.71,43.32L224.71,22.8L222.79,22.8L224.71,22.8L224.71,43.32L226.63,43.32L226.63,22.8L224.71,22.8L265.05,22.8L265.05,22.8L265.05,2.28L266.97,2.28L266.97,22.8L265.05,22.8L266.97,22.8L266.97,2.28L268.89,2.28L268.89,22.8L266.97,22.8L268.89,22.8L268.89,2.28L270.81,2.28L270.81,22.8L268.89,22.8L270.81,22.8L270.81,2.28L272.73,2.28L272.73,22.8L270.81,22.8L311.14,22.8L311.14,22.8L311.14,29.64L313.06,29.64L313.06,22.8L311.14,22.8L313.06,22.8L313.06,29.64L314.98,29.64L314.98,22.8L313.06,22.8L314.98,22.8L314.98,29.64L316.9,29.64L316.9,22.8L314.98,22.8L316.9,22.8L316.9,29.64L318.83,29.64L318.83,22.8L316.9,22.8L318.83,22.8L318.83,29.64L320.75,29.64L320.75,22.8L318.83,22.8L320.75,22.8L320.75,29.64L322.67,29.64L322.67,22.8L320.75,22.8L322.67,22.8L322.67,29.64L324.59,29.64L324.59,22.8L322.67,22.8L324.59,22.8L324.59,29.64L326.51,29.64L326.51,22.8L324.59,22.8L326.51,22.8L326.51,29.64L328.43,29.64L328.43,22.8L326.51,22.8L328.43,22.8L328.43,29.64L330.35,29.64L330.35,22.8L328.43,22.8L330.35,22.8L330.35,29.64L332.27,29.64L332.27,22.8L330.35,22.8L332.27,22.8L332.27,29.64L334.19,29.64L334.19,22.8L332.27,22.8L334.19,22.8L334.19,29.64L336.11,29.64L336.11,22.8L334.19,22.8L336.11,22.8L336.11,29.64L338.03,29.64L338.03,22.8L336.11,22.8L338.03,22.8L338.03,29.64L339.95,29.64L339.95,22.8L338.03,22.8L339.95,22.8L339.95,29.64L341.87,29.64L341.87,22.8L339.95,22.8L361.08,22.8L361.08,22.8L361.08,43.32L363,43.32L363,22.8L361.08,22.8L363,22.8L363,43.32L364.92,43.32L364.92,22.8L363,22.8L364.92,22.8L364.92,43.32L366.84,43.32L366.84,22.8L364.92,22.8L366.84,22.8L366.84,43.32L368.76,43.32L368.76,22.8L366.84,22.8L380.29,22.8L380.29,22.8L380.29,2.28L382.21,2.28L382.21,22.8L380.29,22.8L382.21,22.8L382.21,2.28L384.13,2.28L384.13,22.8L382.21,22.8L384.13,22.8L384.13,2.28L386.05,2.28L386.05,22.8L384.13,22.8L386.05,22.8L386.05,2.28L387.97,2.28L387.97,22.8L386.05,22.8L399.49,22.8L399.49,22.8L399.49,43.32L401.41,43.32L401.41,22.8L399.49,22.8L401.41,22.8L401.41,43.32L403.33,43.32L403.33,22.8L401.41,22.8L403.33,22.8L403.33,43.32L405.25,43.32L405.25,22.8L403.33,22.8L405.25,22.8L405.25,43.32L407.17,43.32L407.17,22.8L405.25,22.8L484,22.8\" style=\"vector-effect: none; fill: none; stroke: rgb(128, 128, 128); stroke-opacity: 1; stroke-width: 2px; opacity: 1;\"/></g><g class=\"points\"/><g class=\"text\"/></g></g></g></g><path class=\"xlines-above crisp\" d=\"M0,0\" style=\"fill: none;\"/><path class=\"ylines-above crisp\" d=\"M0,0\" style=\"fill: none;\"/><g class=\"overlines-above\"/><g class=\"xaxislayer-above\"/><g class=\"yaxislayer-above\"/><g class=\"overaxes-above\"/></g></g><g class=\"polarlayer\"/><g class=\"smithlayer\"/><g class=\"ternarylayer\"/><g class=\"geolayer\"/><g class=\"funnelarealayer\"/><g class=\"pielayer\"/><g class=\"iciclelayer\"/><g class=\"treemaplayer\"/><g class=\"sunburstlayer\"/><g class=\"glimages\"/><defs id=\"topdefs-7f7761\"><g class=\"clips\"/><clipPath id=\"legend7f7761\"><rect width=\"114\" height=\"162\" x=\"0\" y=\"0\"/></clipPath></defs><g class=\"layer-above\"><g class=\"imagelayer\"/><g class=\"shapelayer\"/></g><g class=\"infolayer\"><g class=\"legend\" pointer-events=\"all\" transform=\"translate(573.6800000000001,100)\"><rect class=\"bg\" shape-rendering=\"crispEdges\" width=\"114\" height=\"162\" x=\"0\" y=\"0\" style=\"stroke: rgb(68, 68, 68); stroke-opacity: 1; fill: rgb(255, 255, 255); fill-opacity: 1; stroke-width: 0px;\"/><g class=\"scrollbox\" transform=\"\" clip-path=\"url(#legend7f7761)\"><g class=\"groups\"><g class=\"traces\" transform=\"translate(0,14.5)\" style=\"opacity: 1;\"><text class=\"legendtext\" text-anchor=\"start\" x=\"40\" y=\"4.680000000000001\" style=\"font-family: 'Open Sans', verdana, arial, sans-serif; font-size: 12px; fill: rgb(36, 36, 36); fill-opacity: 1; white-space: pre;\">beta_x</text><g class=\"layers\" style=\"opacity: 1;\"><g class=\"legendfill\"/><g class=\"legendlines\"><path class=\"js-line\" d=\"M5,0h30\" style=\"fill: none; stroke: rgb(255, 0, 0); stroke-opacity: 1; stroke-width: 3px;\"/></g><g class=\"legendsymbols\"><g class=\"legendpoints\"/></g></g><rect class=\"legendtoggle\" x=\"0\" y=\"-9.5\" width=\"108.046875\" height=\"19\" style=\"fill: rgb(0, 0, 0); fill-opacity: 0;\"/></g><g class=\"traces\" transform=\"translate(0,33.5)\" style=\"opacity: 1;\"><text class=\"legendtext\" text-anchor=\"start\" x=\"40\" y=\"4.680000000000001\" style=\"font-family: 'Open Sans', verdana, arial, sans-serif; font-size: 12px; fill: rgb(36, 36, 36); fill-opacity: 1; white-space: pre;\">beta_y</text><g class=\"layers\" style=\"opacity: 1;\"><g class=\"legendfill\"/><g class=\"legendlines\"><path class=\"js-line\" d=\"M5,0h30\" style=\"fill: none; stroke: rgb(0, 0, 255); stroke-opacity: 1; stroke-width: 3px;\"/></g><g class=\"legendsymbols\"><g class=\"legendpoints\"/></g></g><rect class=\"legendtoggle\" x=\"0\" y=\"-9.5\" width=\"108.046875\" height=\"19\" style=\"fill: rgb(0, 0, 0); fill-opacity: 0;\"/></g><g class=\"traces\" transform=\"translate(0,52.5)\" style=\"opacity: 1;\"><text class=\"legendtext\" text-anchor=\"start\" x=\"40\" y=\"4.680000000000001\" style=\"font-family: 'Open Sans', verdana, arial, sans-serif; font-size: 12px; fill: rgb(36, 36, 36); fill-opacity: 1; white-space: pre;\">back. beta_x</text><g class=\"layers\" style=\"opacity: 0.4;\"><g class=\"legendfill\"/><g class=\"legendlines\"><path class=\"js-line\" d=\"M5,0h30\" style=\"fill: none; stroke: rgb(255, 0, 0); stroke-opacity: 1; stroke-dasharray: 9px, 9px; stroke-width: 2px;\"/></g><g class=\"legendsymbols\"><g class=\"legendpoints\"/></g></g><rect class=\"legendtoggle\" x=\"0\" y=\"-9.5\" width=\"108.046875\" height=\"19\" style=\"fill: rgb(0, 0, 0); fill-opacity: 0;\"/></g><g class=\"traces\" transform=\"translate(0,71.5)\" style=\"opacity: 1;\"><text class=\"legendtext\" text-anchor=\"start\" x=\"40\" y=\"4.680000000000001\" style=\"font-family: 'Open Sans', verdana, arial, sans-serif; font-size: 12px; fill: rgb(36, 36, 36); fill-opacity: 1; white-space: pre;\">back. beta_y</text><g class=\"layers\" style=\"opacity: 0.4;\"><g class=\"legendfill\"/><g class=\"legendlines\"><path class=\"js-line\" d=\"M5,0h30\" style=\"fill: none; stroke: rgb(0, 0, 255); stroke-opacity: 1; stroke-dasharray: 9px, 9px; stroke-width: 2px;\"/></g><g class=\"legendsymbols\"><g class=\"legendpoints\"/></g></g><rect class=\"legendtoggle\" x=\"0\" y=\"-9.5\" width=\"108.046875\" height=\"19\" style=\"fill: rgb(0, 0, 0); fill-opacity: 0;\"/></g><g class=\"traces\" transform=\"translate(0,90.5)\" style=\"opacity: 1;\"><text class=\"legendtext\" text-anchor=\"start\" x=\"40\" y=\"4.680000000000001\" style=\"font-family: 'Open Sans', verdana, arial, sans-serif; font-size: 12px; fill: rgb(36, 36, 36); fill-opacity: 1; white-space: pre;\">D_x</text><g class=\"layers\" style=\"opacity: 1;\"><g class=\"legendfill\"/><g class=\"legendlines\"><path class=\"js-line\" d=\"M5,0h30\" style=\"fill: none; stroke: rgb(255, 0, 0); stroke-opacity: 1; stroke-width: 3px;\"/></g><g class=\"legendsymbols\"><g class=\"legendpoints\"/></g></g><rect class=\"legendtoggle\" x=\"0\" y=\"-9.5\" width=\"108.046875\" height=\"19\" style=\"fill: rgb(0, 0, 0); fill-opacity: 0;\"/></g><g class=\"traces\" transform=\"translate(0,109.5)\" style=\"opacity: 1;\"><text class=\"legendtext\" text-anchor=\"start\" x=\"40\" y=\"4.680000000000001\" style=\"font-family: 'Open Sans', verdana, arial, sans-serif; font-size: 12px; fill: rgb(36, 36, 36); fill-opacity: 1; white-space: pre;\">D_y</text><g class=\"layers\" style=\"opacity: 1;\"><g class=\"legendfill\"/><g class=\"legendlines\"><path class=\"js-line\" d=\"M5,0h30\" style=\"fill: none; stroke: rgb(0, 0, 255); stroke-opacity: 1; stroke-width: 3px;\"/></g><g class=\"legendsymbols\"><g class=\"legendpoints\"/></g></g><rect class=\"legendtoggle\" x=\"0\" y=\"-9.5\" width=\"108.046875\" height=\"19\" style=\"fill: rgb(0, 0, 0); fill-opacity: 0;\"/></g><g class=\"traces\" transform=\"translate(0,128.5)\" style=\"opacity: 1;\"><text class=\"legendtext\" text-anchor=\"start\" x=\"40\" y=\"4.680000000000001\" style=\"font-family: 'Open Sans', verdana, arial, sans-serif; font-size: 12px; fill: rgb(36, 36, 36); fill-opacity: 1; white-space: pre;\">back. D_x</text><g class=\"layers\" style=\"opacity: 0.4;\"><g class=\"legendfill\"/><g class=\"legendlines\"><path class=\"js-line\" d=\"M5,0h30\" style=\"fill: none; stroke: rgb(255, 0, 0); stroke-opacity: 1; stroke-dasharray: 9px, 9px; stroke-width: 2px;\"/></g><g class=\"legendsymbols\"><g class=\"legendpoints\"/></g></g><rect class=\"legendtoggle\" x=\"0\" y=\"-9.5\" width=\"108.046875\" height=\"19\" style=\"fill: rgb(0, 0, 0); fill-opacity: 0;\"/></g><g class=\"traces\" transform=\"translate(0,147.5)\" style=\"opacity: 1;\"><text class=\"legendtext\" text-anchor=\"start\" x=\"40\" y=\"4.680000000000001\" style=\"font-family: 'Open Sans', verdana, arial, sans-serif; font-size: 12px; fill: rgb(36, 36, 36); fill-opacity: 1; white-space: pre;\">back. D_y</text><g class=\"layers\" style=\"opacity: 0.4;\"><g class=\"legendfill\"/><g class=\"legendlines\"><path class=\"js-line\" d=\"M5,0h30\" style=\"fill: none; stroke: rgb(0, 0, 255); stroke-opacity: 1; stroke-dasharray: 9px, 9px; stroke-width: 2px;\"/></g><g class=\"legendsymbols\"><g class=\"legendpoints\"/></g></g><rect class=\"legendtoggle\" x=\"0\" y=\"-9.5\" width=\"108.046875\" height=\"19\" style=\"fill: rgb(0, 0, 0); fill-opacity: 0;\"/></g></g></g><rect class=\"scrollbar\" rx=\"20\" ry=\"3\" width=\"0\" height=\"0\" x=\"0\" y=\"0\" style=\"fill: rgb(128, 139, 164); fill-opacity: 1;\"/></g><g class=\"g-gtitle\"/><g class=\"g-xtitle\"><text class=\"xtitle\" x=\"322\" y=\"352.909375\" text-anchor=\"middle\" style=\"opacity: 1; font-family: 'Open Sans', verdana, arial, sans-serif; font-size: 14px; fill: rgb(36, 36, 36); fill-opacity: 1; white-space: pre;\">s (m)</text></g><g class=\"g-ytitle\"><text class=\"ytitle\" transform=\"rotate(-90,38.85,202.6)\" x=\"38.85\" y=\"202.6\" text-anchor=\"middle\" style=\"opacity: 1; font-family: 'Open Sans', verdana, arial, sans-serif; font-size: 14px; fill: rgb(36, 36, 36); fill-opacity: 1; white-space: pre;\">beta_x,y (m)</text></g><g class=\"g-y2title\"><text class=\"y2title\" transform=\"rotate(-90,28.50625,464.8)\" x=\"28.50625\" y=\"464.8\" text-anchor=\"middle\" style=\"opacity: 1; font-family: 'Open Sans', verdana, arial, sans-serif; font-size: 14px; fill: rgb(36, 36, 36); fill-opacity: 1; white-space: pre;\">D_x,y (m)</text></g></g></svg>"
      ]
     },
     "metadata": {},
     "output_type": "display_data"
    }
   ],
   "source": [
    "fw.show(renderer=\"svg\")"
   ]
  },
  {
   "cell_type": "code",
   "execution_count": 24,
   "metadata": {},
   "outputs": [
    {
     "data": {
      "text/html": [
       "<div>\n",
       "<style scoped>\n",
       "    .dataframe tbody tr th:only-of-type {\n",
       "        vertical-align: middle;\n",
       "    }\n",
       "\n",
       "    .dataframe tbody tr th {\n",
       "        vertical-align: top;\n",
       "    }\n",
       "\n",
       "    .dataframe thead th {\n",
       "        text-align: right;\n",
       "    }\n",
       "</style>\n",
       "<table border=\"1\" class=\"dataframe\">\n",
       "  <thead>\n",
       "    <tr style=\"text-align: right;\">\n",
       "      <th></th>\n",
       "      <th>ElementName</th>\n",
       "      <th>ElementParameter</th>\n",
       "      <th>ParameterValue</th>\n",
       "      <th>ParameterValueString</th>\n",
       "      <th>ElementType</th>\n",
       "      <th>ElementOccurence</th>\n",
       "      <th>ElementGroup</th>\n",
       "    </tr>\n",
       "  </thead>\n",
       "  <tbody>\n",
       "    <tr>\n",
       "      <th>0</th>\n",
       "      <td>QDOGF</td>\n",
       "      <td>K1</td>\n",
       "      <td>7.86</td>\n",
       "      <td>NaN</td>\n",
       "      <td>QUAD</td>\n",
       "      <td>1</td>\n",
       "      <td>NaN</td>\n",
       "    </tr>\n",
       "    <tr>\n",
       "      <th>1</th>\n",
       "      <td>Q60</td>\n",
       "      <td>K1</td>\n",
       "      <td>-4.60</td>\n",
       "      <td>NaN</td>\n",
       "      <td>QUAD</td>\n",
       "      <td>1</td>\n",
       "      <td>NaN</td>\n",
       "    </tr>\n",
       "    <tr>\n",
       "      <th>2</th>\n",
       "      <td>Q50</td>\n",
       "      <td>K1</td>\n",
       "      <td>4.60</td>\n",
       "      <td>NaN</td>\n",
       "      <td>QUAD</td>\n",
       "      <td>1</td>\n",
       "      <td>NaN</td>\n",
       "    </tr>\n",
       "    <tr>\n",
       "      <th>3</th>\n",
       "      <td>Q40</td>\n",
       "      <td>K1</td>\n",
       "      <td>-4.68</td>\n",
       "      <td>NaN</td>\n",
       "      <td>QUAD</td>\n",
       "      <td>1</td>\n",
       "      <td>NaN</td>\n",
       "    </tr>\n",
       "    <tr>\n",
       "      <th>4</th>\n",
       "      <td>QDOGD</td>\n",
       "      <td>K1</td>\n",
       "      <td>-1.00</td>\n",
       "      <td>NaN</td>\n",
       "      <td>QUAD</td>\n",
       "      <td>1</td>\n",
       "      <td>NaN</td>\n",
       "    </tr>\n",
       "  </tbody>\n",
       "</table>\n",
       "</div>"
      ],
      "text/plain": [
       "  ElementName ElementParameter  ParameterValue  ParameterValueString  \\\n",
       "0       QDOGF               K1            7.86                   NaN   \n",
       "1         Q60               K1           -4.60                   NaN   \n",
       "2         Q50               K1            4.60                   NaN   \n",
       "3         Q40               K1           -4.68                   NaN   \n",
       "4       QDOGD               K1           -1.00                   NaN   \n",
       "\n",
       "  ElementType  ElementOccurence  ElementGroup  \n",
       "0        QUAD                 1           NaN  \n",
       "1        QUAD                 1           NaN  \n",
       "2        QUAD                 1           NaN  \n",
       "3        QUAD                 1           NaN  \n",
       "4        QUAD                 1           NaN  "
      ]
     },
     "execution_count": 24,
     "metadata": {},
     "output_type": "execute_result"
    }
   ],
   "source": [
    "sdds2df('parameters2load.sdds')"
   ]
  },
  {
   "cell_type": "markdown",
   "metadata": {},
   "source": [
    "Now let us tune the final focusing triplet and the central dogleg quadrupole:"
   ]
  },
  {
   "cell_type": "code",
   "execution_count": 25,
   "metadata": {},
   "outputs": [
    {
     "data": {
      "application/vnd.jupyter.widget-view+json": {
       "model_id": "939a0b065c89473483821f13ccb88f6f",
       "version_major": 2,
       "version_minor": 0
      },
      "text/plain": [
       "interactive(children=(FloatSlider(value=-1.0, description='QDOGD', max=0.0, min=-10.0, step=0.02), FloatSlider…"
      ]
     },
     "metadata": {},
     "output_type": "display_data"
    }
   ],
   "source": [
    "@interact(QDOGD=(-10,0,0.02), Q40=(-10,0,0.02), Q50=(0,15,0.02), Q60=(-10,0,0.02))\n",
    "def update_parameters(\n",
    "        QDOGD=element_par(\"QDOGD\",\"K1\"),\n",
    "        Q40=element_par(\"Q40\",\"K1\"),\n",
    "        Q50=element_par(\"Q50\",\"K1\"),\n",
    "        Q60=element_par(\"Q60\",\"K1\") ):\n",
    "    \n",
    "    change_par(\"QDOGD\", \"K1\", QDOGD)\n",
    "    change_par(\"Q40\", \"K1\", Q40)\n",
    "    change_par(\"Q50\", \"K1\", Q50)\n",
    "    change_par(\"Q60\", \"K1\", Q60)\n",
    "    \n",
    "    update_figure()"
   ]
  },
  {
   "cell_type": "code",
   "execution_count": 26,
   "metadata": {},
   "outputs": [
    {
     "data": {
      "application/vnd.jupyter.widget-view+json": {
       "model_id": "5e788ce43c034460a76d8e7593bb12b5",
       "version_major": 2,
       "version_minor": 0
      },
      "text/plain": [
       "FigureWidget({\n",
       "    'data': [{'line': {'color': 'red', 'width': 3},\n",
       "              'mode': 'lines',\n",
       "              'name': 'beta_x',\n",
       "              'type': 'scatter',\n",
       "              'uid': 'b78b5544-707a-4178-ba33-ee4041c26445',\n",
       "              'x': array([ 0.  ,  0.05,  0.1 , ..., 12.5 , 12.55, 12.6 ]),\n",
       "              'xaxis': 'x',\n",
       "              'y': array([  30.        ,   30.00008333,   30.00033333, ..., 5305.28612631,\n",
       "                          5481.01984817, 5659.61686732]),\n",
       "              'yaxis': 'y'},\n",
       "             {'line': {'color': 'blue', 'width': 3},\n",
       "              'mode': 'lines',\n",
       "              'name': 'beta_y',\n",
       "              'type': 'scatter',\n",
       "              'uid': '7133f32e-12f5-41ca-9603-cd409f162d1b',\n",
       "              'x': array([ 0.  ,  0.05,  0.1 , ..., 12.5 , 12.55, 12.6 ]),\n",
       "              'xaxis': 'x',\n",
       "              'y': array([30.        , 30.00008333, 30.00033333, ..., 60.49097462, 69.54518154,\n",
       "                          79.23066127]),\n",
       "              'yaxis': 'y'},\n",
       "             {'line': {'color': 'red', 'dash': 'dash', 'width': 2},\n",
       "              'mode': 'lines',\n",
       "              'name': 'back. beta_x',\n",
       "              'opacity': 0.4,\n",
       "              'type': 'scatter',\n",
       "              'uid': 'cc054a3d-fa72-416e-a1b5-ab53292f2c1e',\n",
       "              'x': array([12.6 , 12.55, 12.5 , ...,  0.1 ,  0.05,  0.  ]),\n",
       "              'xaxis': 'x',\n",
       "              'y': array([2.00000000e-01, 2.12500000e-01, 2.50000000e-01, ..., 1.19727976e+04,\n",
       "                          1.23093605e+04, 1.26505885e+04]),\n",
       "              'yaxis': 'y'},\n",
       "             {'line': {'color': 'blue', 'dash': 'dash', 'width': 2},\n",
       "              'mode': 'lines',\n",
       "              'name': 'back. beta_y',\n",
       "              'opacity': 0.4,\n",
       "              'type': 'scatter',\n",
       "              'uid': 'c82d516f-0b91-4c18-a21d-2bb1ca209123',\n",
       "              'x': array([12.6 , 12.55, 12.5 , ...,  0.1 ,  0.05,  0.  ]),\n",
       "              'xaxis': 'x',\n",
       "              'y': array([2.00000000e-01, 2.12500000e-01, 2.50000000e-01, ..., 1.08389532e+04,\n",
       "                          1.08535741e+04, 1.08682049e+04]),\n",
       "              'yaxis': 'y'},\n",
       "             {'line': {'color': 'red', 'width': 3},\n",
       "              'mode': 'lines',\n",
       "              'name': 'D_x',\n",
       "              'type': 'scatter',\n",
       "              'uid': 'ccfe770a-3d4c-4047-bb23-685c15a0f299',\n",
       "              'x': array([ 0.  ,  0.05,  0.1 , ..., 12.5 , 12.55, 12.6 ]),\n",
       "              'xaxis': 'x',\n",
       "              'y': array([ 0.        ,  0.        ,  0.        , ..., -0.06974977, -0.07087566,\n",
       "                          -0.07200154]),\n",
       "              'yaxis': 'y2'},\n",
       "             {'line': {'color': 'blue', 'width': 3},\n",
       "              'mode': 'lines',\n",
       "              'name': 'D_y',\n",
       "              'type': 'scatter',\n",
       "              'uid': '2426c79e-b05a-4531-b7f0-001e6aca7c82',\n",
       "              'x': array([ 0.  ,  0.05,  0.1 , ..., 12.5 , 12.55, 12.6 ]),\n",
       "              'xaxis': 'x',\n",
       "              'y': array([0., 0., 0., ..., 0., 0., 0.]),\n",
       "              'yaxis': 'y2'},\n",
       "             {'line': {'color': 'red', 'dash': 'dash', 'width': 2},\n",
       "              'mode': 'lines',\n",
       "              'name': 'back. D_x',\n",
       "              'opacity': 0.4,\n",
       "              'type': 'scatter',\n",
       "              'uid': 'a55b8b22-51d9-4cec-b64a-ed088a51ca8e',\n",
       "              'x': array([12.6 , 12.55, 12.5 , ...,  0.1 ,  0.05,  0.  ]),\n",
       "              'xaxis': 'x',\n",
       "              'y': array([0.        , 0.        , 0.        , ..., 0.02402929, 0.02429098,\n",
       "                          0.02455266]),\n",
       "              'yaxis': 'y2'},\n",
       "             {'line': {'color': 'blue', 'dash': 'dash', 'width': 2},\n",
       "              'mode': 'lines',\n",
       "              'name': 'back. D_y',\n",
       "              'opacity': 0.4,\n",
       "              'type': 'scatter',\n",
       "              'uid': '6ad45f40-3746-4eb6-bcb7-1e77d42b57f1',\n",
       "              'x': array([12.6 , 12.55, 12.5 , ...,  0.1 ,  0.05,  0.  ]),\n",
       "              'xaxis': 'x',\n",
       "              'y': array([0., 0., 0., ..., 0., 0., 0.]),\n",
       "              'yaxis': 'y2'},\n",
       "             {'hoverinfo': 'text',\n",
       "              'hovertext': array(['_BEGIN_', 'D10', 'D10', ..., 'DFF', 'DFF', 'DFF'], dtype=object),\n",
       "              'line': {'color': 'gray', 'width': 2},\n",
       "              'mode': 'lines',\n",
       "              'showlegend': False,\n",
       "              'type': 'scatter',\n",
       "              'uid': '99d4ac4c-6b21-48b3-a232-f4efc910d151',\n",
       "              'x': array([ 0.  ,  0.  ,  0.05, ..., 12.55, 12.55, 12.6 ]),\n",
       "              'xaxis': 'x',\n",
       "              'y': array([0., 0., 0., ..., 0., 0., 0.]),\n",
       "              'yaxis': 'y3'}],\n",
       "    'layout': {'height': 750,\n",
       "               'hovermode': 'x unified',\n",
       "               'template': '...',\n",
       "               'xaxis': {'anchor': 'y',\n",
       "                         'domain': [0.0, 1.0],\n",
       "                         'matches': 'x3',\n",
       "                         'showgrid': True,\n",
       "                         'showticklabels': True,\n",
       "                         'title': {'text': 's (m)'}},\n",
       "               'xaxis2': {'anchor': 'y2', 'domain': [0.0, 1.0], 'matches': 'x3', 'showticklabels': False},\n",
       "               'xaxis3': {'anchor': 'y3', 'domain': [0.0, 1.0], 'visible': False},\n",
       "               'yaxis': {'anchor': 'x',\n",
       "                         'domain': [0.64, 1.0],\n",
       "                         'range': [0, 70],\n",
       "                         'showgrid': True,\n",
       "                         'title': {'text': 'beta_x,y (m)'}},\n",
       "               'yaxis2': {'anchor': 'x2',\n",
       "                          'domain': [0.18, 0.54],\n",
       "                          'range': [-1, 1],\n",
       "                          'showgrid': True,\n",
       "                          'title': {'text': 'D_x,y (m)'}},\n",
       "               'yaxis3': {'anchor': 'x3', 'domain': [0.0, 0.08000000000000002], 'visible': False}}\n",
       "})"
      ]
     },
     "execution_count": 26,
     "metadata": {},
     "output_type": "execute_result"
    }
   ],
   "source": [
    "fw"
   ]
  },
  {
   "attachments": {
    "image.png": {
     "image/png": "[encoded data removed]"
    }
   },
   "cell_type": "markdown",
   "metadata": {},
   "source": [
    "The widget looks like this:\n",
    "\n",
    "![image.png](attachment:image.png)"
   ]
  },
  {
   "cell_type": "code",
   "execution_count": 27,
   "metadata": {},
   "outputs": [
    {
     "ename": "AssertionError",
     "evalue": "breakpoint",
     "output_type": "error",
     "traceback": [
      "\u001b[0;31m---------------------------------------------------------------------------\u001b[0m",
      "\u001b[0;31mAssertionError\u001b[0m                            Traceback (most recent call last)",
      "Cell \u001b[0;32mIn[27], line 1\u001b[0m\n\u001b[0;32m----> 1\u001b[0m \u001b[38;5;28;01massert\u001b[39;00m \u001b[38;5;28;01mFalse\u001b[39;00m, \u001b[38;5;124m\"\u001b[39m\u001b[38;5;124mbreakpoint\u001b[39m\u001b[38;5;124m\"\u001b[39m\n",
      "\u001b[0;31mAssertionError\u001b[0m: breakpoint"
     ]
    }
   ],
   "source": [
    "assert False, \"breakpoint\""
   ]
  },
  {
   "cell_type": "code",
   "execution_count": null,
   "metadata": {},
   "outputs": [],
   "source": [
    "fw.show(renderer=\"svg\")"
   ]
  },
  {
   "cell_type": "markdown",
   "metadata": {},
   "source": [
    "Now we can finally tune the first quadrupole triplet:"
   ]
  },
  {
   "cell_type": "code",
   "execution_count": null,
   "metadata": {},
   "outputs": [],
   "source": [
    "@interact(Q10=(-10,0,0.01), Q20=(0,15,0.01), Q30=(-10,0,0.01))\n",
    "def update_parameters(\n",
    "        Q10=element_par(\"Q10\",\"K1\"),\n",
    "        Q20=element_par(\"Q20\",\"K1\"),\n",
    "        Q30=element_par(\"Q30\",\"K1\") ):\n",
    "    \n",
    "    change_par(\"Q10\", \"K1\", Q10)\n",
    "    change_par(\"Q20\", \"K1\", Q20)\n",
    "    change_par(\"Q30\", \"K1\", Q30)\n",
    "    \n",
    "    update_figure()"
   ]
  },
  {
   "cell_type": "code",
   "execution_count": null,
   "metadata": {},
   "outputs": [],
   "source": [
    "fw"
   ]
  },
  {
   "cell_type": "markdown",
   "metadata": {},
   "source": [
    "Resulting parameters are saved in the parameters2load.sdds:"
   ]
  },
  {
   "cell_type": "code",
   "execution_count": 28,
   "metadata": {},
   "outputs": [
    {
     "data": {
      "text/html": [
       "<div>\n",
       "<style scoped>\n",
       "    .dataframe tbody tr th:only-of-type {\n",
       "        vertical-align: middle;\n",
       "    }\n",
       "\n",
       "    .dataframe tbody tr th {\n",
       "        vertical-align: top;\n",
       "    }\n",
       "\n",
       "    .dataframe thead th {\n",
       "        text-align: right;\n",
       "    }\n",
       "</style>\n",
       "<table border=\"1\" class=\"dataframe\">\n",
       "  <thead>\n",
       "    <tr style=\"text-align: right;\">\n",
       "      <th></th>\n",
       "      <th>ElementName</th>\n",
       "      <th>ElementParameter</th>\n",
       "      <th>ParameterValue</th>\n",
       "      <th>ParameterValueString</th>\n",
       "      <th>ElementType</th>\n",
       "      <th>ElementOccurence</th>\n",
       "      <th>ElementGroup</th>\n",
       "    </tr>\n",
       "  </thead>\n",
       "  <tbody>\n",
       "    <tr>\n",
       "      <th>0</th>\n",
       "      <td>Q60</td>\n",
       "      <td>K1</td>\n",
       "      <td>-4.60</td>\n",
       "      <td>NaN</td>\n",
       "      <td>QUAD</td>\n",
       "      <td>1</td>\n",
       "      <td>NaN</td>\n",
       "    </tr>\n",
       "    <tr>\n",
       "      <th>1</th>\n",
       "      <td>Q50</td>\n",
       "      <td>K1</td>\n",
       "      <td>4.60</td>\n",
       "      <td>NaN</td>\n",
       "      <td>QUAD</td>\n",
       "      <td>1</td>\n",
       "      <td>NaN</td>\n",
       "    </tr>\n",
       "    <tr>\n",
       "      <th>2</th>\n",
       "      <td>Q40</td>\n",
       "      <td>K1</td>\n",
       "      <td>-4.68</td>\n",
       "      <td>NaN</td>\n",
       "      <td>QUAD</td>\n",
       "      <td>1</td>\n",
       "      <td>NaN</td>\n",
       "    </tr>\n",
       "    <tr>\n",
       "      <th>3</th>\n",
       "      <td>QDOGD</td>\n",
       "      <td>K1</td>\n",
       "      <td>-1.00</td>\n",
       "      <td>NaN</td>\n",
       "      <td>QUAD</td>\n",
       "      <td>1</td>\n",
       "      <td>NaN</td>\n",
       "    </tr>\n",
       "    <tr>\n",
       "      <th>4</th>\n",
       "      <td>QDOGF</td>\n",
       "      <td>K1</td>\n",
       "      <td>7.86</td>\n",
       "      <td>NaN</td>\n",
       "      <td>QUAD</td>\n",
       "      <td>1</td>\n",
       "      <td>NaN</td>\n",
       "    </tr>\n",
       "  </tbody>\n",
       "</table>\n",
       "</div>"
      ],
      "text/plain": [
       "  ElementName ElementParameter  ParameterValue  ParameterValueString  \\\n",
       "0         Q60               K1           -4.60                   NaN   \n",
       "1         Q50               K1            4.60                   NaN   \n",
       "2         Q40               K1           -4.68                   NaN   \n",
       "3       QDOGD               K1           -1.00                   NaN   \n",
       "4       QDOGF               K1            7.86                   NaN   \n",
       "\n",
       "  ElementType  ElementOccurence  ElementGroup  \n",
       "0        QUAD                 1           NaN  \n",
       "1        QUAD                 1           NaN  \n",
       "2        QUAD                 1           NaN  \n",
       "3        QUAD                 1           NaN  \n",
       "4        QUAD                 1           NaN  "
      ]
     },
     "execution_count": 28,
     "metadata": {},
     "output_type": "execute_result"
    }
   ],
   "source": [
    "sdds2df('parameters2load.sdds')"
   ]
  },
  {
   "cell_type": "code",
   "execution_count": null,
   "metadata": {},
   "outputs": [],
   "source": [
    "fw.show(renderer=\"svg\")"
   ]
  },
  {
   "cell_type": "code",
   "execution_count": null,
   "metadata": {},
   "outputs": [],
   "source": [
    "%load_ext watermark"
   ]
  },
  {
   "cell_type": "code",
   "execution_count": null,
   "metadata": {},
   "outputs": [],
   "source": [
    "%watermark --python --date --iversions --machine"
   ]
  },
  {
   "cell_type": "code",
   "execution_count": 30,
   "metadata": {},
   "outputs": [
    {
     "name": "stdout",
     "output_type": "stream",
     "text": [
      "[NbConvertApp] Converting notebook twiss_interact.ipynb to HTML\n",
      "[NbConvertApp] WARNING | Alternative text is missing on 2 image(s).\n",
      "[NbConvertApp] Writing 544405 bytes to twiss_interact.html\n"
     ]
    }
   ],
   "source": [
    "!jupyter nbconvert --to HTML twiss_interact.ipynb"
   ]
  },
  {
   "cell_type": "code",
   "execution_count": null,
   "metadata": {},
   "outputs": [],
   "source": [
    "pwd"
   ]
  },
  {
   "cell_type": "code",
   "execution_count": null,
   "metadata": {},
   "outputs": [],
   "source": [
    "ls -h -all"
   ]
  },
  {
   "cell_type": "code",
   "execution_count": null,
   "metadata": {
    "tags": []
   },
   "outputs": [],
   "source": []
  }
 ],
 "metadata": {
  "anaconda-cloud": {},
  "hide_input": false,
  "kernelspec": {
   "display_name": "Python 3 (ipykernel)",
   "language": "python",
   "name": "python3"
  },
  "language_info": {
   "codemirror_mode": {
    "name": "ipython",
    "version": 3
   },
   "file_extension": ".py",
   "mimetype": "text/x-python",
   "name": "python",
   "nbconvert_exporter": "python",
   "pygments_lexer": "ipython3",
   "version": "3.12.2"
  }
 },
 "nbformat": 4,
 "nbformat_minor": 4
}
